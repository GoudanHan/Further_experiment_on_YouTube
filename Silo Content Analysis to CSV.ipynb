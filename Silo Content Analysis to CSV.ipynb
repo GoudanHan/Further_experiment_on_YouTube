{
 "cells": [
  {
   "cell_type": "code",
   "execution_count": 120,
   "metadata": {
    "collapsed": true
   },
   "outputs": [],
   "source": [
    "\n",
    "import anytree.search\n",
    "import matplotlib.pyplot as plt\n",
    "import pandas as pd\n",
    "from anytree.importer import JsonImporter\n",
    "import os\n",
    "import json\n",
    "import datetime\n",
    "import numpy as np"
   ]
  },
  {
   "cell_type": "code",
   "execution_count": 11,
   "outputs": [],
   "source": [
    "# survey.csv\n",
    "# depth.csv\n",
    "# breadth.csv"
   ],
   "metadata": {
    "collapsed": false,
    "pycharm": {
     "name": "#%%\n"
    }
   }
  },
  {
   "cell_type": "code",
   "execution_count": 91,
   "outputs": [],
   "source": [
    "right_wing_seeds = []\n",
    "left_wing_seeds = []\n",
    "\n",
    "channels_df = pd.read_csv('C:\\\\Users\\\\mikad\\\\PycharmProjects\\\\Comp_396_YouTube_Radicalization\\\\channel_review.csv')\n",
    "\n",
    "with open('C:\\\\Users\\\\mikad\\\\PycharmProjects\\\\Comp_396_YouTube_Radicalization\\\\seeds\\\\seeds_right') as outfile:\n",
    "    lines = outfile.read().splitlines()\n",
    "    for i in lines:\n",
    "        right_wing_seeds.append(i)\n",
    "\n",
    "with open('C:\\\\Users\\\\mikad\\\\PycharmProjects\\\\Comp_396_YouTube_Radicalization\\\\seeds\\\\seeds_left') as outfile:\n",
    "    lines = outfile.read().splitlines()\n",
    "    for i in lines:\n",
    "        left_wing_seeds.append(i)"
   ],
   "metadata": {
    "collapsed": false,
    "pycharm": {
     "name": "#%%\n"
    }
   }
  },
  {
   "cell_type": "code",
   "execution_count": 92,
   "outputs": [
    {
     "name": "stdout",
     "output_type": "stream",
     "text": [
      "17126\n"
     ]
    }
   ],
   "source": [
    "#get dictionary of dictionairies\n",
    "path_videos = 'D:\\\\Data Science\\\\YouTube Content Silos\\\\Videos'\n",
    "video_info = {}\n",
    "json_files = os.listdir(path_videos)\n",
    "\n",
    "for file in json_files:\n",
    "    with open(path_videos+ '/' +file, 'r') as outfile:\n",
    "        data = json.load(outfile)\n",
    "        video_info.update(data)\n",
    "\n",
    "print(len(video_info.keys()))"
   ],
   "metadata": {
    "collapsed": false,
    "pycharm": {
     "name": "#%%\n"
    }
   }
  },
  {
   "cell_type": "code",
   "execution_count": 93,
   "outputs": [],
   "source": [
    "tags_right = ['AntiSJW', 'Conspiracy', 'PartisanRight', 'ReligiousConservative', 'WhiteIdentitarian', 'Libertarian', 'MRA', 'Total']\n",
    "tags_left = ['SocialJustice', 'Socialist', 'PartisanLeft', 'AntiWhiteness', 'LGBT']\n",
    "\n",
    "all_tags  = tags_right + tags_left"
   ],
   "metadata": {
    "collapsed": false,
    "pycharm": {
     "name": "#%%\n"
    }
   }
  },
  {
   "cell_type": "code",
   "execution_count": 137,
   "outputs": [],
   "source": [
    "# paths to everything\n",
    "path_survey_trees = \"D:\\\\Data Science\\\\YouTube Content Silos\\\\Survey\\\\tree\"\n",
    "path_survey_homepage = \"D:\\\\Data Science\\\\YouTube Content Silos\\\\Survey\\\\homepage\"\n",
    "\n",
    "survey_trees = os.listdir(path_survey_trees)\n",
    "survey_homepages = os.listdir(path_survey_homepage)\n",
    "\n",
    "path_depth_trees = \"D:\\\\Data Science\\\\YouTube Content Silos\\\\Depth\\\\tree\"\n",
    "path_depth_homepage = \"D:\\\\Data Science\\\\YouTube Content Silos\\\\Depth\\\\homepage\"\n",
    "\n",
    "depth_trees = os.listdir(path_depth_trees)\n",
    "depth_homepages = os.listdir(path_depth_homepage)\n",
    "\n",
    "path_breadth_trees = \"D:\\\\Data Science\\\\YouTube Content Silos\\\\Breadth\\\\Scraping-21-02-22\\\\tree\"\n",
    "path_breadth_homepage = \"D:\\\\Data Science\\\\YouTube Content Silos\\\\Breadth\\\\Scraping-21-02-22\\\\homepage\"\n",
    "\n",
    "breadth_trees = os.listdir(path_breadth_trees)\n",
    "breadth_homepages = os.listdir(path_breadth_homepage)"
   ],
   "metadata": {
    "collapsed": false,
    "pycharm": {
     "name": "#%%\n"
    }
   }
  },
  {
   "cell_type": "code",
   "execution_count": 95,
   "outputs": [],
   "source": [
    "# urls that are not in the dictionairy that we would like to visit\n",
    "urls_to_visit = []"
   ],
   "metadata": {
    "collapsed": false,
    "pycharm": {
     "name": "#%%\n"
    }
   }
  },
  {
   "cell_type": "markdown",
   "source": [
    "# 1. Get all the required video urls\n",
    "\n",
    "To-do\n",
    "* replace the breadth homepage urls\n",
    "* homepage video urls\n",
    "* recommended video urls\n",
    "* tree node urls"
   ],
   "metadata": {
    "collapsed": false,
    "pycharm": {
     "name": "#%% md\n"
    }
   }
  },
  {
   "cell_type": "code",
   "execution_count": 96,
   "outputs": [],
   "source": [
    "importer = JsonImporter()\n",
    "\n",
    "def text_to_date(date: str):\n",
    "    date = date.replace(',', '')\n",
    "    split_date = date.split(' ')\n",
    "    return datetime.date(year=split_date[2], month=split_date[0], day=split_date[1])\n",
    "\n",
    "def homepage_file_to_url(path_file:str):\n",
    "    homepages = []\n",
    "    with open(path_file, 'r') as outfile:\n",
    "        lines = outfile.read().splitlines()\n",
    "        lines = [i for i in lines if not(i == None)]\n",
    "        lines = lines[0 : min(10, len(lines))]\n",
    "\n",
    "        for i in lines:\n",
    "            if not (i in video_info.keys()):\n",
    "                homepages.append(i)\n",
    "        outfile.close()\n",
    "    return homepages\n",
    "\n",
    "def tree_file_to_url_list(file_path: str):\n",
    "    urls = []\n",
    "    with open(file_path, 'r') as outfile:\n",
    "        data = outfile.read()\n",
    "        root = importer.import_(data)\n",
    "        for t in anytree.LevelOrderIter(root):\n",
    "            if not(t.id == 'dummy'):\n",
    "                recommended_videos = t.top_10_recommended\n",
    "                recommended_videos = [i for i in recommended_videos if not(i == None)]\n",
    "                recommended_videos = recommended_videos[0:min(5, len(recommended_videos))]\n",
    "\n",
    "                video_url = t.id\n",
    "                urls.append(video_url)\n",
    "                for reco_urls in recommended_videos:\n",
    "                    urls.append(reco_urls)\n",
    "    return urls"
   ],
   "metadata": {
    "collapsed": false,
    "pycharm": {
     "name": "#%%\n"
    }
   }
  },
  {
   "cell_type": "code",
   "execution_count": 97,
   "outputs": [],
   "source": [
    "count = 0\n",
    "for d_trees in depth_trees:\n",
    "    urls = tree_file_to_url_list(path_depth_trees + '\\\\' + d_trees)\n",
    "    for i in urls:\n",
    "        count += 1\n",
    "        if not(i in video_info.keys()):\n",
    "            urls_to_visit.append(i)\n",
    "\n",
    "for s_trees in survey_trees:\n",
    "    urls = tree_file_to_url_list(path_survey_trees + '\\\\' + s_trees)\n",
    "    for i in urls:\n",
    "        count += 1\n",
    "        if not(i in video_info.keys()):\n",
    "            urls_to_visit.append(i)"
   ],
   "metadata": {
    "collapsed": false,
    "pycharm": {
     "name": "#%%\n"
    }
   }
  },
  {
   "cell_type": "code",
   "execution_count": 98,
   "outputs": [],
   "source": [
    "# cycle through the homepages and get the urls\n",
    "all_homepages = [survey_homepages, depth_homepages, breadth_homepages]\n",
    "all_paths = [path_survey_homepage, path_depth_homepage, path_breadth_homepage]\n",
    "\n",
    "for homepage_file, path in zip(all_homepages, all_paths):\n",
    "    for file in homepage_file:\n",
    "        file_path = path + '\\\\' + file\n",
    "        with open(file_path, 'r') as outfile:\n",
    "            urls = homepage_file_to_url(file_path)\n",
    "            for i in urls:\n",
    "                if not(i in video_info.keys()):\n",
    "                    urls_to_visit.append(i)"
   ],
   "metadata": {
    "collapsed": false,
    "pycharm": {
     "name": "#%%\n"
    }
   }
  },
  {
   "cell_type": "code",
   "execution_count": 99,
   "outputs": [
    {
     "name": "stdout",
     "output_type": "stream",
     "text": [
      "0\n"
     ]
    }
   ],
   "source": [
    "urls_to_visit = list(set(urls_to_visit))\n",
    "print(len(set(urls_to_visit)))"
   ],
   "metadata": {
    "collapsed": false,
    "pycharm": {
     "name": "#%%r\n"
    }
   }
  },
  {
   "cell_type": "code",
   "execution_count": 68,
   "outputs": [],
   "source": [
    "text_file_video_urls = open(f'{os.getcwd()}\\\\Videos to visit\\\\video urls.txt', 'w+')\n",
    "for urls in urls_to_visit:\n",
    "    text_file_video_urls.write(urls + '\\n')\n",
    "text_file_video_urls.close()"
   ],
   "metadata": {
    "collapsed": false,
    "pycharm": {
     "name": "#%%\n"
    }
   }
  },
  {
   "cell_type": "markdown",
   "source": [
    "# 2. Perform data analysis\n",
    "\n",
    "## a. Helper Scripts"
   ],
   "metadata": {
    "collapsed": false,
    "pycharm": {
     "name": "#%% md\n"
    }
   }
  },
  {
   "cell_type": "code",
   "execution_count": 100,
   "outputs": [],
   "source": [
    "#scripts common to all\n",
    "\n",
    "\"\"\"\n",
    "input : string\n",
    "    - name of the YouTube video content creator\n",
    "output : int\n",
    "    - 1 -> content creator is right wing\n",
    "    - (-1) -> content creator is left wing\n",
    "    - 0 -> content creator is neither\n",
    "\"\"\"\n",
    "def content_creator_to_bias(content_creator):\n",
    "    try:\n",
    "        if (channels_df['CHANNEL_TITLE'].str.contains('^'+ content_creator +'$').sum() > 0):\n",
    "            # now check what the type of the channels found were\n",
    "            c = channels_df.loc[channels_df['CHANNEL_TITLE'].str.contains('^'+ content_creator +'$', case=False, na=False)]\n",
    "            for tags in all_tags:\n",
    "                if (c['REVIEWER_TAGS'].str.contains(tags).sum() > 0) or (c['TAGS'].str.contains(tags).sum() > 0):\n",
    "                    if tags in tags_left:\n",
    "                        return 'left rec'\n",
    "                    elif tags in tags_right:\n",
    "                        return 'right rec'\n",
    "        return 'other rec'\n",
    "    except Exception as e:\n",
    "        print(content_creator)\n",
    "        raise ValueError(f'Error raise: \\n{e}')\n",
    "\n",
    "\"\"\"\n",
    "Description: given a url, it will return the content creator of the video\n",
    "input : string\n",
    "    - url of the video whose creator we want\n",
    "output : String || None\n",
    "    - content creator : string\n",
    "    -  None if\n",
    "        * url is None\n",
    "        * url is empty\n",
    "        * url is not known and needs to be scraped\n",
    "\"\"\"\n",
    "def url_to_content_creator(url:str):\n",
    "    if url == None:\n",
    "        return None\n",
    "\n",
    "    url = url.strip('\\n')\n",
    "\n",
    "    if url in video_info.keys():\n",
    "        return video_info[url]['content creator']\n",
    "    elif url == '':\n",
    "        return None\n",
    "    else:\n",
    "        urls_to_visit.append(url)\n",
    "        return None"
   ],
   "metadata": {
    "collapsed": false,
    "pycharm": {
     "name": "#%%\n"
    }
   }
  },
  {
   "cell_type": "markdown",
   "source": [
    "## b. Depth\n",
    "### i. Recommended videos"
   ],
   "metadata": {
    "collapsed": false
   }
  },
  {
   "cell_type": "code",
   "execution_count": 171,
   "outputs": [],
   "source": [
    "importer = JsonImporter()\n",
    "\n",
    "depth_left_ids = []\n",
    "depth_right_ids = []\n",
    "\n",
    "depth_right_trees = []\n",
    "depth_left_trees = []\n",
    "\n",
    "# figure out which files have right wing seed, which have left wing seed\n",
    "for trees in depth_trees:\n",
    "    id = (trees.split('_')[3]).replace('.txt', '')\n",
    "    with open(path_depth_trees + '\\\\' + trees, 'r') as outfile:\n",
    "        data = outfile.read()\n",
    "        root = importer.import_(data)\n",
    "        if root.id in right_wing_seeds:\n",
    "            depth_right_ids.append(id)\n",
    "        else:\n",
    "            depth_left_ids.append(id)"
   ],
   "metadata": {
    "collapsed": false,
    "pycharm": {
     "name": "#%%\n"
    }
   }
  },
  {
   "cell_type": "code",
   "execution_count": 101,
   "outputs": [
    {
     "name": "stdout",
     "output_type": "stream",
     "text": [
      "1/79False\n",
      "2/79False\n",
      "3/79False\n",
      "4/79False\n",
      "5/79False\n",
      "6/79"
     ]
    },
    {
     "name": "stderr",
     "output_type": "stream",
     "text": [
      "C:\\Users\\mikad\\anaconda3\\lib\\site-packages\\pandas\\core\\strings\\accessor.py:101: UserWarning: This pattern has match groups. To actually get the groups, use str.extract.\n",
      "  return func(self, *args, **kwargs)\n"
     ]
    },
    {
     "name": "stdout",
     "output_type": "stream",
     "text": [
      "False\n",
      "7/79False\n",
      "8/79False\n",
      "9/79False\n",
      "10/79False\n",
      "11/79False\n",
      "12/79False\n",
      "13/79False\n",
      "14/79False\n",
      "15/79False\n",
      "16/79False\n",
      "17/79False\n",
      "18/79False\n",
      "19/79False\n",
      "20/79False\n",
      "21/79False\n",
      "22/79False\n",
      "23/79False\n",
      "24/79False\n",
      "25/79False\n",
      "26/79False\n",
      "27/79False\n",
      "28/79False\n",
      "29/79False\n",
      "30/79False\n",
      "31/79False\n",
      "32/79False\n",
      "33/79False\n",
      "34/79False\n",
      "35/79False\n",
      "36/79False\n",
      "37/79False\n",
      "38/79False\n",
      "39/79False\n",
      "40/79False\n",
      "41/79False\n",
      "42/79False\n",
      "43/79False\n",
      "44/79False\n",
      "45/79False\n",
      "46/79False\n",
      "47/79False\n",
      "48/79False\n",
      "49/79False\n",
      "50/79False\n",
      "51/79False\n",
      "52/79False\n",
      "53/79False\n",
      "54/79False\n",
      "55/79False\n",
      "56/79False\n",
      "57/79False\n",
      "58/79False\n",
      "59/79False\n",
      "60/79False\n",
      "61/79False\n",
      "62/79False\n",
      "63/79False\n",
      "64/79False\n",
      "65/79False\n",
      "66/79False\n",
      "67/79False\n",
      "68/79False\n",
      "69/79False\n",
      "70/79False\n",
      "71/79False\n",
      "72/79False\n",
      "73/79False\n",
      "74/79False\n",
      "75/79False\n",
      "76/79False\n",
      "77/79False\n",
      "78/79False\n",
      "79/79False\n",
      "0\n"
     ]
    }
   ],
   "source": [
    "depth_data = {\n",
    "    'id': [],\n",
    "    'position': [],\n",
    "    'ply': [],\n",
    "    'tree bias': [],\n",
    "    'left rec': [],\n",
    "    'right rec': [],\n",
    "    'other rec': [],\n",
    "    'total': [],\n",
    "    'video bias': [],\n",
    "}\n",
    "\n",
    "#create the csv for the trees\n",
    "tree_number = 0\n",
    "for tree in depth_trees:\n",
    "    tree_number += 1\n",
    "    print(f'{tree_number}/{len(depth_trees)}', end='')\n",
    "    id = (tree.split('_')[3]).replace('.txt', '')\n",
    "    tree_bias = None\n",
    "    if id in depth_left_ids:\n",
    "        tree_bias = 'Left'\n",
    "    elif id in depth_right_ids:\n",
    "        tree_bias = 'Right'\n",
    "    else:\n",
    "        print(f'Problem')\n",
    "\n",
    "    #'id', 'tree bias', 'left rec', 'right rec', 'other', 'total', 'video bias'\n",
    "    with open(path_depth_trees + '\\\\' + tree, 'r') as outfile:\n",
    "        data = outfile.read()\n",
    "        root = importer.import_(data)\n",
    "        position = 0\n",
    "        corrupted = False\n",
    "        for t in anytree.PreOrderIter(root):\n",
    "\n",
    "            depth_data['id'].append(id)\n",
    "            depth_data['tree bias'].append(tree_bias)\n",
    "            depth_data['position'].append(position)\n",
    "            count = {\n",
    "                'left rec': 0,\n",
    "                'right rec': 0,\n",
    "                'other rec' : 0\n",
    "            }\n",
    "            # check that you only want top 5\n",
    "            recommended_videos = t.top_10_recommended\n",
    "            recommended_videos = [i for i in recommended_videos if not(i == None)]\n",
    "            recommended_videos = recommended_videos[0:min(5, len(recommended_videos))]\n",
    "            for rec in recommended_videos:\n",
    "                if rec != None:\n",
    "                    content_creator = url_to_content_creator(rec)\n",
    "                    if content_creator != None:\n",
    "                        bias =content_creator_to_bias(content_creator)\n",
    "                        count[bias] += 1\n",
    "                    else:\n",
    "                        count['other'] += 1\n",
    "                else:\n",
    "                    corrupted = True\n",
    "            for k, v in count.items():\n",
    "                depth_data[k].append(v)\n",
    "            depth_data['total'].append(5)\n",
    "            video_bias = content_creator_to_bias(t.video['content creator'])\n",
    "            depth_data['video bias'].append(video_bias)\n",
    "\n",
    "            if position == 0:\n",
    "                ply = 0\n",
    "            else:\n",
    "                pos_temp = position - 1\n",
    "                pos_temp = np.mod(pos_temp, 6)\n",
    "                ply = pos_temp + 1\n",
    "            depth_data['ply'].append(ply)\n",
    "            position += 1\n",
    "        print(corrupted)\n",
    "print(len(urls_to_visit))"
   ],
   "metadata": {
    "collapsed": false,
    "pycharm": {
     "name": "#%%\n"
    }
   }
  },
  {
   "cell_type": "code",
   "execution_count": 213,
   "outputs": [
    {
     "name": "stdout",
     "output_type": "stream",
     "text": [
      "id 2449\n",
      "position 2449\n",
      "ply 2449\n",
      "tree bias 2449\n",
      "left rec 2449\n",
      "right rec 2449\n",
      "other 2449\n",
      "total 2449\n",
      "video bias 2449\n"
     ]
    }
   ],
   "source": [
    "for k, v in depth_data.items():\n",
    "    print(k, len(v))"
   ],
   "metadata": {
    "collapsed": false,
    "pycharm": {
     "name": "#%%\n"
    }
   }
  },
  {
   "cell_type": "code",
   "execution_count": 214,
   "outputs": [
    {
     "data": {
      "text/plain": "                                     id  position  ply tree bias  left rec  \\\n0  37fa5b1c-a5cb-4289-9831-9f44f42d631e         0    0      Left         3   \n1  37fa5b1c-a5cb-4289-9831-9f44f42d631e         1    1      Left         1   \n2  37fa5b1c-a5cb-4289-9831-9f44f42d631e         2    2      Left         0   \n3  37fa5b1c-a5cb-4289-9831-9f44f42d631e         3    3      Left         0   \n4  37fa5b1c-a5cb-4289-9831-9f44f42d631e         4    4      Left         0   \n5  37fa5b1c-a5cb-4289-9831-9f44f42d631e         5    5      Left         0   \n6  37fa5b1c-a5cb-4289-9831-9f44f42d631e         6    6      Left         0   \n7  37fa5b1c-a5cb-4289-9831-9f44f42d631e         7    1      Left         0   \n8  37fa5b1c-a5cb-4289-9831-9f44f42d631e         8    2      Left         0   \n9  37fa5b1c-a5cb-4289-9831-9f44f42d631e         9    3      Left         0   \n\n   right rec  other  total video bias  \n0          0      2      5   left rec  \n1          0      4      5      other  \n2          0      0      5      other  \n3          0      0      5      other  \n4          0      5      5      other  \n5          0      5      5      other  \n6          0      5      5      other  \n7          0      0      5      other  \n8          0      1      5      other  \n9          0      5      5      other  ",
      "text/html": "<div>\n<style scoped>\n    .dataframe tbody tr th:only-of-type {\n        vertical-align: middle;\n    }\n\n    .dataframe tbody tr th {\n        vertical-align: top;\n    }\n\n    .dataframe thead th {\n        text-align: right;\n    }\n</style>\n<table border=\"1\" class=\"dataframe\">\n  <thead>\n    <tr style=\"text-align: right;\">\n      <th></th>\n      <th>id</th>\n      <th>position</th>\n      <th>ply</th>\n      <th>tree bias</th>\n      <th>left rec</th>\n      <th>right rec</th>\n      <th>other</th>\n      <th>total</th>\n      <th>video bias</th>\n    </tr>\n  </thead>\n  <tbody>\n    <tr>\n      <th>0</th>\n      <td>37fa5b1c-a5cb-4289-9831-9f44f42d631e</td>\n      <td>0</td>\n      <td>0</td>\n      <td>Left</td>\n      <td>3</td>\n      <td>0</td>\n      <td>2</td>\n      <td>5</td>\n      <td>left rec</td>\n    </tr>\n    <tr>\n      <th>1</th>\n      <td>37fa5b1c-a5cb-4289-9831-9f44f42d631e</td>\n      <td>1</td>\n      <td>1</td>\n      <td>Left</td>\n      <td>1</td>\n      <td>0</td>\n      <td>4</td>\n      <td>5</td>\n      <td>other</td>\n    </tr>\n    <tr>\n      <th>2</th>\n      <td>37fa5b1c-a5cb-4289-9831-9f44f42d631e</td>\n      <td>2</td>\n      <td>2</td>\n      <td>Left</td>\n      <td>0</td>\n      <td>0</td>\n      <td>0</td>\n      <td>5</td>\n      <td>other</td>\n    </tr>\n    <tr>\n      <th>3</th>\n      <td>37fa5b1c-a5cb-4289-9831-9f44f42d631e</td>\n      <td>3</td>\n      <td>3</td>\n      <td>Left</td>\n      <td>0</td>\n      <td>0</td>\n      <td>0</td>\n      <td>5</td>\n      <td>other</td>\n    </tr>\n    <tr>\n      <th>4</th>\n      <td>37fa5b1c-a5cb-4289-9831-9f44f42d631e</td>\n      <td>4</td>\n      <td>4</td>\n      <td>Left</td>\n      <td>0</td>\n      <td>0</td>\n      <td>5</td>\n      <td>5</td>\n      <td>other</td>\n    </tr>\n    <tr>\n      <th>5</th>\n      <td>37fa5b1c-a5cb-4289-9831-9f44f42d631e</td>\n      <td>5</td>\n      <td>5</td>\n      <td>Left</td>\n      <td>0</td>\n      <td>0</td>\n      <td>5</td>\n      <td>5</td>\n      <td>other</td>\n    </tr>\n    <tr>\n      <th>6</th>\n      <td>37fa5b1c-a5cb-4289-9831-9f44f42d631e</td>\n      <td>6</td>\n      <td>6</td>\n      <td>Left</td>\n      <td>0</td>\n      <td>0</td>\n      <td>5</td>\n      <td>5</td>\n      <td>other</td>\n    </tr>\n    <tr>\n      <th>7</th>\n      <td>37fa5b1c-a5cb-4289-9831-9f44f42d631e</td>\n      <td>7</td>\n      <td>1</td>\n      <td>Left</td>\n      <td>0</td>\n      <td>0</td>\n      <td>0</td>\n      <td>5</td>\n      <td>other</td>\n    </tr>\n    <tr>\n      <th>8</th>\n      <td>37fa5b1c-a5cb-4289-9831-9f44f42d631e</td>\n      <td>8</td>\n      <td>2</td>\n      <td>Left</td>\n      <td>0</td>\n      <td>0</td>\n      <td>1</td>\n      <td>5</td>\n      <td>other</td>\n    </tr>\n    <tr>\n      <th>9</th>\n      <td>37fa5b1c-a5cb-4289-9831-9f44f42d631e</td>\n      <td>9</td>\n      <td>3</td>\n      <td>Left</td>\n      <td>0</td>\n      <td>0</td>\n      <td>5</td>\n      <td>5</td>\n      <td>other</td>\n    </tr>\n  </tbody>\n</table>\n</div>"
     },
     "execution_count": 214,
     "metadata": {},
     "output_type": "execute_result"
    }
   ],
   "source": [
    "depth_csv = pd.DataFrame.from_dict(depth_data)\n",
    "depth_csv.head(10)"
   ],
   "metadata": {
    "collapsed": false,
    "pycharm": {
     "name": "#%%\n"
    }
   }
  },
  {
   "cell_type": "code",
   "execution_count": 215,
   "outputs": [],
   "source": [
    "right = depth_csv[depth_csv['tree bias'] == 'Right'][['position', 'ply', 'left rec', 'right rec', 'other', 'total']]\n",
    "left = depth_csv[depth_csv['tree bias'] == 'Left'][['position', 'ply', 'left rec', 'right rec', 'other', 'total']]\n",
    "\n",
    "avg_per_position_right = right.groupby('position').mean()\n",
    "avg_per_position_left = left.groupby('position').mean()"
   ],
   "metadata": {
    "collapsed": false,
    "pycharm": {
     "name": "#%%\n"
    }
   }
  },
  {
   "cell_type": "code",
   "execution_count": 216,
   "outputs": [
    {
     "data": {
      "text/plain": "<matplotlib.axes._subplots.AxesSubplot at 0x1e3931da9a0>"
     },
     "execution_count": 216,
     "metadata": {},
     "output_type": "execute_result"
    },
    {
     "data": {
      "text/plain": "<Figure size 432x288 with 1 Axes>",
      "image/png": "[encoded data removed]"
     },
     "metadata": {
      "needs_background": "light"
     },
     "output_type": "display_data"
    }
   ],
   "source": [
    "avg_per_position_left.plot(legend=True)"
   ],
   "metadata": {
    "collapsed": false,
    "pycharm": {
     "name": "#%%\n"
    }
   }
  },
  {
   "cell_type": "code",
   "execution_count": 217,
   "outputs": [
    {
     "data": {
      "text/plain": "<matplotlib.axes._subplots.AxesSubplot at 0x1e3930b1e20>"
     },
     "execution_count": 217,
     "metadata": {},
     "output_type": "execute_result"
    },
    {
     "data": {
      "text/plain": "<Figure size 432x288 with 1 Axes>",
      "image/png": "[encoded data removed]"
     },
     "metadata": {
      "needs_background": "light"
     },
     "output_type": "display_data"
    }
   ],
   "source": [
    "avg_per_position_right.plot(legend=True)"
   ],
   "metadata": {
    "collapsed": false,
    "pycharm": {
     "name": "#%%\n"
    }
   }
  },
  {
   "cell_type": "markdown",
   "source": [
    "### ii. Homepage videos depth"
   ],
   "metadata": {
    "collapsed": false,
    "pycharm": {
     "name": "#%% md\n"
    }
   }
  },
  {
   "cell_type": "code",
   "execution_count": 212,
   "outputs": [
    {
     "name": "stderr",
     "output_type": "stream",
     "text": [
      "C:\\Users\\mikad\\anaconda3\\lib\\site-packages\\pandas\\core\\strings\\accessor.py:101: UserWarning: This pattern has match groups. To actually get the groups, use str.extract.\n",
      "  return func(self, *args, **kwargs)\n"
     ]
    }
   ],
   "source": [
    "depth_homepage_data = {\n",
    "    'id': [],\n",
    "    'ply': [],\n",
    "    'tree bias': [],\n",
    "    'left rec' : [],\n",
    "    'right rec': [],\n",
    "    'other': [],\n",
    "    'total' : []\n",
    "}\n",
    "\n",
    "homepage_number = 0\n",
    "for homepage in depth_homepages:\n",
    "    homepage_number += 1\n",
    "    #print(f'{homepage_number}/{len(depth_homepages)}')\n",
    "\n",
    "    # check id\n",
    "    id = (homepage.split('_')[4]).replace('.txt', '')\n",
    "\n",
    "    # check ply\n",
    "    ply = homepage.split('_')[1]\n",
    "    tree_bias = None\n",
    "    if id in depth_left_ids:\n",
    "        tree_bias = 'Left'\n",
    "    elif id in depth_right_ids:\n",
    "        tree_bias = 'Right'\n",
    "    else:\n",
    "        #print(f'Problem')\n",
    "        pass\n",
    "    with open(path_depth_homepage + '\\\\' + homepage, 'r') as outfile:\n",
    "        # array of urls\n",
    "        lines = outfile.read().splitlines()\n",
    "        lines = [i for i in lines if (not(i == None) and not(i == ''))]\n",
    "        lines = lines[0 : min(10, len(lines))]\n",
    "\n",
    "        count = {\n",
    "            'left rec': 0,\n",
    "            'right rec': 0,\n",
    "            'other': 0,\n",
    "            'total': 0\n",
    "        }\n",
    "        none_count = 0\n",
    "        for url in lines:\n",
    "            content_creator = url_to_content_creator(url)\n",
    "            if content_creator == None:\n",
    "                none_count += 1\n",
    "            else:\n",
    "                bias = content_creator_to_bias(content_creator)\n",
    "                count[bias] += 1\n",
    "                count['total'] += 1\n",
    "        for k, v in count.items():\n",
    "            depth_homepage_data[k].append(v)\n",
    "        depth_homepage_data['tree bias'].append(tree_bias)\n",
    "        depth_homepage_data['ply'].append(ply)\n",
    "        depth_homepage_data['id'].append(id)\n",
    "\n",
    "    homepage_number += 1"
   ],
   "metadata": {
    "collapsed": false,
    "pycharm": {
     "name": "#%%\n"
    }
   }
  },
  {
   "cell_type": "code",
   "execution_count": 176,
   "outputs": [
    {
     "name": "stdout",
     "output_type": "stream",
     "text": [
      "id 560\n",
      "ply 560\n",
      "tree bias 560\n",
      "left rec 560\n",
      "right rec 560\n",
      "other 560\n",
      "total 560\n"
     ]
    }
   ],
   "source": [
    "for k, v in depth_homepage_data.items():\n",
    "    print(k, len(v))"
   ],
   "metadata": {
    "collapsed": false,
    "pycharm": {
     "name": "#%%\n"
    }
   }
  },
  {
   "cell_type": "code",
   "execution_count": 177,
   "outputs": [
    {
     "data": {
      "text/plain": "                                     id ply tree bias  left rec  right rec  \\\n0  02f351fd-9736-4e1c-81bf-592980b39729   0      None         0          0   \n1  37fa5b1c-a5cb-4289-9831-9f44f42d631e   0      Left         0          0   \n2  457baab1-831e-444b-adeb-a4304f6ef053   0      Left         0          0   \n3  7fdb62ab-a464-45c4-a1bf-be501207ee4d   0      Left         0          0   \n4  8cd7ecaa-6378-43cf-b9f3-8e335437f0f4   0      Left         0          0   \n5  e6917e17-2486-4e48-a30e-ef1a365a1f9e   0      Left         0          0   \n6  e91d79e2-4e08-43f0-ae98-6d1f11c76236   0      Left         0          0   \n7  f47e3fb0-910c-4144-9605-0d15f683ae48   0      Left         0          0   \n8  f4b9f3a7-cad6-4eef-8e56-b2573b8eb778   0     Right         0          1   \n9  f7eafc12-9354-4f23-a6de-00d580bae02b   0      Left         0          0   \n\n   other  total  \n0     10     10  \n1     10     10  \n2     10     10  \n3     10     10  \n4     10     10  \n5     10     10  \n6     10     10  \n7     10     10  \n8      9     10  \n9     10     10  ",
      "text/html": "<div>\n<style scoped>\n    .dataframe tbody tr th:only-of-type {\n        vertical-align: middle;\n    }\n\n    .dataframe tbody tr th {\n        vertical-align: top;\n    }\n\n    .dataframe thead th {\n        text-align: right;\n    }\n</style>\n<table border=\"1\" class=\"dataframe\">\n  <thead>\n    <tr style=\"text-align: right;\">\n      <th></th>\n      <th>id</th>\n      <th>ply</th>\n      <th>tree bias</th>\n      <th>left rec</th>\n      <th>right rec</th>\n      <th>other</th>\n      <th>total</th>\n    </tr>\n  </thead>\n  <tbody>\n    <tr>\n      <th>0</th>\n      <td>02f351fd-9736-4e1c-81bf-592980b39729</td>\n      <td>0</td>\n      <td>None</td>\n      <td>0</td>\n      <td>0</td>\n      <td>10</td>\n      <td>10</td>\n    </tr>\n    <tr>\n      <th>1</th>\n      <td>37fa5b1c-a5cb-4289-9831-9f44f42d631e</td>\n      <td>0</td>\n      <td>Left</td>\n      <td>0</td>\n      <td>0</td>\n      <td>10</td>\n      <td>10</td>\n    </tr>\n    <tr>\n      <th>2</th>\n      <td>457baab1-831e-444b-adeb-a4304f6ef053</td>\n      <td>0</td>\n      <td>Left</td>\n      <td>0</td>\n      <td>0</td>\n      <td>10</td>\n      <td>10</td>\n    </tr>\n    <tr>\n      <th>3</th>\n      <td>7fdb62ab-a464-45c4-a1bf-be501207ee4d</td>\n      <td>0</td>\n      <td>Left</td>\n      <td>0</td>\n      <td>0</td>\n      <td>10</td>\n      <td>10</td>\n    </tr>\n    <tr>\n      <th>4</th>\n      <td>8cd7ecaa-6378-43cf-b9f3-8e335437f0f4</td>\n      <td>0</td>\n      <td>Left</td>\n      <td>0</td>\n      <td>0</td>\n      <td>10</td>\n      <td>10</td>\n    </tr>\n    <tr>\n      <th>5</th>\n      <td>e6917e17-2486-4e48-a30e-ef1a365a1f9e</td>\n      <td>0</td>\n      <td>Left</td>\n      <td>0</td>\n      <td>0</td>\n      <td>10</td>\n      <td>10</td>\n    </tr>\n    <tr>\n      <th>6</th>\n      <td>e91d79e2-4e08-43f0-ae98-6d1f11c76236</td>\n      <td>0</td>\n      <td>Left</td>\n      <td>0</td>\n      <td>0</td>\n      <td>10</td>\n      <td>10</td>\n    </tr>\n    <tr>\n      <th>7</th>\n      <td>f47e3fb0-910c-4144-9605-0d15f683ae48</td>\n      <td>0</td>\n      <td>Left</td>\n      <td>0</td>\n      <td>0</td>\n      <td>10</td>\n      <td>10</td>\n    </tr>\n    <tr>\n      <th>8</th>\n      <td>f4b9f3a7-cad6-4eef-8e56-b2573b8eb778</td>\n      <td>0</td>\n      <td>Right</td>\n      <td>0</td>\n      <td>1</td>\n      <td>9</td>\n      <td>10</td>\n    </tr>\n    <tr>\n      <th>9</th>\n      <td>f7eafc12-9354-4f23-a6de-00d580bae02b</td>\n      <td>0</td>\n      <td>Left</td>\n      <td>0</td>\n      <td>0</td>\n      <td>10</td>\n      <td>10</td>\n    </tr>\n  </tbody>\n</table>\n</div>"
     },
     "execution_count": 177,
     "metadata": {},
     "output_type": "execute_result"
    }
   ],
   "source": [
    "depth_homepage_csv = pd.DataFrame.from_dict(depth_homepage_data)\n",
    "depth_homepage_csv.head(10)"
   ],
   "metadata": {
    "collapsed": false,
    "pycharm": {
     "name": "#%%\n"
    }
   }
  },
  {
   "cell_type": "code",
   "execution_count": 181,
   "outputs": [
    {
     "name": "stderr",
     "output_type": "stream",
     "text": [
      "<ipython-input-181-6c9d04ba33d9>:1: UserWarning: Boolean Series key will be reindexed to match DataFrame index.\n",
      "  right_depth_homepage = depth_homepage_csv[depth_csv['tree bias'] == 'Right'][['ply', 'left rec', 'right rec', 'other', 'total']]\n",
      "<ipython-input-181-6c9d04ba33d9>:2: UserWarning: Boolean Series key will be reindexed to match DataFrame index.\n",
      "  left_depth_homepage = depth_homepage_csv[depth_csv['tree bias'] == 'Left'][['ply', 'left rec', 'right rec', 'other', 'total']]\n"
     ]
    }
   ],
   "source": [
    "right_depth_homepage = depth_homepage_csv[depth_csv['tree bias'] == 'Right'][['ply', 'left rec', 'right rec', 'other', 'total']]\n",
    "left_depth_homepage = depth_homepage_csv[depth_csv['tree bias'] == 'Left'][['ply', 'left rec', 'right rec', 'other', 'total']]\n",
    "\n",
    "avg_per_position_right_depth_homepage = right_depth_homepage.groupby('ply').mean()\n",
    "avg_per_position_left_depth_homepage = left_depth_homepage.groupby('ply').mean()"
   ],
   "metadata": {
    "collapsed": false,
    "pycharm": {
     "name": "#%%\n"
    }
   }
  },
  {
   "cell_type": "code",
   "execution_count": 182,
   "outputs": [
    {
     "data": {
      "text/plain": "<matplotlib.axes._subplots.AxesSubplot at 0x1e392f919d0>"
     },
     "execution_count": 182,
     "metadata": {},
     "output_type": "execute_result"
    },
    {
     "data": {
      "text/plain": "<Figure size 432x288 with 1 Axes>",
      "image/png": "[encoded data removed]"
     },
     "metadata": {
      "needs_background": "light"
     },
     "output_type": "display_data"
    }
   ],
   "source": [
    "avg_per_position_left_depth_homepage.plot(legend=True)"
   ],
   "metadata": {
    "collapsed": false,
    "pycharm": {
     "name": "#%%\n"
    }
   }
  },
  {
   "cell_type": "code",
   "execution_count": 183,
   "outputs": [
    {
     "data": {
      "text/plain": "<matplotlib.axes._subplots.AxesSubplot at 0x1e392f03d90>"
     },
     "execution_count": 183,
     "metadata": {},
     "output_type": "execute_result"
    },
    {
     "data": {
      "text/plain": "<Figure size 432x288 with 1 Axes>",
      "image/png": "[encoded data removed]"
     },
     "metadata": {
      "needs_background": "light"
     },
     "output_type": "display_data"
    }
   ],
   "source": [
    "avg_per_position_right_depth_homepage.plot(legend=True)"
   ],
   "metadata": {
    "collapsed": false,
    "pycharm": {
     "name": "#%%\n"
    }
   }
  },
  {
   "cell_type": "markdown",
   "source": [
    "# Survey\n",
    "\n",
    "### i. Survey tree"
   ],
   "metadata": {
    "collapsed": false
   }
  },
  {
   "cell_type": "code",
   "execution_count": 122,
   "outputs": [
    {
     "name": "stdout",
     "output_type": "stream",
     "text": [
      "1/79\n",
      "2/79\n",
      "3/79\n",
      "4/79\n",
      "5/79\n",
      "6/79\n",
      "7/79\n",
      "8/79\n",
      "9/79\n",
      "10/79\n"
     ]
    },
    {
     "name": "stderr",
     "output_type": "stream",
     "text": [
      "C:\\Users\\mikad\\anaconda3\\lib\\site-packages\\pandas\\core\\strings\\accessor.py:101: UserWarning: This pattern has match groups. To actually get the groups, use str.extract.\n",
      "  return func(self, *args, **kwargs)\n"
     ]
    },
    {
     "name": "stdout",
     "output_type": "stream",
     "text": [
      "11/79\n",
      "12/79\n",
      "13/79\n",
      "14/79\n",
      "15/79\n",
      "16/79\n",
      "17/79\n",
      "18/79\n",
      "19/79\n",
      "20/79\n",
      "21/79\n",
      "22/79\n",
      "23/79\n",
      "24/79\n",
      "25/79\n",
      "26/79\n",
      "27/79\n",
      "28/79\n",
      "29/79\n",
      "30/79\n",
      "31/79\n",
      "32/79\n",
      "33/79\n",
      "34/79\n",
      "35/79\n",
      "36/79\n",
      "37/79\n",
      "38/79\n",
      "39/79\n",
      "40/79\n",
      "41/79\n",
      "42/79\n",
      "43/79\n",
      "44/79\n",
      "45/79\n",
      "46/79\n",
      "47/79\n",
      "48/79\n",
      "49/79\n",
      "50/79\n",
      "51/79\n",
      "52/79\n",
      "53/79\n",
      "54/79\n",
      "55/79\n",
      "56/79\n",
      "57/79\n",
      "58/79\n",
      "59/79\n",
      "60/79\n",
      "61/79\n",
      "62/79\n",
      "63/79\n",
      "64/79\n",
      "65/79\n",
      "66/79\n",
      "67/79\n",
      "68/79\n",
      "69/79\n",
      "70/79\n",
      "71/79\n",
      "72/79\n",
      "73/79\n",
      "74/79\n",
      "75/79\n",
      "76/79\n",
      "77/79\n",
      "78/79\n",
      "79/79\n",
      "0\n"
     ]
    }
   ],
   "source": [
    "importer = JsonImporter()\n",
    "\n",
    "survey_left_ids = []\n",
    "survey_right_ids = []\n",
    "\n",
    "for tree in survey_trees:\n",
    "    id = (tree.split('_')[4]).replace('.txt', '')\n",
    "    if 'Right' in tree:\n",
    "        survey_right_ids.append(id)\n",
    "    else:\n",
    "        survey_left_ids.append(id)\n",
    "\n",
    "survey_data = {\n",
    "    'id': [],\n",
    "    'position': [],\n",
    "    'ply': [],\n",
    "    'tree bias': [],\n",
    "    'left rec': [],\n",
    "    'right rec': [],\n",
    "    'other': [],\n",
    "    'total': [],\n",
    "    'video bias': [],\n",
    "    'video type': [],\n",
    "    'sampled type': []\n",
    "}\n",
    "\n",
    "#create the csv for the trees\n",
    "tree_number = 0\n",
    "for tree in survey_trees:\n",
    "    tree_number += 1\n",
    "    print(f'{tree_number}/{len(survey_trees)}')\n",
    "    id = (tree.split('_')[4]).replace('.txt', '')\n",
    "    tree_bias = None\n",
    "    if id in survey_left_ids:\n",
    "        tree_bias = 'Left'\n",
    "    elif id in survey_right_ids:\n",
    "        tree_bias = 'Right'\n",
    "    else:\n",
    "        print(f'Problem')\n",
    "    #'id', 'tree bias', 'left rec', 'right rec', 'other', 'total', 'video bias'\n",
    "    with open(path_survey_trees + '\\\\' + tree, 'r') as outfile:\n",
    "        data = outfile.read()\n",
    "        root = importer.import_(data)\n",
    "        position = 0\n",
    "        for t in anytree.PreOrderIter(root):\n",
    "            if t.id != 'dummy':\n",
    "                survey_data['id'].append(id)\n",
    "                survey_data['tree bias'].append(tree_bias)\n",
    "                survey_data['position'].append(position)\n",
    "                count = {\n",
    "                    'left rec': 0,\n",
    "                    'right rec': 0,\n",
    "                    'other' : 0\n",
    "                }\n",
    "                # check that you only want top 5\n",
    "                recommended_videos = t.top_10_recommended\n",
    "                recommended_videos = [i for i in recommended_videos if not(i == None)]\n",
    "                recommended_videos = recommended_videos[0:min(5, len(recommended_videos))]\n",
    "                for rec in recommended_videos:\n",
    "                    content_creator = url_to_content_creator(rec)\n",
    "                    if content_creator != None:\n",
    "                        bias = content_creator_to_bias(content_creator)\n",
    "                    else:\n",
    "                        bias = None\n",
    "                    if (bias in count.keys()):\n",
    "                        count[bias] += 1\n",
    "                    else:\n",
    "                        count['other'] += 1\n",
    "                for k, v in count.items():\n",
    "                    survey_data[k].append(v)\n",
    "\n",
    "                survey_data['total'].append(5)\n",
    "                video_bias = content_creator_to_bias(t.video['content creator'])\n",
    "                survey_data['video bias'].append(video_bias)\n",
    "                survey_data['video type'].append(t.actual_video_type)\n",
    "                survey_data['sampled type'].append(t.sampled_type)\n",
    "\n",
    "                ply = np.mod(position, 3)\n",
    "\n",
    "                survey_data['ply'].append(ply)\n",
    "\n",
    "                position += 1\n",
    "print(len(urls_to_visit))"
   ],
   "metadata": {
    "collapsed": false,
    "pycharm": {
     "name": "#%%\n"
    }
   }
  },
  {
   "cell_type": "code",
   "execution_count": 123,
   "outputs": [
    {
     "name": "stdout",
     "output_type": "stream",
     "text": [
      "id 1896\n",
      "position 1896\n",
      "ply 1896\n",
      "tree bias 1896\n",
      "left rec 1896\n",
      "right rec 1896\n",
      "other 1896\n",
      "total 1896\n",
      "video bias 1896\n",
      "video type 1896\n",
      "sampled type 1896\n"
     ]
    }
   ],
   "source": [
    "for k, v in survey_data.items():\n",
    "    print(k, len(v))"
   ],
   "metadata": {
    "collapsed": false,
    "pycharm": {
     "name": "#%%\n"
    }
   }
  },
  {
   "cell_type": "code",
   "execution_count": 191,
   "outputs": [
    {
     "data": {
      "text/plain": "                                      id  position  ply tree bias  left rec  \\\n0   0bd77d4c-a0f7-4b58-b048-06289937641a         0    0      Left         2   \n1   0bd77d4c-a0f7-4b58-b048-06289937641a         1    1      Left         0   \n2   0bd77d4c-a0f7-4b58-b048-06289937641a         2    2      Left         5   \n3   0bd77d4c-a0f7-4b58-b048-06289937641a         3    0      Left         1   \n4   0bd77d4c-a0f7-4b58-b048-06289937641a         4    1      Left         0   \n5   0bd77d4c-a0f7-4b58-b048-06289937641a         5    2      Left         0   \n6   0bd77d4c-a0f7-4b58-b048-06289937641a         6    0      Left         0   \n7   0bd77d4c-a0f7-4b58-b048-06289937641a         7    1      Left         0   \n8   0bd77d4c-a0f7-4b58-b048-06289937641a         8    2      Left         5   \n9   0bd77d4c-a0f7-4b58-b048-06289937641a         9    0      Left         4   \n10  0bd77d4c-a0f7-4b58-b048-06289937641a        10    1      Left         5   \n11  0bd77d4c-a0f7-4b58-b048-06289937641a        11    2      Left         5   \n12  0bd77d4c-a0f7-4b58-b048-06289937641a        12    0      Left         4   \n13  0bd77d4c-a0f7-4b58-b048-06289937641a        13    1      Left         3   \n14  0bd77d4c-a0f7-4b58-b048-06289937641a        14    2      Left         5   \n15  0bd77d4c-a0f7-4b58-b048-06289937641a        15    0      Left         2   \n16  0bd77d4c-a0f7-4b58-b048-06289937641a        16    1      Left         2   \n17  0bd77d4c-a0f7-4b58-b048-06289937641a        17    2      Left         5   \n18  0bd77d4c-a0f7-4b58-b048-06289937641a        18    0      Left         4   \n19  0bd77d4c-a0f7-4b58-b048-06289937641a        19    1      Left         3   \n\n    right rec  other  total video bias video type sampled type  \n0           0      3      5   left rec    curated      curated  \n1           0      0      5   left rec    curated      curated  \n2           0      0      5   left rec    curated      curated  \n3           0      1      5   left rec    curated      curated  \n4           0      0      5   left rec    curated      curated  \n5           0      0      5   left rec    curated      curated  \n6           0      0      5   left rec    curated      curated  \n7           0      0      5   left rec    curated      curated  \n8           0      0      5   left rec    curated      curated  \n9           0      1      5   left rec    curated      curated  \n10          0      0      5   left rec    curated      curated  \n11          0      0      5   left rec    curated      curated  \n12          0      1      5   left rec    curated      curated  \n13          0      2      5   left rec    curated      curated  \n14          0      0      5   left rec    curated      curated  \n15          0      3      5   left rec    curated      curated  \n16          0      3      5   left rec    curated      curated  \n17          0      0      5   left rec    curated      curated  \n18          0      1      5   left rec    curated      curated  \n19          0      2      5   left rec    curated      curated  ",
      "text/html": "<div>\n<style scoped>\n    .dataframe tbody tr th:only-of-type {\n        vertical-align: middle;\n    }\n\n    .dataframe tbody tr th {\n        vertical-align: top;\n    }\n\n    .dataframe thead th {\n        text-align: right;\n    }\n</style>\n<table border=\"1\" class=\"dataframe\">\n  <thead>\n    <tr style=\"text-align: right;\">\n      <th></th>\n      <th>id</th>\n      <th>position</th>\n      <th>ply</th>\n      <th>tree bias</th>\n      <th>left rec</th>\n      <th>right rec</th>\n      <th>other</th>\n      <th>total</th>\n      <th>video bias</th>\n      <th>video type</th>\n      <th>sampled type</th>\n    </tr>\n  </thead>\n  <tbody>\n    <tr>\n      <th>0</th>\n      <td>0bd77d4c-a0f7-4b58-b048-06289937641a</td>\n      <td>0</td>\n      <td>0</td>\n      <td>Left</td>\n      <td>2</td>\n      <td>0</td>\n      <td>3</td>\n      <td>5</td>\n      <td>left rec</td>\n      <td>curated</td>\n      <td>curated</td>\n    </tr>\n    <tr>\n      <th>1</th>\n      <td>0bd77d4c-a0f7-4b58-b048-06289937641a</td>\n      <td>1</td>\n      <td>1</td>\n      <td>Left</td>\n      <td>0</td>\n      <td>0</td>\n      <td>0</td>\n      <td>5</td>\n      <td>left rec</td>\n      <td>curated</td>\n      <td>curated</td>\n    </tr>\n    <tr>\n      <th>2</th>\n      <td>0bd77d4c-a0f7-4b58-b048-06289937641a</td>\n      <td>2</td>\n      <td>2</td>\n      <td>Left</td>\n      <td>5</td>\n      <td>0</td>\n      <td>0</td>\n      <td>5</td>\n      <td>left rec</td>\n      <td>curated</td>\n      <td>curated</td>\n    </tr>\n    <tr>\n      <th>3</th>\n      <td>0bd77d4c-a0f7-4b58-b048-06289937641a</td>\n      <td>3</td>\n      <td>0</td>\n      <td>Left</td>\n      <td>1</td>\n      <td>0</td>\n      <td>1</td>\n      <td>5</td>\n      <td>left rec</td>\n      <td>curated</td>\n      <td>curated</td>\n    </tr>\n    <tr>\n      <th>4</th>\n      <td>0bd77d4c-a0f7-4b58-b048-06289937641a</td>\n      <td>4</td>\n      <td>1</td>\n      <td>Left</td>\n      <td>0</td>\n      <td>0</td>\n      <td>0</td>\n      <td>5</td>\n      <td>left rec</td>\n      <td>curated</td>\n      <td>curated</td>\n    </tr>\n    <tr>\n      <th>5</th>\n      <td>0bd77d4c-a0f7-4b58-b048-06289937641a</td>\n      <td>5</td>\n      <td>2</td>\n      <td>Left</td>\n      <td>0</td>\n      <td>0</td>\n      <td>0</td>\n      <td>5</td>\n      <td>left rec</td>\n      <td>curated</td>\n      <td>curated</td>\n    </tr>\n    <tr>\n      <th>6</th>\n      <td>0bd77d4c-a0f7-4b58-b048-06289937641a</td>\n      <td>6</td>\n      <td>0</td>\n      <td>Left</td>\n      <td>0</td>\n      <td>0</td>\n      <td>0</td>\n      <td>5</td>\n      <td>left rec</td>\n      <td>curated</td>\n      <td>curated</td>\n    </tr>\n    <tr>\n      <th>7</th>\n      <td>0bd77d4c-a0f7-4b58-b048-06289937641a</td>\n      <td>7</td>\n      <td>1</td>\n      <td>Left</td>\n      <td>0</td>\n      <td>0</td>\n      <td>0</td>\n      <td>5</td>\n      <td>left rec</td>\n      <td>curated</td>\n      <td>curated</td>\n    </tr>\n    <tr>\n      <th>8</th>\n      <td>0bd77d4c-a0f7-4b58-b048-06289937641a</td>\n      <td>8</td>\n      <td>2</td>\n      <td>Left</td>\n      <td>5</td>\n      <td>0</td>\n      <td>0</td>\n      <td>5</td>\n      <td>left rec</td>\n      <td>curated</td>\n      <td>curated</td>\n    </tr>\n    <tr>\n      <th>9</th>\n      <td>0bd77d4c-a0f7-4b58-b048-06289937641a</td>\n      <td>9</td>\n      <td>0</td>\n      <td>Left</td>\n      <td>4</td>\n      <td>0</td>\n      <td>1</td>\n      <td>5</td>\n      <td>left rec</td>\n      <td>curated</td>\n      <td>curated</td>\n    </tr>\n    <tr>\n      <th>10</th>\n      <td>0bd77d4c-a0f7-4b58-b048-06289937641a</td>\n      <td>10</td>\n      <td>1</td>\n      <td>Left</td>\n      <td>5</td>\n      <td>0</td>\n      <td>0</td>\n      <td>5</td>\n      <td>left rec</td>\n      <td>curated</td>\n      <td>curated</td>\n    </tr>\n    <tr>\n      <th>11</th>\n      <td>0bd77d4c-a0f7-4b58-b048-06289937641a</td>\n      <td>11</td>\n      <td>2</td>\n      <td>Left</td>\n      <td>5</td>\n      <td>0</td>\n      <td>0</td>\n      <td>5</td>\n      <td>left rec</td>\n      <td>curated</td>\n      <td>curated</td>\n    </tr>\n    <tr>\n      <th>12</th>\n      <td>0bd77d4c-a0f7-4b58-b048-06289937641a</td>\n      <td>12</td>\n      <td>0</td>\n      <td>Left</td>\n      <td>4</td>\n      <td>0</td>\n      <td>1</td>\n      <td>5</td>\n      <td>left rec</td>\n      <td>curated</td>\n      <td>curated</td>\n    </tr>\n    <tr>\n      <th>13</th>\n      <td>0bd77d4c-a0f7-4b58-b048-06289937641a</td>\n      <td>13</td>\n      <td>1</td>\n      <td>Left</td>\n      <td>3</td>\n      <td>0</td>\n      <td>2</td>\n      <td>5</td>\n      <td>left rec</td>\n      <td>curated</td>\n      <td>curated</td>\n    </tr>\n    <tr>\n      <th>14</th>\n      <td>0bd77d4c-a0f7-4b58-b048-06289937641a</td>\n      <td>14</td>\n      <td>2</td>\n      <td>Left</td>\n      <td>5</td>\n      <td>0</td>\n      <td>0</td>\n      <td>5</td>\n      <td>left rec</td>\n      <td>curated</td>\n      <td>curated</td>\n    </tr>\n    <tr>\n      <th>15</th>\n      <td>0bd77d4c-a0f7-4b58-b048-06289937641a</td>\n      <td>15</td>\n      <td>0</td>\n      <td>Left</td>\n      <td>2</td>\n      <td>0</td>\n      <td>3</td>\n      <td>5</td>\n      <td>left rec</td>\n      <td>curated</td>\n      <td>curated</td>\n    </tr>\n    <tr>\n      <th>16</th>\n      <td>0bd77d4c-a0f7-4b58-b048-06289937641a</td>\n      <td>16</td>\n      <td>1</td>\n      <td>Left</td>\n      <td>2</td>\n      <td>0</td>\n      <td>3</td>\n      <td>5</td>\n      <td>left rec</td>\n      <td>curated</td>\n      <td>curated</td>\n    </tr>\n    <tr>\n      <th>17</th>\n      <td>0bd77d4c-a0f7-4b58-b048-06289937641a</td>\n      <td>17</td>\n      <td>2</td>\n      <td>Left</td>\n      <td>5</td>\n      <td>0</td>\n      <td>0</td>\n      <td>5</td>\n      <td>left rec</td>\n      <td>curated</td>\n      <td>curated</td>\n    </tr>\n    <tr>\n      <th>18</th>\n      <td>0bd77d4c-a0f7-4b58-b048-06289937641a</td>\n      <td>18</td>\n      <td>0</td>\n      <td>Left</td>\n      <td>4</td>\n      <td>0</td>\n      <td>1</td>\n      <td>5</td>\n      <td>left rec</td>\n      <td>curated</td>\n      <td>curated</td>\n    </tr>\n    <tr>\n      <th>19</th>\n      <td>0bd77d4c-a0f7-4b58-b048-06289937641a</td>\n      <td>19</td>\n      <td>1</td>\n      <td>Left</td>\n      <td>3</td>\n      <td>0</td>\n      <td>2</td>\n      <td>5</td>\n      <td>left rec</td>\n      <td>curated</td>\n      <td>curated</td>\n    </tr>\n  </tbody>\n</table>\n</div>"
     },
     "execution_count": 191,
     "metadata": {},
     "output_type": "execute_result"
    }
   ],
   "source": [
    "survey_csv = pd.DataFrame.from_dict(survey_data)\n",
    "survey_csv.head(20)"
   ],
   "metadata": {
    "collapsed": false,
    "pycharm": {
     "name": "#%%\n"
    }
   }
  },
  {
   "cell_type": "code",
   "execution_count": 192,
   "outputs": [],
   "source": [
    "right = survey_csv[survey_csv['tree bias'] == 'Right']\n",
    "left = survey_csv[survey_csv['tree bias'] == 'Left']\n",
    "\n",
    "avg_per_position_right = right.groupby('position').mean()\n",
    "avg_per_position_left = left.groupby('position').mean()"
   ],
   "metadata": {
    "collapsed": false,
    "pycharm": {
     "name": "#%%\n"
    }
   }
  },
  {
   "cell_type": "code",
   "execution_count": 193,
   "outputs": [
    {
     "data": {
      "text/plain": "<matplotlib.axes._subplots.AxesSubplot at 0x1e392fac2b0>"
     },
     "execution_count": 193,
     "metadata": {},
     "output_type": "execute_result"
    },
    {
     "data": {
      "text/plain": "<Figure size 432x288 with 1 Axes>",
      "image/png": "[encoded data removed]"
     },
     "metadata": {
      "needs_background": "light"
     },
     "output_type": "display_data"
    }
   ],
   "source": [
    "avg_per_position_left.plot(legend=True)"
   ],
   "metadata": {
    "collapsed": false,
    "pycharm": {
     "name": "#%%\n"
    }
   }
  },
  {
   "cell_type": "code",
   "execution_count": 194,
   "outputs": [
    {
     "data": {
      "text/plain": "<matplotlib.axes._subplots.AxesSubplot at 0x1e393358550>"
     },
     "execution_count": 194,
     "metadata": {},
     "output_type": "execute_result"
    },
    {
     "data": {
      "text/plain": "<Figure size 432x288 with 1 Axes>",
      "image/png": "[encoded data removed]"
     },
     "metadata": {
      "needs_background": "light"
     },
     "output_type": "display_data"
    }
   ],
   "source": [
    "avg_per_position_right.plot(legend=True)"
   ],
   "metadata": {
    "collapsed": false,
    "pycharm": {
     "name": "#%%\n"
    }
   }
  },
  {
   "cell_type": "markdown",
   "source": [
    "### ii. Homepage"
   ],
   "metadata": {
    "collapsed": false,
    "pycharm": {
     "name": "#%% md\n"
    }
   }
  },
  {
   "cell_type": "code",
   "execution_count": 188,
   "outputs": [
    {
     "name": "stderr",
     "output_type": "stream",
     "text": [
      "C:\\Users\\mikad\\anaconda3\\lib\\site-packages\\pandas\\core\\strings\\accessor.py:101: UserWarning: This pattern has match groups. To actually get the groups, use str.extract.\n",
      "  return func(self, *args, **kwargs)\n"
     ]
    }
   ],
   "source": [
    "survey_homepage_data = {\n",
    "    'id': [],\n",
    "    'ply': [],\n",
    "    'tree bias': [],\n",
    "    'left rec' : [],\n",
    "    'right rec': [],\n",
    "    'other': [],\n",
    "    'total' : []\n",
    "}\n",
    "\n",
    "homepage_number = 0\n",
    "for homepage in survey_homepages:\n",
    "    homepage_number += 1\n",
    "    #print(f'{homepage_number}/{len(survey_homepages)}')\n",
    "\n",
    "    # check id\n",
    "    id = (homepage.split('_')[4]).replace('.txt', '')\n",
    "\n",
    "    # check ply\n",
    "    ply = homepage.split('_')[1]\n",
    "    tree_bias = None\n",
    "    if id in survey_left_ids:\n",
    "        tree_bias = 'Left'\n",
    "    elif id in survey_right_ids:\n",
    "        tree_bias = 'Right'\n",
    "    else:\n",
    "        #print(f'Problem')\n",
    "        pass\n",
    "\n",
    "    with open(path_survey_homepage + '\\\\' + homepage, 'r') as outfile:\n",
    "        # array of urls\n",
    "        lines = outfile.read().splitlines()\n",
    "        lines = [i for i in lines if (not(i == None) and not(i == ''))]\n",
    "        lines = lines[0 : min(10, len(lines))]\n",
    "\n",
    "        count = {\n",
    "            'left rec': 0,\n",
    "            'right rec': 0,\n",
    "            'other': 0,\n",
    "            'total': 0\n",
    "        }\n",
    "        none_count = 0\n",
    "        for url in lines:\n",
    "            content_creator = url_to_content_creator(url)\n",
    "            if content_creator == None:\n",
    "                none_count += 1\n",
    "            else:\n",
    "                bias = content_creator_to_bias(content_creator)\n",
    "                count[bias] += 1\n",
    "                count['total'] += 1\n",
    "        for k, v in count.items():\n",
    "            survey_homepage_data[k].append(v)\n",
    "        survey_homepage_data['tree bias'].append(tree_bias)\n",
    "        survey_homepage_data['ply'].append(ply)\n",
    "        survey_homepage_data['id'].append(id)\n",
    "\n",
    "    homepage_number += 1"
   ],
   "metadata": {
    "collapsed": false,
    "pycharm": {
     "name": "#%%\n"
    }
   }
  },
  {
   "cell_type": "code",
   "execution_count": 195,
   "outputs": [
    {
     "name": "stdout",
     "output_type": "stream",
     "text": [
      "id 539\n",
      "ply 539\n",
      "tree bias 539\n",
      "left rec 539\n",
      "right rec 539\n",
      "other 539\n",
      "total 539\n"
     ]
    }
   ],
   "source": [
    "for k, v in survey_homepage_data.items():\n",
    "    print(k, len(v))"
   ],
   "metadata": {
    "collapsed": false,
    "pycharm": {
     "name": "#%%\n"
    }
   }
  },
  {
   "cell_type": "code",
   "execution_count": 196,
   "outputs": [
    {
     "data": {
      "text/plain": "      id   ply tree bias  left rec  right rec  other  total\n0  trial  Left      None         0          0     10     10\n1  trial  Left      None         0          0     10     10\n2  trial  Left      None         0          0     10     10\n3  trial  Left      None         1          0      9     10\n4  trial  Left      None         0          0     10     10\n5  trial  Left      None         0          0     10     10\n6  trial  Left      None         0          0     10     10\n7  trial  Left      None         0          0     10     10\n8  trial  Left      None         0          0     10     10\n9  trial  Left      None         0          0     10     10",
      "text/html": "<div>\n<style scoped>\n    .dataframe tbody tr th:only-of-type {\n        vertical-align: middle;\n    }\n\n    .dataframe tbody tr th {\n        vertical-align: top;\n    }\n\n    .dataframe thead th {\n        text-align: right;\n    }\n</style>\n<table border=\"1\" class=\"dataframe\">\n  <thead>\n    <tr style=\"text-align: right;\">\n      <th></th>\n      <th>id</th>\n      <th>ply</th>\n      <th>tree bias</th>\n      <th>left rec</th>\n      <th>right rec</th>\n      <th>other</th>\n      <th>total</th>\n    </tr>\n  </thead>\n  <tbody>\n    <tr>\n      <th>0</th>\n      <td>trial</td>\n      <td>Left</td>\n      <td>None</td>\n      <td>0</td>\n      <td>0</td>\n      <td>10</td>\n      <td>10</td>\n    </tr>\n    <tr>\n      <th>1</th>\n      <td>trial</td>\n      <td>Left</td>\n      <td>None</td>\n      <td>0</td>\n      <td>0</td>\n      <td>10</td>\n      <td>10</td>\n    </tr>\n    <tr>\n      <th>2</th>\n      <td>trial</td>\n      <td>Left</td>\n      <td>None</td>\n      <td>0</td>\n      <td>0</td>\n      <td>10</td>\n      <td>10</td>\n    </tr>\n    <tr>\n      <th>3</th>\n      <td>trial</td>\n      <td>Left</td>\n      <td>None</td>\n      <td>1</td>\n      <td>0</td>\n      <td>9</td>\n      <td>10</td>\n    </tr>\n    <tr>\n      <th>4</th>\n      <td>trial</td>\n      <td>Left</td>\n      <td>None</td>\n      <td>0</td>\n      <td>0</td>\n      <td>10</td>\n      <td>10</td>\n    </tr>\n    <tr>\n      <th>5</th>\n      <td>trial</td>\n      <td>Left</td>\n      <td>None</td>\n      <td>0</td>\n      <td>0</td>\n      <td>10</td>\n      <td>10</td>\n    </tr>\n    <tr>\n      <th>6</th>\n      <td>trial</td>\n      <td>Left</td>\n      <td>None</td>\n      <td>0</td>\n      <td>0</td>\n      <td>10</td>\n      <td>10</td>\n    </tr>\n    <tr>\n      <th>7</th>\n      <td>trial</td>\n      <td>Left</td>\n      <td>None</td>\n      <td>0</td>\n      <td>0</td>\n      <td>10</td>\n      <td>10</td>\n    </tr>\n    <tr>\n      <th>8</th>\n      <td>trial</td>\n      <td>Left</td>\n      <td>None</td>\n      <td>0</td>\n      <td>0</td>\n      <td>10</td>\n      <td>10</td>\n    </tr>\n    <tr>\n      <th>9</th>\n      <td>trial</td>\n      <td>Left</td>\n      <td>None</td>\n      <td>0</td>\n      <td>0</td>\n      <td>10</td>\n      <td>10</td>\n    </tr>\n  </tbody>\n</table>\n</div>"
     },
     "execution_count": 196,
     "metadata": {},
     "output_type": "execute_result"
    }
   ],
   "source": [
    "survey_homepage_csv = pd.DataFrame.from_dict(survey_homepage_data)\n",
    "survey_homepage_csv.head(10)"
   ],
   "metadata": {
    "collapsed": false,
    "pycharm": {
     "name": "#%%\n"
    }
   }
  },
  {
   "cell_type": "code",
   "execution_count": 197,
   "outputs": [
    {
     "name": "stderr",
     "output_type": "stream",
     "text": [
      "<ipython-input-197-97ded1e4e055>:1: UserWarning: Boolean Series key will be reindexed to match DataFrame index.\n",
      "  right_survey_homepage = survey_homepage_csv[survey_csv['tree bias'] == 'Right'][['ply', 'left rec', 'right rec', 'other', 'total']]\n",
      "<ipython-input-197-97ded1e4e055>:2: UserWarning: Boolean Series key will be reindexed to match DataFrame index.\n",
      "  left_survey_homepage = survey_homepage_csv[survey_csv['tree bias'] == 'Left'][['ply', 'left rec', 'right rec', 'other', 'total']]\n"
     ]
    }
   ],
   "source": [
    "right_survey_homepage = survey_homepage_csv[survey_csv['tree bias'] == 'Right'][['ply', 'left rec', 'right rec', 'other', 'total']]\n",
    "left_survey_homepage = survey_homepage_csv[survey_csv['tree bias'] == 'Left'][['ply', 'left rec', 'right rec', 'other', 'total']]\n",
    "\n",
    "avg_per_position_right_survey_homepage = right_survey_homepage.groupby('ply').mean()\n",
    "avg_per_position_left_survey_homepage = left_survey_homepage.groupby('ply').mean()"
   ],
   "metadata": {
    "collapsed": false,
    "pycharm": {
     "name": "#%%\n"
    }
   }
  },
  {
   "cell_type": "code",
   "execution_count": 198,
   "outputs": [
    {
     "data": {
      "text/plain": "<matplotlib.axes._subplots.AxesSubplot at 0x1e3931ed160>"
     },
     "execution_count": 198,
     "metadata": {},
     "output_type": "execute_result"
    },
    {
     "data": {
      "text/plain": "<Figure size 432x288 with 1 Axes>",
      "image/png": "[encoded data removed]"
     },
     "metadata": {
      "needs_background": "light"
     },
     "output_type": "display_data"
    }
   ],
   "source": [
    "avg_per_position_left_survey_homepage.plot(legend=True)"
   ],
   "metadata": {
    "collapsed": false,
    "pycharm": {
     "name": "#%%\n"
    }
   }
  },
  {
   "cell_type": "code",
   "execution_count": 199,
   "outputs": [
    {
     "data": {
      "text/plain": "<matplotlib.axes._subplots.AxesSubplot at 0x1e38bab3ac0>"
     },
     "execution_count": 199,
     "metadata": {},
     "output_type": "execute_result"
    },
    {
     "data": {
      "text/plain": "<Figure size 432x288 with 1 Axes>",
      "image/png": "[encoded data removed]"
     },
     "metadata": {
      "needs_background": "light"
     },
     "output_type": "display_data"
    }
   ],
   "source": [
    "avg_per_position_right_survey_homepage.plot(legend=True)"
   ],
   "metadata": {
    "collapsed": false,
    "pycharm": {
     "name": "#%%\n"
    }
   }
  },
  {
   "cell_type": "markdown",
   "source": [
    "# Breadth"
   ],
   "metadata": {
    "collapsed": false
   }
  },
  {
   "cell_type": "code",
   "execution_count": 158,
   "outputs": [
    {
     "name": "stdout",
     "output_type": "stream",
     "text": [
      "1/73: Right || Tim Pool\n",
      "2/73: Left || Vox\n",
      "3/73: Left || Destiny\n",
      "4/73: Right || The Rubin Report\n",
      "5/73: Right || StevenCrowder\n"
     ]
    },
    {
     "name": "stderr",
     "output_type": "stream",
     "text": [
      "C:\\Users\\mikad\\anaconda3\\lib\\site-packages\\pandas\\core\\strings\\accessor.py:101: UserWarning: This pattern has match groups. To actually get the groups, use str.extract.\n",
      "  return func(self, *args, **kwargs)\n"
     ]
    },
    {
     "name": "stdout",
     "output_type": "stream",
     "text": [
      "6/73: Left || Innuendo Studios\n",
      "7/73: Left || Destiny\n",
      "8/73: Left || Big Joel\n",
      "9/73: Right || PragerU\n",
      "10/73: Right || Blaire White\n",
      "11/73: Left || hbomberguy\n",
      "12/73: Left || Vaush\n",
      "13/73: Left || The Majority Report w/ Sam Seder\n",
      "14/73: Left || Vaush\n",
      "15/73: Left || Vaush\n",
      "16/73: Left || Shaun\n",
      "17/73: Right || Tim Pool\n",
      "18/73: Right || StevenCrowder\n",
      "19/73: Right || Charlie Kirk\n",
      "20/73: Right || The Rubin Report\n",
      "21/73: Right || Michael Knowles\n",
      "22/73: Right || Paul Joseph Watson\n",
      "23/73: Right || Mark Dice\n",
      "24/73: Right || Lauren Southern\n",
      "25/73: Left || HasanAbi\n",
      "26/73: Left || Vaush\n",
      "27/73: Right || Sargon of Akkad\n",
      "28/73: Right || Paul Joseph Watson\n",
      "29/73: Left || The Majority Report w/ Sam Seder\n",
      "30/73: Right || Michael Knowles\n",
      "31/73: Left || Vaush\n",
      "32/73: Left || hbomberguy\n",
      "33/73: Left || Innuendo Studios\n",
      "34/73: Left || Three Arrows\n",
      "35/73: Right || The Daily Wire\n",
      "36/73: Left || Big Joel\n",
      "37/73: Right || Lauren Southern\n",
      "38/73: Left || The Majority Report w/ Sam Seder\n",
      "39/73: Left || Vaush\n",
      "40/73: Left || Vox\n",
      "41/73: Right || Ben Shapiro\n",
      "42/73: Left || Big Joel\n",
      "43/73: Right || Sargon of Akkad\n",
      "44/73: Left || Innuendo Studios\n",
      "45/73: Right || Candace Owens\n",
      "46/73: Right || PragerU\n",
      "47/73: Right || Mark Dice\n",
      "48/73: Right || StevenCrowder\n",
      "49/73: Left || Three Arrows\n",
      "50/73: Left || ContraPoints\n",
      "51/73: Left || HasanAbi\n",
      "52/73: Left || Vox\n",
      "53/73: Right || Candace Owens\n",
      "54/73: Right || Blaire White\n",
      "55/73: Right || Ben Shapiro\n",
      "56/73: Right || Tim Pool\n",
      "57/73: Right || PragerU\n",
      "58/73: Right || Blaire White\n",
      "59/73: Right || Mark Dice\n",
      "60/73: Left || Shaun\n",
      "61/73: Right || Ben Shapiro\n",
      "62/73: Right || Candace Owens\n",
      "63/73: Left || Three Arrows\n",
      "64/73: Left || ContraPoints\n",
      "65/73: Left || Shaun\n",
      "66/73: Right || Lauren Southern\n",
      "67/73: Left || Destiny\n",
      "68/73: Left || ContraPoints\n",
      "69/73: Left || Shaun\n",
      "70/73: Left || HasanAbi\n",
      "71/73: Right || The Rubin Report\n",
      "72/73: Right || Paul Joseph Watson\n",
      "73/73: Left || hbomberguy\n",
      "0\n"
     ]
    }
   ],
   "source": [
    "\n",
    "breadth_left_ids = []\n",
    "breadth_right_ids = []\n",
    "\n",
    "breadth_right_trees = []\n",
    "breadth_left_trees = []\n",
    "\n",
    "for trees in breadth_trees:\n",
    "    id = (trees.split('_')[3]).replace('.txt', '')\n",
    "    with open(path_breadth_trees + '\\\\' + trees, 'r') as outfile:\n",
    "        data = outfile.read()\n",
    "        root = importer.import_(data)\n",
    "        if root.id in right_wing_seeds:\n",
    "            breadth_right_ids.append(id)\n",
    "        else:\n",
    "            breadth_left_ids.append(id)\n",
    "\n",
    "breadth_data = {\n",
    "    'id': [],\n",
    "    'ply': [],\n",
    "    'left rec': [],\n",
    "    'right rec': [],\n",
    "    'other' : [],\n",
    "    'total': [],\n",
    "    'tree bias': [],\n",
    "    'video bias': []\n",
    "}\n",
    "\n",
    "#create the csv for the trees\n",
    "tree_number = 0\n",
    "for tree in breadth_trees:\n",
    "    tree_number += 1\n",
    "    print(f'{tree_number}/{len(breadth_trees)}', end='')\n",
    "    id = (tree.split('_')[3]).replace('.txt', '')\n",
    "    tree_bias = None\n",
    "    if id in breadth_left_ids:\n",
    "        tree_bias = 'Left'\n",
    "    elif id in breadth_right_ids:\n",
    "        tree_bias = 'Right'\n",
    "    else:\n",
    "        print(f'Problem')\n",
    "\n",
    "    print(f': {tree_bias} || ', end='')\n",
    "    #'id', 'tree bias', 'left rec', 'right rec', 'other', 'total', 'video bias'\n",
    "    with open(path_breadth_trees + '\\\\' + tree, 'r') as outfile:\n",
    "        data = outfile.read()\n",
    "        root = importer.import_(data)\n",
    "        print(root.video['content creator'])\n",
    "        for t in anytree.LevelOrderIter(root):\n",
    "            if t.title != None:\n",
    "                breadth_data['id'].append(id)\n",
    "                breadth_data['tree bias'].append(tree_bias)\n",
    "\n",
    "                count = {\n",
    "                    'left rec': 0,\n",
    "                    'right rec': 0,\n",
    "                    'other' : 0\n",
    "                }\n",
    "                children = t.children\n",
    "                if all(c.video != None for c in children) == True:\n",
    "                    for child in children:\n",
    "                        if child.video == None:\n",
    "                            print('okay')\n",
    "                        bias = content_creator_to_bias(child.video['content creator'])\n",
    "                        if bias != None:\n",
    "                            count[bias] += 1\n",
    "                        else:\n",
    "                            count['other'] += 1\n",
    "                            print('bad')\n",
    "                    breadth_data['total'].append(3)\n",
    "                else:\n",
    "                    breadth_data['total'].append(None)\n",
    "\n",
    "                for k, v in count.items():\n",
    "                    breadth_data[k].append(v)\n",
    "\n",
    "                video_bias = content_creator_to_bias(t.video['content creator'])\n",
    "                breadth_data['video bias'].append(video_bias)\n",
    "                ply = t.depth\n",
    "\n",
    "                breadth_data['ply'].append(ply)\n",
    "print(len(urls_to_visit))"
   ],
   "metadata": {
    "collapsed": false,
    "pycharm": {
     "name": "#%%\n"
    }
   }
  },
  {
   "cell_type": "code",
   "execution_count": 202,
   "outputs": [
    {
     "name": "stdout",
     "output_type": "stream",
     "text": [
      "id 8833\n",
      "ply 8833\n",
      "left rec 8833\n",
      "right rec 8833\n",
      "other 8833\n",
      "total 8833\n",
      "tree bias 8833\n",
      "video bias 8833\n"
     ]
    }
   ],
   "source": [
    "for k, v in breadth_data.items():\n",
    "    print(k, len(v))"
   ],
   "metadata": {
    "collapsed": false,
    "pycharm": {
     "name": "#%%\n"
    }
   }
  },
  {
   "cell_type": "code",
   "execution_count": 203,
   "outputs": [],
   "source": [
    "breadth_csv = pd.DataFrame.from_dict(breadth_data)\n",
    "breadth_csv.head(15)\n",
    "\n",
    "right_breadth = breadth_csv[breadth_csv['tree bias'] == 'Right'][['ply', 'left rec', 'right rec', 'other', 'total']]\n",
    "left_breadth = breadth_csv[breadth_csv['tree bias'] == 'Left'][['ply', 'left rec', 'right rec', 'other', 'total']]\n",
    "\n",
    "avg_per_position_right_breadth = right_breadth.groupby('ply').mean()\n",
    "avg_per_position_left_breadth = left_breadth.groupby('ply').mean()"
   ],
   "metadata": {
    "collapsed": false,
    "pycharm": {
     "name": "#%%\n"
    }
   }
  },
  {
   "cell_type": "code",
   "execution_count": 204,
   "outputs": [
    {
     "data": {
      "text/plain": "<matplotlib.axes._subplots.AxesSubplot at 0x1e39333dbe0>"
     },
     "execution_count": 204,
     "metadata": {},
     "output_type": "execute_result"
    },
    {
     "data": {
      "text/plain": "<Figure size 432x288 with 1 Axes>",
      "image/png": "[encoded data removed]"
     },
     "metadata": {
      "needs_background": "light"
     },
     "output_type": "display_data"
    }
   ],
   "source": [
    "avg_per_position_left_breadth.plot(legend=True)"
   ],
   "metadata": {
    "collapsed": false,
    "pycharm": {
     "name": "#%%\n"
    }
   }
  },
  {
   "cell_type": "code",
   "execution_count": 205,
   "outputs": [
    {
     "data": {
      "text/plain": "<matplotlib.axes._subplots.AxesSubplot at 0x1e39302f310>"
     },
     "execution_count": 205,
     "metadata": {},
     "output_type": "execute_result"
    },
    {
     "data": {
      "text/plain": "<Figure size 432x288 with 1 Axes>",
      "image/png": "[encoded data removed]"
     },
     "metadata": {
      "needs_background": "light"
     },
     "output_type": "display_data"
    }
   ],
   "source": [
    "avg_per_position_right_breadth.plot(legend=True)"
   ],
   "metadata": {
    "collapsed": false,
    "pycharm": {
     "name": "#%%\n"
    }
   }
  },
  {
   "cell_type": "markdown",
   "source": [
    "### ii. Homepage"
   ],
   "metadata": {
    "collapsed": false,
    "pycharm": {
     "name": "#%% md\n"
    }
   }
  },
  {
   "cell_type": "code",
   "execution_count": 190,
   "outputs": [
    {
     "name": "stderr",
     "output_type": "stream",
     "text": [
      "C:\\Users\\mikad\\anaconda3\\lib\\site-packages\\pandas\\core\\strings\\accessor.py:101: UserWarning: This pattern has match groups. To actually get the groups, use str.extract.\n",
      "  return func(self, *args, **kwargs)\n"
     ]
    }
   ],
   "source": [
    "breadth_homepage_data = {\n",
    "    'id': [],\n",
    "    'ply': [],\n",
    "    'tree bias': [],\n",
    "    'left rec' : [],\n",
    "    'right rec': [],\n",
    "    'other': [],\n",
    "    'total' : []\n",
    "}\n",
    "\n",
    "homepage_number = 0\n",
    "for homepage in breadth_homepages:\n",
    "    homepage_number += 1\n",
    "    #print(f'{homepage_number}/{len(survey_homepages)}')\n",
    "\n",
    "    # check id\n",
    "    id = (homepage.split('_')[4]).replace('.txt', '')\n",
    "\n",
    "    # check ply\n",
    "    ply = homepage.split('_')[1]\n",
    "    tree_bias = None\n",
    "    if id in breadth_left_ids:\n",
    "        tree_bias = 'Left'\n",
    "    elif id in breadth_right_ids:\n",
    "        tree_bias = 'Right'\n",
    "    else:\n",
    "        pass\n",
    "\n",
    "    with open(path_breadth_homepage + '\\\\' + homepage, 'r') as outfile:\n",
    "        # array of urls\n",
    "        lines = outfile.read().splitlines()\n",
    "        lines = [i for i in lines if (not(i == None) and not(i == ''))]\n",
    "        lines = lines[0 : min(10, len(lines))]\n",
    "\n",
    "        count = {\n",
    "            'left rec': 0,\n",
    "            'right rec': 0,\n",
    "            'other': 0,\n",
    "            'total': 0\n",
    "        }\n",
    "        none_count = 0\n",
    "        for url in lines:\n",
    "            content_creator = url_to_content_creator(url)\n",
    "            if content_creator == None:\n",
    "                none_count += 1\n",
    "            else:\n",
    "                bias = content_creator_to_bias(content_creator)\n",
    "                count[bias] += 1\n",
    "                count['total'] += 1\n",
    "        for k, v in count.items():\n",
    "            breadth_homepage_data[k].append(v)\n",
    "        breadth_homepage_data['tree bias'].append(tree_bias)\n",
    "        breadth_homepage_data['ply'].append(ply)\n",
    "        breadth_homepage_data['id'].append(id)\n",
    "\n",
    "    homepage_number += 1"
   ],
   "metadata": {
    "collapsed": false,
    "pycharm": {
     "name": "#%%\n"
    }
   }
  },
  {
   "cell_type": "code",
   "execution_count": 207,
   "outputs": [
    {
     "name": "stdout",
     "output_type": "stream",
     "text": [
      "id 549\n",
      "ply 549\n",
      "tree bias 549\n",
      "left rec 549\n",
      "right rec 549\n",
      "other 549\n",
      "total 549\n"
     ]
    }
   ],
   "source": [
    "for k, v in breadth_homepage_data.items():\n",
    "    print(k, len(v))"
   ],
   "metadata": {
    "collapsed": false,
    "pycharm": {
     "name": "#%%\n"
    }
   }
  },
  {
   "cell_type": "code",
   "execution_count": 208,
   "outputs": [
    {
     "data": {
      "text/plain": "                                     id ply tree bias  left rec  right rec  \\\n0  039ba009-9367-4515-8516-47dd1be8bbdb   0      None         1          0   \n1  042d6afc-c005-42bc-ac93-8d8836f8e74e   0     Right         0          0   \n2  06259d16-6b15-4c27-9ac0-9c50398c88a2   0      Left         0          0   \n3  09900df6-4b8d-495c-be0f-34c414137178   0      None         0          0   \n4  0a406daa-ae8b-4ab6-9caa-8db9e73cebbe   0      Left         0          0   \n5  0cbb70de-ac96-47fb-8e33-f805988dbf65   0     Right         2          1   \n6  10b5d6c7-4478-4d91-ad96-876af4877dd1   0     Right         2          0   \n7  17e1b278-8108-492f-be98-aa02497475d5   0      None         0          0   \n8  182e6b0b-1665-4e65-a96b-b442e4464791   0      Left         0          0   \n9  1d8b2c23-5c4d-43af-a631-f42a1b138b8b   0      None         0          0   \n\n   other  total  \n0      9     10  \n1     10     10  \n2     10     10  \n3      0      0  \n4     10     10  \n5      7     10  \n6      8     10  \n7      0      0  \n8     10     10  \n9      0      0  ",
      "text/html": "<div>\n<style scoped>\n    .dataframe tbody tr th:only-of-type {\n        vertical-align: middle;\n    }\n\n    .dataframe tbody tr th {\n        vertical-align: top;\n    }\n\n    .dataframe thead th {\n        text-align: right;\n    }\n</style>\n<table border=\"1\" class=\"dataframe\">\n  <thead>\n    <tr style=\"text-align: right;\">\n      <th></th>\n      <th>id</th>\n      <th>ply</th>\n      <th>tree bias</th>\n      <th>left rec</th>\n      <th>right rec</th>\n      <th>other</th>\n      <th>total</th>\n    </tr>\n  </thead>\n  <tbody>\n    <tr>\n      <th>0</th>\n      <td>039ba009-9367-4515-8516-47dd1be8bbdb</td>\n      <td>0</td>\n      <td>None</td>\n      <td>1</td>\n      <td>0</td>\n      <td>9</td>\n      <td>10</td>\n    </tr>\n    <tr>\n      <th>1</th>\n      <td>042d6afc-c005-42bc-ac93-8d8836f8e74e</td>\n      <td>0</td>\n      <td>Right</td>\n      <td>0</td>\n      <td>0</td>\n      <td>10</td>\n      <td>10</td>\n    </tr>\n    <tr>\n      <th>2</th>\n      <td>06259d16-6b15-4c27-9ac0-9c50398c88a2</td>\n      <td>0</td>\n      <td>Left</td>\n      <td>0</td>\n      <td>0</td>\n      <td>10</td>\n      <td>10</td>\n    </tr>\n    <tr>\n      <th>3</th>\n      <td>09900df6-4b8d-495c-be0f-34c414137178</td>\n      <td>0</td>\n      <td>None</td>\n      <td>0</td>\n      <td>0</td>\n      <td>0</td>\n      <td>0</td>\n    </tr>\n    <tr>\n      <th>4</th>\n      <td>0a406daa-ae8b-4ab6-9caa-8db9e73cebbe</td>\n      <td>0</td>\n      <td>Left</td>\n      <td>0</td>\n      <td>0</td>\n      <td>10</td>\n      <td>10</td>\n    </tr>\n    <tr>\n      <th>5</th>\n      <td>0cbb70de-ac96-47fb-8e33-f805988dbf65</td>\n      <td>0</td>\n      <td>Right</td>\n      <td>2</td>\n      <td>1</td>\n      <td>7</td>\n      <td>10</td>\n    </tr>\n    <tr>\n      <th>6</th>\n      <td>10b5d6c7-4478-4d91-ad96-876af4877dd1</td>\n      <td>0</td>\n      <td>Right</td>\n      <td>2</td>\n      <td>0</td>\n      <td>8</td>\n      <td>10</td>\n    </tr>\n    <tr>\n      <th>7</th>\n      <td>17e1b278-8108-492f-be98-aa02497475d5</td>\n      <td>0</td>\n      <td>None</td>\n      <td>0</td>\n      <td>0</td>\n      <td>0</td>\n      <td>0</td>\n    </tr>\n    <tr>\n      <th>8</th>\n      <td>182e6b0b-1665-4e65-a96b-b442e4464791</td>\n      <td>0</td>\n      <td>Left</td>\n      <td>0</td>\n      <td>0</td>\n      <td>10</td>\n      <td>10</td>\n    </tr>\n    <tr>\n      <th>9</th>\n      <td>1d8b2c23-5c4d-43af-a631-f42a1b138b8b</td>\n      <td>0</td>\n      <td>None</td>\n      <td>0</td>\n      <td>0</td>\n      <td>0</td>\n      <td>0</td>\n    </tr>\n  </tbody>\n</table>\n</div>"
     },
     "execution_count": 208,
     "metadata": {},
     "output_type": "execute_result"
    }
   ],
   "source": [
    "breadth_homepage_csv = pd.DataFrame.from_dict(breadth_homepage_data)\n",
    "breadth_homepage_csv.head(10)"
   ],
   "metadata": {
    "collapsed": false,
    "pycharm": {
     "name": "#%%\n"
    }
   }
  },
  {
   "cell_type": "code",
   "execution_count": 209,
   "outputs": [
    {
     "name": "stderr",
     "output_type": "stream",
     "text": [
      "<ipython-input-209-8f999820d3be>:1: UserWarning: Boolean Series key will be reindexed to match DataFrame index.\n",
      "  right_breadth_homepage = breadth_homepage_csv[breadth_csv['tree bias'] == 'Right'][['ply', 'left rec', 'right rec', 'other', 'total']]\n",
      "<ipython-input-209-8f999820d3be>:2: UserWarning: Boolean Series key will be reindexed to match DataFrame index.\n",
      "  left_breadth_homepage = breadth_homepage_csv[breadth_csv['tree bias'] == 'Left'][['ply', 'left rec', 'right rec', 'other', 'total']]\n"
     ]
    }
   ],
   "source": [
    "right_breadth_homepage = breadth_homepage_csv[breadth_csv['tree bias'] == 'Right'][['ply', 'left rec', 'right rec', 'other', 'total']]\n",
    "left_breadth_homepage = breadth_homepage_csv[breadth_csv['tree bias'] == 'Left'][['ply', 'left rec', 'right rec', 'other', 'total']]\n",
    "\n",
    "avg_per_position_right_breadth_homepage = right_breadth_homepage.groupby('ply').mean()\n",
    "avg_per_position_left_breadth_homepage = left_breadth_homepage.groupby('ply').mean()"
   ],
   "metadata": {
    "collapsed": false,
    "pycharm": {
     "name": "#%%\n"
    }
   }
  },
  {
   "cell_type": "code",
   "execution_count": 210,
   "outputs": [
    {
     "data": {
      "text/plain": "<matplotlib.axes._subplots.AxesSubplot at 0x1e39300aa30>"
     },
     "execution_count": 210,
     "metadata": {},
     "output_type": "execute_result"
    },
    {
     "data": {
      "text/plain": "<Figure size 432x288 with 1 Axes>",
      "image/png": "[encoded data removed]"
     },
     "metadata": {
      "needs_background": "light"
     },
     "output_type": "display_data"
    }
   ],
   "source": [
    "avg_per_position_left_breadth_homepage.plot(legend=True)"
   ],
   "metadata": {
    "collapsed": false,
    "pycharm": {
     "name": "#%%\n"
    }
   }
  },
  {
   "cell_type": "code",
   "execution_count": 211,
   "outputs": [
    {
     "data": {
      "text/plain": "<matplotlib.axes._subplots.AxesSubplot at 0x1e3932227f0>"
     },
     "execution_count": 211,
     "metadata": {},
     "output_type": "execute_result"
    },
    {
     "data": {
      "text/plain": "<Figure size 432x288 with 1 Axes>",
      "image/png": "[encoded data removed]"
     },
     "metadata": {
      "needs_background": "light"
     },
     "output_type": "display_data"
    }
   ],
   "source": [
    "avg_per_position_right_breadth_homepage.plot(legend=True)"
   ],
   "metadata": {
    "collapsed": false,
    "pycharm": {
     "name": "#%%\n"
    }
   }
  },
  {
   "cell_type": "markdown",
   "source": [
    "# 3. Create CSV files"
   ],
   "metadata": {
    "collapsed": false,
    "pycharm": {
     "name": "#%% md\n"
    }
   }
  },
  {
   "cell_type": "code",
   "execution_count": null,
   "outputs": [],
   "source": [
    "breadth_csv.to_csv('C:\\\\Users\\\\mikad\\\\PycharmProjects\\\\Comp_396_YouTube_Radicalization\\\\Analysis\\\\csvs\\\\' + 'breadth_experiment.csv')\n",
    "depth_csv.to_csv('C:\\\\Users\\\\mikad\\\\PycharmProjects\\\\Comp_396_YouTube_Radicalization\\\\Analysis\\\\csvs\\\\' + 'depth_experiment.csv')\n",
    "survey_csv.to_csv('C:\\\\Users\\\\mikad\\\\PycharmProjects\\\\Comp_396_YouTube_Radicalization\\\\Analysis\\\\csvs\\\\' + 'survey_experiment.csv')\n"
   ],
   "metadata": {
    "collapsed": false,
    "pycharm": {
     "name": "#%%\n"
    }
   }
  }
 ],
 "metadata": {
  "kernelspec": {
   "display_name": "Python 3",
   "language": "python",
   "name": "python3"
  },
  "language_info": {
   "codemirror_mode": {
    "name": "ipython",
    "version": 2
   },
   "file_extension": ".py",
   "mimetype": "text/x-python",
   "name": "python",
   "nbconvert_exporter": "python",
   "pygments_lexer": "ipython2",
   "version": "2.7.6"
  }
 },
 "nbformat": 4,
 "nbformat_minor": 0
}