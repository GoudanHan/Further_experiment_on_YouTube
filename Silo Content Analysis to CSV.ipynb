{
 "cells": [
  {
   "cell_type": "code",
   "execution_count": 120,
   "metadata": {
    "collapsed": true
   },
   "outputs": [],
   "source": [
    "\n",
    "import anytree.search\n",
    "import matplotlib.pyplot as plt\n",
    "import pandas as pd\n",
    "from anytree.importer import JsonImporter\n",
    "import os\n",
    "import json\n",
    "import datetime\n",
    "import numpy as np"
   ]
  },
  {
   "cell_type": "code",
   "execution_count": 11,
   "outputs": [],
   "source": [
    "# survey.csv\n",
    "# depth.csv\n",
    "# breadth.csv"
   ],
   "metadata": {
    "collapsed": false,
    "pycharm": {
     "name": "#%%\n"
    }
   }
  },
  {
   "cell_type": "code",
   "execution_count": 91,
   "outputs": [],
   "source": [
    "right_wing_seeds = []\n",
    "left_wing_seeds = []\n",
    "\n",
    "channels_df = pd.read_csv('C:\\\\Users\\\\mikad\\\\PycharmProjects\\\\Comp_396_YouTube_Radicalization\\\\channel_review.csv')\n",
    "\n",
    "with open('C:\\\\Users\\\\mikad\\\\PycharmProjects\\\\Comp_396_YouTube_Radicalization\\\\seeds\\\\seeds_right') as outfile:\n",
    "    lines = outfile.read().splitlines()\n",
    "    for i in lines:\n",
    "        right_wing_seeds.append(i)\n",
    "\n",
    "with open('C:\\\\Users\\\\mikad\\\\PycharmProjects\\\\Comp_396_YouTube_Radicalization\\\\seeds\\\\seeds_left') as outfile:\n",
    "    lines = outfile.read().splitlines()\n",
    "    for i in lines:\n",
    "        left_wing_seeds.append(i)"
   ],
   "metadata": {
    "collapsed": false,
    "pycharm": {
     "name": "#%%\n"
    }
   }
  },
  {
   "cell_type": "code",
   "execution_count": 92,
   "outputs": [
    {
     "name": "stdout",
     "output_type": "stream",
     "text": [
      "17126\n"
     ]
    }
   ],
   "source": [
    "#get dictionary of dictionairies\n",
    "path_videos = 'D:\\\\Data Science\\\\YouTube Content Silos\\\\Videos'\n",
    "video_info = {}\n",
    "json_files = os.listdir(path_videos)\n",
    "\n",
    "for file in json_files:\n",
    "    with open(path_videos+ '/' +file, 'r') as outfile:\n",
    "        data = json.load(outfile)\n",
    "        video_info.update(data)\n",
    "\n",
    "print(len(video_info.keys()))"
   ],
   "metadata": {
    "collapsed": false,
    "pycharm": {
     "name": "#%%\n"
    }
   }
  },
  {
   "cell_type": "code",
   "execution_count": 93,
   "outputs": [],
   "source": [
    "tags_right = ['AntiSJW', 'Conspiracy', 'PartisanRight', 'ReligiousConservative', 'WhiteIdentitarian', 'Libertarian', 'MRA', 'Total']\n",
    "tags_left = ['SocialJustice', 'Socialist', 'PartisanLeft', 'AntiWhiteness', 'LGBT']\n",
    "\n",
    "all_tags  = tags_right + tags_left"
   ],
   "metadata": {
    "collapsed": false,
    "pycharm": {
     "name": "#%%\n"
    }
   }
  },
  {
   "cell_type": "code",
   "execution_count": 137,
   "outputs": [],
   "source": [
    "# paths to everything\n",
    "path_survey_trees = \"D:\\\\Data Science\\\\YouTube Content Silos\\\\Survey\\\\tree\"\n",
    "path_survey_homepage = \"D:\\\\Data Science\\\\YouTube Content Silos\\\\Survey\\\\homepage\"\n",
    "\n",
    "survey_trees = os.listdir(path_survey_trees)\n",
    "survey_homepages = os.listdir(path_survey_homepage)\n",
    "\n",
    "path_depth_trees = \"D:\\\\Data Science\\\\YouTube Content Silos\\\\Depth\\\\tree\"\n",
    "path_depth_homepage = \"D:\\\\Data Science\\\\YouTube Content Silos\\\\Depth\\\\homepage\"\n",
    "\n",
    "depth_trees = os.listdir(path_depth_trees)\n",
    "depth_homepages = os.listdir(path_depth_homepage)\n",
    "\n",
    "path_breadth_trees = \"D:\\\\Data Science\\\\YouTube Content Silos\\\\Breadth\\\\Scraping-21-02-22\\\\tree\"\n",
    "path_breadth_homepage = \"D:\\\\Data Science\\\\YouTube Content Silos\\\\Breadth\\\\Scraping-21-02-22\\\\homepage\"\n",
    "\n",
    "breadth_trees = os.listdir(path_breadth_trees)\n",
    "breadth_homepages = os.listdir(path_breadth_homepage)"
   ],
   "metadata": {
    "collapsed": false,
    "pycharm": {
     "name": "#%%\n"
    }
   }
  },
  {
   "cell_type": "code",
   "execution_count": 95,
   "outputs": [],
   "source": [
    "# urls that are not in the dictionairy that we would like to visit\n",
    "urls_to_visit = []"
   ],
   "metadata": {
    "collapsed": false,
    "pycharm": {
     "name": "#%%\n"
    }
   }
  },
  {
   "cell_type": "markdown",
   "source": [
    "# 1. Get all the required video urls\n",
    "\n",
    "To-do\n",
    "* replace the breadth homepage urls\n",
    "* homepage video urls\n",
    "* recommended video urls\n",
    "* tree node urls"
   ],
   "metadata": {
    "collapsed": false,
    "pycharm": {
     "name": "#%% md\n"
    }
   }
  },
  {
   "cell_type": "code",
   "execution_count": 96,
   "outputs": [],
   "source": [
    "importer = JsonImporter()\n",
    "\n",
    "def text_to_date(date: str):\n",
    "    date = date.replace(',', '')\n",
    "    split_date = date.split(' ')\n",
    "    return datetime.date(year=split_date[2], month=split_date[0], day=split_date[1])\n",
    "\n",
    "def homepage_file_to_url(path_file:str):\n",
    "    homepages = []\n",
    "    with open(path_file, 'r') as outfile:\n",
    "        lines = outfile.read().splitlines()\n",
    "        lines = [i for i in lines if not(i == None)]\n",
    "        lines = lines[0 : min(10, len(lines))]\n",
    "\n",
    "        for i in lines:\n",
    "            if not (i in video_info.keys()):\n",
    "                homepages.append(i)\n",
    "        outfile.close()\n",
    "    return homepages\n",
    "\n",
    "def tree_file_to_url_list(file_path: str):\n",
    "    urls = []\n",
    "    with open(file_path, 'r') as outfile:\n",
    "        data = outfile.read()\n",
    "        root = importer.import_(data)\n",
    "        for t in anytree.LevelOrderIter(root):\n",
    "            if not(t.id == 'dummy'):\n",
    "                recommended_videos = t.top_10_recommended\n",
    "                recommended_videos = [i for i in recommended_videos if not(i == None)]\n",
    "                recommended_videos = recommended_videos[0:min(5, len(recommended_videos))]\n",
    "\n",
    "                video_url = t.id\n",
    "                urls.append(video_url)\n",
    "                for reco_urls in recommended_videos:\n",
    "                    urls.append(reco_urls)\n",
    "    return urls"
   ],
   "metadata": {
    "collapsed": false,
    "pycharm": {
     "name": "#%%\n"
    }
   }
  },
  {
   "cell_type": "code",
   "execution_count": 97,
   "outputs": [],
   "source": [
    "count = 0\n",
    "for d_trees in depth_trees:\n",
    "    urls = tree_file_to_url_list(path_depth_trees + '\\\\' + d_trees)\n",
    "    for i in urls:\n",
    "        count += 1\n",
    "        if not(i in video_info.keys()):\n",
    "            urls_to_visit.append(i)\n",
    "\n",
    "for s_trees in survey_trees:\n",
    "    urls = tree_file_to_url_list(path_survey_trees + '\\\\' + s_trees)\n",
    "    for i in urls:\n",
    "        count += 1\n",
    "        if not(i in video_info.keys()):\n",
    "            urls_to_visit.append(i)"
   ],
   "metadata": {
    "collapsed": false,
    "pycharm": {
     "name": "#%%\n"
    }
   }
  },
  {
   "cell_type": "code",
   "execution_count": 98,
   "outputs": [],
   "source": [
    "# cycle through the homepages and get the urls\n",
    "all_homepages = [survey_homepages, depth_homepages, breadth_homepages]\n",
    "all_paths = [path_survey_homepage, path_depth_homepage, path_breadth_homepage]\n",
    "\n",
    "for homepage_file, path in zip(all_homepages, all_paths):\n",
    "    for file in homepage_file:\n",
    "        file_path = path + '\\\\' + file\n",
    "        with open(file_path, 'r') as outfile:\n",
    "            urls = homepage_file_to_url(file_path)\n",
    "            for i in urls:\n",
    "                if not(i in video_info.keys()):\n",
    "                    urls_to_visit.append(i)"
   ],
   "metadata": {
    "collapsed": false,
    "pycharm": {
     "name": "#%%\n"
    }
   }
  },
  {
   "cell_type": "code",
   "execution_count": 99,
   "outputs": [
    {
     "name": "stdout",
     "output_type": "stream",
     "text": [
      "0\n"
     ]
    }
   ],
   "source": [
    "urls_to_visit = list(set(urls_to_visit))\n",
    "print(len(set(urls_to_visit)))"
   ],
   "metadata": {
    "collapsed": false,
    "pycharm": {
     "name": "#%%r\n"
    }
   }
  },
  {
   "cell_type": "code",
   "execution_count": 68,
   "outputs": [],
   "source": [
    "text_file_video_urls = open(f'{os.getcwd()}\\\\Videos to visit\\\\video urls.txt', 'w+')\n",
    "for urls in urls_to_visit:\n",
    "    text_file_video_urls.write(urls + '\\n')\n",
    "text_file_video_urls.close()"
   ],
   "metadata": {
    "collapsed": false,
    "pycharm": {
     "name": "#%%\n"
    }
   }
  },
  {
   "cell_type": "markdown",
   "source": [
    "# 2. Perform data analysis\n",
    "\n",
    "## a. Helper Scripts"
   ],
   "metadata": {
    "collapsed": false,
    "pycharm": {
     "name": "#%% md\n"
    }
   }
  },
  {
   "cell_type": "code",
   "execution_count": 100,
   "outputs": [],
   "source": [
    "#scripts common to all\n",
    "\n",
    "\"\"\"\n",
    "input : string\n",
    "    - name of the YouTube video content creator\n",
    "output : int\n",
    "    - 1 -> content creator is right wing\n",
    "    - (-1) -> content creator is left wing\n",
    "    - 0 -> content creator is neither\n",
    "\"\"\"\n",
    "def content_creator_to_bias(content_creator):\n",
    "    try:\n",
    "        if (channels_df['CHANNEL_TITLE'].str.contains('^'+ content_creator +'$').sum() > 0):\n",
    "            # now check what the type of the channels found were\n",
    "            c = channels_df.loc[channels_df['CHANNEL_TITLE'].str.contains('^'+ content_creator +'$', case=False, na=False)]\n",
    "            for tags in all_tags:\n",
    "                if (c['REVIEWER_TAGS'].str.contains(tags).sum() > 0) or (c['TAGS'].str.contains(tags).sum() > 0):\n",
    "                    if tags in tags_left:\n",
    "                        return 'left rec'\n",
    "                    elif tags in tags_right:\n",
    "                        return 'right rec'\n",
    "        return 'other rec'\n",
    "    except Exception as e:\n",
    "        print(content_creator)\n",
    "        raise ValueError(f'Error raise: \\n{e}')\n",
    "\n",
    "\"\"\"\n",
    "Description: given a url, it will return the content creator of the video\n",
    "input : string\n",
    "    - url of the video whose creator we want\n",
    "output : String || None\n",
    "    - content creator : string\n",
    "    -  None if\n",
    "        * url is None\n",
    "        * url is empty\n",
    "        * url is not known and needs to be scraped\n",
    "\"\"\"\n",
    "def url_to_content_creator(url:str):\n",
    "    if url == None:\n",
    "        return None\n",
    "\n",
    "    url = url.strip('\\n')\n",
    "\n",
    "    if url in video_info.keys():\n",
    "        return video_info[url]['content creator']\n",
    "    elif url == '':\n",
    "        return None\n",
    "    else:\n",
    "        urls_to_visit.append(url)\n",
    "        return None"
   ],
   "metadata": {
    "collapsed": false,
    "pycharm": {
     "name": "#%%\n"
    }
   }
  },
  {
   "cell_type": "markdown",
   "source": [
    "## b. Depth\n",
    "### i. Recommended videos"
   ],
   "metadata": {
    "collapsed": false
   }
  },
  {
   "cell_type": "code",
   "execution_count": 171,
   "outputs": [],
   "source": [
    "importer = JsonImporter()\n",
    "\n",
    "depth_left_ids = []\n",
    "depth_right_ids = []\n",
    "\n",
    "depth_right_trees = []\n",
    "depth_left_trees = []\n",
    "\n",
    "# figure out which files have right wing seed, which have left wing seed\n",
    "for trees in depth_trees:\n",
    "    id = (trees.split('_')[3]).replace('.txt', '')\n",
    "    with open(path_depth_trees + '\\\\' + trees, 'r') as outfile:\n",
    "        data = outfile.read()\n",
    "        root = importer.import_(data)\n",
    "        if root.id in right_wing_seeds:\n",
    "            depth_right_ids.append(id)\n",
    "        else:\n",
    "            depth_left_ids.append(id)"
   ],
   "metadata": {
    "collapsed": false,
    "pycharm": {
     "name": "#%%\n"
    }
   }
  },
  {
   "cell_type": "code",
   "execution_count": 101,
   "outputs": [
    {
     "name": "stdout",
     "output_type": "stream",
     "text": [
      "1/79False\n",
      "2/79False\n",
      "3/79False\n",
      "4/79False\n",
      "5/79False\n",
      "6/79"
     ]
    },
    {
     "name": "stderr",
     "output_type": "stream",
     "text": [
      "C:\\Users\\mikad\\anaconda3\\lib\\site-packages\\pandas\\core\\strings\\accessor.py:101: UserWarning: This pattern has match groups. To actually get the groups, use str.extract.\n",
      "  return func(self, *args, **kwargs)\n"
     ]
    },
    {
     "name": "stdout",
     "output_type": "stream",
     "text": [
      "False\n",
      "7/79False\n",
      "8/79False\n",
      "9/79False\n",
      "10/79False\n",
      "11/79False\n",
      "12/79False\n",
      "13/79False\n",
      "14/79False\n",
      "15/79False\n",
      "16/79False\n",
      "17/79False\n",
      "18/79False\n",
      "19/79False\n",
      "20/79False\n",
      "21/79False\n",
      "22/79False\n",
      "23/79False\n",
      "24/79False\n",
      "25/79False\n",
      "26/79False\n",
      "27/79False\n",
      "28/79False\n",
      "29/79False\n",
      "30/79False\n",
      "31/79False\n",
      "32/79False\n",
      "33/79False\n",
      "34/79False\n",
      "35/79False\n",
      "36/79False\n",
      "37/79False\n",
      "38/79False\n",
      "39/79False\n",
      "40/79False\n",
      "41/79False\n",
      "42/79False\n",
      "43/79False\n",
      "44/79False\n",
      "45/79False\n",
      "46/79False\n",
      "47/79False\n",
      "48/79False\n",
      "49/79False\n",
      "50/79False\n",
      "51/79False\n",
      "52/79False\n",
      "53/79False\n",
      "54/79False\n",
      "55/79False\n",
      "56/79False\n",
      "57/79False\n",
      "58/79False\n",
      "59/79False\n",
      "60/79False\n",
      "61/79False\n",
      "62/79False\n",
      "63/79False\n",
      "64/79False\n",
      "65/79False\n",
      "66/79False\n",
      "67/79False\n",
      "68/79False\n",
      "69/79False\n",
      "70/79False\n",
      "71/79False\n",
      "72/79False\n",
      "73/79False\n",
      "74/79False\n",
      "75/79False\n",
      "76/79False\n",
      "77/79False\n",
      "78/79False\n",
      "79/79False\n",
      "0\n"
     ]
    }
   ],
   "source": [
    "depth_data = {\n",
    "    'id': [],\n",
    "    'position': [],\n",
    "    'ply': [],\n",
    "    'tree bias': [],\n",
    "    'left rec': [],\n",
    "    'right rec': [],\n",
    "    'other rec': [],\n",
    "    'total': [],\n",
    "    'video bias': [],\n",
    "}\n",
    "\n",
    "#create the csv for the trees\n",
    "tree_number = 0\n",
    "for tree in depth_trees:\n",
    "    tree_number += 1\n",
    "    print(f'{tree_number}/{len(depth_trees)}', end='')\n",
    "    id = (tree.split('_')[3]).replace('.txt', '')\n",
    "    tree_bias = None\n",
    "    if id in depth_left_ids:\n",
    "        tree_bias = 'Left'\n",
    "    elif id in depth_right_ids:\n",
    "        tree_bias = 'Right'\n",
    "    else:\n",
    "        print(f'Problem')\n",
    "\n",
    "    #'id', 'tree bias', 'left rec', 'right rec', 'other', 'total', 'video bias'\n",
    "    with open(path_depth_trees + '\\\\' + tree, 'r') as outfile:\n",
    "        data = outfile.read()\n",
    "        root = importer.import_(data)\n",
    "        position = 0\n",
    "        corrupted = False\n",
    "        for t in anytree.PreOrderIter(root):\n",
    "\n",
    "            depth_data['id'].append(id)\n",
    "            depth_data['tree bias'].append(tree_bias)\n",
    "            depth_data['position'].append(position)\n",
    "            count = {\n",
    "                'left rec': 0,\n",
    "                'right rec': 0,\n",
    "                'other rec' : 0\n",
    "            }\n",
    "            # check that you only want top 5\n",
    "            recommended_videos = t.top_10_recommended\n",
    "            recommended_videos = [i for i in recommended_videos if not(i == None)]\n",
    "            recommended_videos = recommended_videos[0:min(5, len(recommended_videos))]\n",
    "            for rec in recommended_videos:\n",
    "                if rec != None:\n",
    "                    content_creator = url_to_content_creator(rec)\n",
    "                    if content_creator != None:\n",
    "                        bias =content_creator_to_bias(content_creator)\n",
    "                        count[bias] += 1\n",
    "                    else:\n",
    "                        count['other'] += 1\n",
    "                else:\n",
    "                    corrupted = True\n",
    "            for k, v in count.items():\n",
    "                depth_data[k].append(v)\n",
    "            depth_data['total'].append(5)\n",
    "            video_bias = content_creator_to_bias(t.video['content creator'])\n",
    "            depth_data['video bias'].append(video_bias)\n",
    "\n",
    "            if position == 0:\n",
    "                ply = 0\n",
    "            else:\n",
    "                pos_temp = position - 1\n",
    "                pos_temp = np.mod(pos_temp, 6)\n",
    "                ply = pos_temp + 1\n",
    "            depth_data['ply'].append(ply)\n",
    "            position += 1\n",
    "        print(corrupted)\n",
    "print(len(urls_to_visit))"
   ],
   "metadata": {
    "collapsed": false,
    "pycharm": {
     "name": "#%%\n"
    }
   }
  },
  {
   "cell_type": "code",
   "execution_count": null,
   "outputs": [],
   "source": [
    "for k, v in depth_data.items():\n",
    "    print(k, len(v))"
   ],
   "metadata": {
    "collapsed": false,
    "pycharm": {
     "name": "#%%\n"
    }
   }
  },
  {
   "cell_type": "code",
   "execution_count": null,
   "outputs": [],
   "source": [
    "depth_csv = pd.DataFrame.from_dict(depth_data)\n",
    "depth_csv.head(10)"
   ],
   "metadata": {
    "collapsed": false,
    "pycharm": {
     "name": "#%%\n"
    }
   }
  },
  {
   "cell_type": "code",
   "execution_count": null,
   "outputs": [],
   "source": [
    "right = depth_csv[depth_csv['tree bias'] == 'Right'][['position', 'ply', 'left rec', 'right rec', 'other', 'total']]\n",
    "left = depth_csv[depth_csv['tree bias'] == 'Left'][['position', 'ply', 'left rec', 'right rec', 'other', 'total']]\n",
    "\n",
    "avg_per_position_right = right.groupby('position').mean()\n",
    "avg_per_position_left = left.groupby('position').mean()"
   ],
   "metadata": {
    "collapsed": false,
    "pycharm": {
     "name": "#%%\n"
    }
   }
  },
  {
   "cell_type": "code",
   "execution_count": null,
   "outputs": [],
   "source": [
    "avg_per_position_left.plot(legend=True)"
   ],
   "metadata": {
    "collapsed": false,
    "pycharm": {
     "name": "#%%\n"
    }
   }
  },
  {
   "cell_type": "code",
   "execution_count": null,
   "outputs": [],
   "source": [
    "avg_per_position_right.plot(legend=True)"
   ],
   "metadata": {
    "collapsed": false,
    "pycharm": {
     "name": "#%%\n"
    }
   }
  },
  {
   "cell_type": "markdown",
   "source": [
    "### ii. Homepage videos depth"
   ],
   "metadata": {
    "collapsed": false,
    "pycharm": {
     "name": "#%% md\n"
    }
   }
  },
  {
   "cell_type": "code",
   "execution_count": 175,
   "outputs": [
    {
     "name": "stdout",
     "output_type": "stream",
     "text": [
      "1/560\n",
      "Problem\n",
      "3/560\n",
      "5/560\n",
      "7/560\n",
      "9/560\n",
      "11/560\n",
      "13/560\n",
      "15/560\n",
      "17/560\n",
      "19/560\n",
      "21/560\n",
      "23/560\n",
      "25/560\n",
      "27/560\n",
      "29/560\n",
      "31/560\n",
      "33/560\n",
      "35/560\n",
      "37/560\n",
      "39/560\n",
      "41/560\n",
      "43/560\n",
      "45/560\n",
      "47/560\n",
      "49/560\n",
      "51/560\n",
      "53/560\n",
      "55/560\n",
      "57/560\n",
      "59/560\n",
      "61/560\n",
      "63/560\n",
      "65/560\n",
      "67/560\n",
      "69/560\n",
      "71/560\n",
      "73/560\n",
      "75/560\n",
      "77/560\n",
      "79/560\n",
      "81/560\n",
      "83/560\n",
      "85/560\n",
      "87/560\n",
      "89/560\n",
      "91/560\n",
      "93/560\n",
      "95/560\n",
      "97/560\n",
      "99/560\n",
      "101/560\n",
      "103/560\n",
      "105/560\n",
      "107/560\n",
      "109/560\n",
      "111/560\n",
      "113/560\n",
      "115/560\n",
      "117/560\n",
      "119/560\n",
      "121/560\n",
      "123/560\n",
      "125/560\n",
      "127/560\n",
      "129/560\n",
      "131/560\n",
      "133/560\n",
      "135/560\n",
      "137/560\n",
      "139/560\n",
      "141/560\n",
      "143/560\n",
      "145/560\n",
      "147/560\n",
      "149/560\n",
      "151/560\n",
      "153/560\n",
      "155/560\n",
      "157/560\n",
      "159/560\n",
      "161/560\n",
      "Problem\n",
      "163/560\n",
      "165/560\n",
      "167/560\n",
      "169/560\n"
     ]
    },
    {
     "name": "stderr",
     "output_type": "stream",
     "text": [
      "C:\\Users\\mikad\\anaconda3\\lib\\site-packages\\pandas\\core\\strings\\accessor.py:101: UserWarning: This pattern has match groups. To actually get the groups, use str.extract.\n",
      "  return func(self, *args, **kwargs)\n"
     ]
    },
    {
     "name": "stdout",
     "output_type": "stream",
     "text": [
      "171/560\n",
      "173/560\n",
      "175/560\n",
      "177/560\n",
      "179/560\n",
      "181/560\n",
      "183/560\n",
      "185/560\n",
      "187/560\n",
      "189/560\n",
      "191/560\n",
      "193/560\n",
      "195/560\n",
      "197/560\n",
      "199/560\n",
      "201/560\n",
      "203/560\n",
      "205/560\n",
      "207/560\n",
      "209/560\n",
      "211/560\n",
      "213/560\n",
      "215/560\n",
      "217/560\n",
      "219/560\n",
      "221/560\n",
      "223/560\n",
      "225/560\n",
      "227/560\n",
      "229/560\n",
      "231/560\n",
      "233/560\n",
      "235/560\n",
      "237/560\n",
      "239/560\n",
      "241/560\n",
      "243/560\n",
      "245/560\n",
      "247/560\n",
      "249/560\n",
      "251/560\n",
      "253/560\n",
      "255/560\n",
      "257/560\n",
      "259/560\n",
      "261/560\n",
      "263/560\n",
      "265/560\n",
      "267/560\n",
      "269/560\n",
      "271/560\n",
      "273/560\n",
      "275/560\n",
      "277/560\n",
      "279/560\n",
      "281/560\n",
      "283/560\n",
      "285/560\n",
      "287/560\n",
      "289/560\n",
      "291/560\n",
      "293/560\n",
      "295/560\n",
      "297/560\n",
      "299/560\n",
      "301/560\n",
      "303/560\n",
      "305/560\n",
      "307/560\n",
      "309/560\n",
      "311/560\n",
      "313/560\n",
      "315/560\n",
      "317/560\n",
      "319/560\n",
      "321/560\n",
      "Problem\n",
      "323/560\n",
      "325/560\n",
      "327/560\n",
      "329/560\n",
      "331/560\n",
      "333/560\n",
      "335/560\n",
      "337/560\n",
      "339/560\n",
      "341/560\n",
      "343/560\n",
      "345/560\n",
      "347/560\n",
      "349/560\n",
      "351/560\n",
      "353/560\n",
      "355/560\n",
      "357/560\n",
      "359/560\n",
      "361/560\n",
      "363/560\n",
      "365/560\n",
      "367/560\n",
      "369/560\n",
      "371/560\n",
      "373/560\n",
      "375/560\n",
      "377/560\n",
      "379/560\n",
      "381/560\n",
      "383/560\n",
      "385/560\n",
      "387/560\n",
      "389/560\n",
      "391/560\n",
      "393/560\n",
      "395/560\n",
      "397/560\n",
      "399/560\n",
      "401/560\n",
      "403/560\n",
      "405/560\n",
      "407/560\n",
      "409/560\n",
      "411/560\n",
      "413/560\n",
      "415/560\n",
      "417/560\n",
      "419/560\n",
      "421/560\n",
      "423/560\n",
      "425/560\n",
      "427/560\n",
      "429/560\n",
      "431/560\n",
      "433/560\n",
      "435/560\n",
      "437/560\n",
      "439/560\n",
      "441/560\n",
      "443/560\n",
      "445/560\n",
      "447/560\n",
      "449/560\n",
      "451/560\n",
      "453/560\n",
      "455/560\n",
      "457/560\n",
      "459/560\n",
      "461/560\n",
      "463/560\n",
      "465/560\n",
      "467/560\n",
      "469/560\n",
      "471/560\n",
      "473/560\n",
      "475/560\n",
      "477/560\n",
      "479/560\n",
      "481/560\n",
      "Problem\n",
      "483/560\n",
      "485/560\n",
      "487/560\n",
      "489/560\n",
      "491/560\n",
      "493/560\n",
      "495/560\n",
      "497/560\n",
      "499/560\n",
      "501/560\n",
      "503/560\n",
      "505/560\n",
      "507/560\n",
      "509/560\n",
      "511/560\n",
      "513/560\n",
      "515/560\n",
      "517/560\n",
      "519/560\n",
      "521/560\n",
      "523/560\n",
      "525/560\n",
      "527/560\n",
      "529/560\n",
      "531/560\n",
      "533/560\n",
      "535/560\n",
      "537/560\n",
      "539/560\n",
      "541/560\n",
      "543/560\n",
      "545/560\n",
      "547/560\n",
      "549/560\n",
      "551/560\n",
      "553/560\n",
      "555/560\n",
      "557/560\n",
      "559/560\n",
      "561/560\n",
      "563/560\n",
      "565/560\n",
      "567/560\n",
      "569/560\n",
      "571/560\n",
      "573/560\n",
      "575/560\n",
      "577/560\n",
      "579/560\n",
      "581/560\n",
      "583/560\n",
      "585/560\n",
      "587/560\n",
      "589/560\n",
      "591/560\n",
      "593/560\n",
      "595/560\n",
      "597/560\n",
      "599/560\n",
      "601/560\n",
      "603/560\n",
      "605/560\n",
      "607/560\n",
      "609/560\n",
      "611/560\n",
      "613/560\n",
      "615/560\n",
      "617/560\n",
      "619/560\n",
      "621/560\n",
      "623/560\n",
      "625/560\n",
      "627/560\n",
      "629/560\n",
      "631/560\n",
      "633/560\n",
      "635/560\n",
      "637/560\n",
      "639/560\n",
      "641/560\n",
      "Problem\n",
      "643/560\n",
      "645/560\n",
      "647/560\n",
      "649/560\n",
      "651/560\n",
      "653/560\n",
      "655/560\n",
      "657/560\n",
      "659/560\n",
      "661/560\n",
      "663/560\n",
      "665/560\n",
      "667/560\n",
      "669/560\n",
      "671/560\n",
      "673/560\n",
      "675/560\n",
      "677/560\n",
      "679/560\n",
      "681/560\n",
      "683/560\n",
      "685/560\n",
      "687/560\n",
      "689/560\n",
      "691/560\n",
      "693/560\n",
      "695/560\n",
      "697/560\n",
      "699/560\n",
      "701/560\n",
      "703/560\n",
      "705/560\n",
      "707/560\n",
      "709/560\n",
      "711/560\n",
      "713/560\n",
      "715/560\n",
      "717/560\n",
      "719/560\n",
      "721/560\n",
      "723/560\n",
      "725/560\n",
      "727/560\n",
      "729/560\n",
      "731/560\n",
      "733/560\n",
      "735/560\n",
      "737/560\n",
      "739/560\n",
      "741/560\n",
      "743/560\n",
      "745/560\n",
      "747/560\n",
      "749/560\n",
      "751/560\n",
      "753/560\n",
      "755/560\n",
      "757/560\n",
      "759/560\n",
      "761/560\n",
      "763/560\n",
      "765/560\n",
      "767/560\n",
      "769/560\n",
      "771/560\n",
      "773/560\n",
      "775/560\n",
      "777/560\n",
      "779/560\n",
      "781/560\n",
      "783/560\n",
      "785/560\n",
      "787/560\n",
      "789/560\n",
      "791/560\n",
      "793/560\n",
      "795/560\n",
      "797/560\n",
      "799/560\n",
      "801/560\n",
      "Problem\n",
      "803/560\n",
      "805/560\n",
      "807/560\n",
      "809/560\n",
      "811/560\n",
      "813/560\n",
      "815/560\n",
      "817/560\n",
      "819/560\n",
      "821/560\n",
      "823/560\n",
      "825/560\n",
      "827/560\n",
      "829/560\n",
      "831/560\n",
      "833/560\n",
      "835/560\n",
      "837/560\n",
      "839/560\n",
      "841/560\n",
      "843/560\n",
      "845/560\n",
      "847/560\n",
      "849/560\n",
      "851/560\n",
      "853/560\n",
      "855/560\n",
      "857/560\n",
      "859/560\n",
      "861/560\n",
      "863/560\n",
      "865/560\n",
      "867/560\n",
      "869/560\n",
      "871/560\n",
      "873/560\n",
      "875/560\n",
      "877/560\n",
      "879/560\n",
      "881/560\n",
      "883/560\n",
      "885/560\n",
      "887/560\n",
      "889/560\n",
      "891/560\n",
      "893/560\n",
      "895/560\n",
      "897/560\n",
      "899/560\n",
      "901/560\n",
      "903/560\n",
      "905/560\n",
      "907/560\n",
      "909/560\n",
      "911/560\n",
      "913/560\n",
      "915/560\n",
      "917/560\n",
      "919/560\n",
      "921/560\n",
      "923/560\n",
      "925/560\n",
      "927/560\n",
      "929/560\n",
      "931/560\n",
      "933/560\n",
      "935/560\n",
      "937/560\n",
      "939/560\n",
      "941/560\n",
      "943/560\n",
      "945/560\n",
      "947/560\n",
      "949/560\n",
      "951/560\n",
      "953/560\n",
      "955/560\n",
      "957/560\n",
      "959/560\n",
      "961/560\n",
      "Problem\n",
      "963/560\n",
      "965/560\n",
      "967/560\n",
      "969/560\n",
      "971/560\n",
      "973/560\n",
      "975/560\n",
      "977/560\n",
      "979/560\n",
      "981/560\n",
      "983/560\n",
      "985/560\n",
      "987/560\n",
      "989/560\n",
      "991/560\n",
      "993/560\n",
      "995/560\n",
      "997/560\n",
      "999/560\n",
      "1001/560\n",
      "1003/560\n",
      "1005/560\n",
      "1007/560\n",
      "1009/560\n",
      "1011/560\n",
      "1013/560\n",
      "1015/560\n",
      "1017/560\n",
      "1019/560\n",
      "1021/560\n",
      "1023/560\n",
      "1025/560\n",
      "1027/560\n",
      "1029/560\n",
      "1031/560\n",
      "1033/560\n",
      "1035/560\n",
      "1037/560\n",
      "1039/560\n",
      "1041/560\n",
      "1043/560\n",
      "1045/560\n",
      "1047/560\n",
      "1049/560\n",
      "1051/560\n",
      "1053/560\n",
      "1055/560\n",
      "1057/560\n",
      "1059/560\n",
      "1061/560\n",
      "1063/560\n",
      "1065/560\n",
      "1067/560\n",
      "1069/560\n",
      "1071/560\n",
      "1073/560\n",
      "1075/560\n",
      "1077/560\n",
      "1079/560\n",
      "1081/560\n",
      "1083/560\n",
      "1085/560\n",
      "1087/560\n",
      "1089/560\n",
      "1091/560\n",
      "1093/560\n",
      "1095/560\n",
      "1097/560\n",
      "1099/560\n",
      "1101/560\n",
      "1103/560\n",
      "1105/560\n",
      "1107/560\n",
      "1109/560\n",
      "1111/560\n",
      "1113/560\n",
      "1115/560\n",
      "1117/560\n",
      "1119/560\n"
     ]
    }
   ],
   "source": [
    "depth_homepage_data = {\n",
    "    'id': [],\n",
    "    'ply': [],\n",
    "    'tree bias': [],\n",
    "    'left rec' : [],\n",
    "    'right rec': [],\n",
    "    'other': [],\n",
    "    'total' : []\n",
    "}\n",
    "\n",
    "homepage_number = 0\n",
    "for homepage in depth_homepages:\n",
    "    homepage_number += 1\n",
    "    print(f'{homepage_number}/{len(depth_homepages)}')\n",
    "\n",
    "    # check id\n",
    "    id = (homepage.split('_')[4]).replace('.txt', '')\n",
    "\n",
    "    # check ply\n",
    "    ply = homepage.split('_')[1]\n",
    "    tree_bias = None\n",
    "    if id in depth_left_ids:\n",
    "        tree_bias = 'Left'\n",
    "    elif id in depth_right_ids:\n",
    "        tree_bias = 'Right'\n",
    "    else:\n",
    "        print(f'Problem')\n",
    "\n",
    "    with open(path_depth_homepage + '\\\\' + homepage, 'r') as outfile:\n",
    "        # array of urls\n",
    "        lines = outfile.read().splitlines()\n",
    "        lines = [i for i in lines if (not(i == None) and not(i == ''))]\n",
    "        lines = lines[0 : min(10, len(lines))]\n",
    "\n",
    "        count = {\n",
    "            'left rec': 0,\n",
    "            'right rec': 0,\n",
    "            'other': 0,\n",
    "            'total': 0\n",
    "        }\n",
    "        none_count = 0\n",
    "        for url in lines:\n",
    "            content_creator = url_to_content_creator(url)\n",
    "            if content_creator == None:\n",
    "                none_count += 1\n",
    "            else:\n",
    "                bias = content_creator_to_bias(content_creator)\n",
    "                count[bias] += 1\n",
    "                count['total'] += 1\n",
    "        for k, v in count.items():\n",
    "            depth_homepage_data[k].append(v)\n",
    "        depth_homepage_data['tree bias'].append(tree_bias)\n",
    "        depth_homepage_data['ply'].append(ply)\n",
    "        depth_homepage_data['id'].append(id)\n",
    "\n",
    "    homepage_number += 1"
   ],
   "metadata": {
    "collapsed": false,
    "pycharm": {
     "name": "#%%\n"
    }
   }
  },
  {
   "cell_type": "code",
   "execution_count": 176,
   "outputs": [
    {
     "name": "stdout",
     "output_type": "stream",
     "text": [
      "id 560\n",
      "ply 560\n",
      "tree bias 560\n",
      "left rec 560\n",
      "right rec 560\n",
      "other 560\n",
      "total 560\n"
     ]
    }
   ],
   "source": [
    "for k, v in depth_homepage_data.items():\n",
    "    print(k, len(v))"
   ],
   "metadata": {
    "collapsed": false,
    "pycharm": {
     "name": "#%%\n"
    }
   }
  },
  {
   "cell_type": "code",
   "execution_count": 177,
   "outputs": [
    {
     "data": {
      "text/plain": "                                     id ply tree bias  left rec  right rec  \\\n0  02f351fd-9736-4e1c-81bf-592980b39729   0      None         0          0   \n1  37fa5b1c-a5cb-4289-9831-9f44f42d631e   0      Left         0          0   \n2  457baab1-831e-444b-adeb-a4304f6ef053   0      Left         0          0   \n3  7fdb62ab-a464-45c4-a1bf-be501207ee4d   0      Left         0          0   \n4  8cd7ecaa-6378-43cf-b9f3-8e335437f0f4   0      Left         0          0   \n5  e6917e17-2486-4e48-a30e-ef1a365a1f9e   0      Left         0          0   \n6  e91d79e2-4e08-43f0-ae98-6d1f11c76236   0      Left         0          0   \n7  f47e3fb0-910c-4144-9605-0d15f683ae48   0      Left         0          0   \n8  f4b9f3a7-cad6-4eef-8e56-b2573b8eb778   0     Right         0          1   \n9  f7eafc12-9354-4f23-a6de-00d580bae02b   0      Left         0          0   \n\n   other  total  \n0     10     10  \n1     10     10  \n2     10     10  \n3     10     10  \n4     10     10  \n5     10     10  \n6     10     10  \n7     10     10  \n8      9     10  \n9     10     10  ",
      "text/html": "<div>\n<style scoped>\n    .dataframe tbody tr th:only-of-type {\n        vertical-align: middle;\n    }\n\n    .dataframe tbody tr th {\n        vertical-align: top;\n    }\n\n    .dataframe thead th {\n        text-align: right;\n    }\n</style>\n<table border=\"1\" class=\"dataframe\">\n  <thead>\n    <tr style=\"text-align: right;\">\n      <th></th>\n      <th>id</th>\n      <th>ply</th>\n      <th>tree bias</th>\n      <th>left rec</th>\n      <th>right rec</th>\n      <th>other</th>\n      <th>total</th>\n    </tr>\n  </thead>\n  <tbody>\n    <tr>\n      <th>0</th>\n      <td>02f351fd-9736-4e1c-81bf-592980b39729</td>\n      <td>0</td>\n      <td>None</td>\n      <td>0</td>\n      <td>0</td>\n      <td>10</td>\n      <td>10</td>\n    </tr>\n    <tr>\n      <th>1</th>\n      <td>37fa5b1c-a5cb-4289-9831-9f44f42d631e</td>\n      <td>0</td>\n      <td>Left</td>\n      <td>0</td>\n      <td>0</td>\n      <td>10</td>\n      <td>10</td>\n    </tr>\n    <tr>\n      <th>2</th>\n      <td>457baab1-831e-444b-adeb-a4304f6ef053</td>\n      <td>0</td>\n      <td>Left</td>\n      <td>0</td>\n      <td>0</td>\n      <td>10</td>\n      <td>10</td>\n    </tr>\n    <tr>\n      <th>3</th>\n      <td>7fdb62ab-a464-45c4-a1bf-be501207ee4d</td>\n      <td>0</td>\n      <td>Left</td>\n      <td>0</td>\n      <td>0</td>\n      <td>10</td>\n      <td>10</td>\n    </tr>\n    <tr>\n      <th>4</th>\n      <td>8cd7ecaa-6378-43cf-b9f3-8e335437f0f4</td>\n      <td>0</td>\n      <td>Left</td>\n      <td>0</td>\n      <td>0</td>\n      <td>10</td>\n      <td>10</td>\n    </tr>\n    <tr>\n      <th>5</th>\n      <td>e6917e17-2486-4e48-a30e-ef1a365a1f9e</td>\n      <td>0</td>\n      <td>Left</td>\n      <td>0</td>\n      <td>0</td>\n      <td>10</td>\n      <td>10</td>\n    </tr>\n    <tr>\n      <th>6</th>\n      <td>e91d79e2-4e08-43f0-ae98-6d1f11c76236</td>\n      <td>0</td>\n      <td>Left</td>\n      <td>0</td>\n      <td>0</td>\n      <td>10</td>\n      <td>10</td>\n    </tr>\n    <tr>\n      <th>7</th>\n      <td>f47e3fb0-910c-4144-9605-0d15f683ae48</td>\n      <td>0</td>\n      <td>Left</td>\n      <td>0</td>\n      <td>0</td>\n      <td>10</td>\n      <td>10</td>\n    </tr>\n    <tr>\n      <th>8</th>\n      <td>f4b9f3a7-cad6-4eef-8e56-b2573b8eb778</td>\n      <td>0</td>\n      <td>Right</td>\n      <td>0</td>\n      <td>1</td>\n      <td>9</td>\n      <td>10</td>\n    </tr>\n    <tr>\n      <th>9</th>\n      <td>f7eafc12-9354-4f23-a6de-00d580bae02b</td>\n      <td>0</td>\n      <td>Left</td>\n      <td>0</td>\n      <td>0</td>\n      <td>10</td>\n      <td>10</td>\n    </tr>\n  </tbody>\n</table>\n</div>"
     },
     "execution_count": 177,
     "metadata": {},
     "output_type": "execute_result"
    }
   ],
   "source": [
    "depth_homepage_csv = pd.DataFrame.from_dict(depth_homepage_data)\n",
    "depth_homepage_csv.head(10)"
   ],
   "metadata": {
    "collapsed": false,
    "pycharm": {
     "name": "#%%\n"
    }
   }
  },
  {
   "cell_type": "code",
   "execution_count": 181,
   "outputs": [
    {
     "name": "stderr",
     "output_type": "stream",
     "text": [
      "<ipython-input-181-6c9d04ba33d9>:1: UserWarning: Boolean Series key will be reindexed to match DataFrame index.\n",
      "  right_depth_homepage = depth_homepage_csv[depth_csv['tree bias'] == 'Right'][['ply', 'left rec', 'right rec', 'other', 'total']]\n",
      "<ipython-input-181-6c9d04ba33d9>:2: UserWarning: Boolean Series key will be reindexed to match DataFrame index.\n",
      "  left_depth_homepage = depth_homepage_csv[depth_csv['tree bias'] == 'Left'][['ply', 'left rec', 'right rec', 'other', 'total']]\n"
     ]
    }
   ],
   "source": [
    "right_depth_homepage = depth_homepage_csv[depth_csv['tree bias'] == 'Right'][['ply', 'left rec', 'right rec', 'other', 'total']]\n",
    "left_depth_homepage = depth_homepage_csv[depth_csv['tree bias'] == 'Left'][['ply', 'left rec', 'right rec', 'other', 'total']]\n",
    "\n",
    "avg_per_position_right_depth_homepage = right_depth_homepage.groupby('ply').mean()\n",
    "avg_per_position_left_depth_homepage = left_depth_homepage.groupby('ply').mean()"
   ],
   "metadata": {
    "collapsed": false,
    "pycharm": {
     "name": "#%%\n"
    }
   }
  },
  {
   "cell_type": "code",
   "execution_count": 182,
   "outputs": [
    {
     "data": {
      "text/plain": "<matplotlib.axes._subplots.AxesSubplot at 0x1e392f919d0>"
     },
     "execution_count": 182,
     "metadata": {},
     "output_type": "execute_result"
    },
    {
     "data": {
      "text/plain": "<Figure size 432x288 with 1 Axes>",
      "image/png": "[encoded data removed]"
     },
     "metadata": {
      "needs_background": "light"
     },
     "output_type": "display_data"
    }
   ],
   "source": [
    "avg_per_position_left_depth_homepage.plot(legend=True)"
   ],
   "metadata": {
    "collapsed": false,
    "pycharm": {
     "name": "#%%\n"
    }
   }
  },
  {
   "cell_type": "code",
   "execution_count": 183,
   "outputs": [
    {
     "data": {
      "text/plain": "<matplotlib.axes._subplots.AxesSubplot at 0x1e392f03d90>"
     },
     "execution_count": 183,
     "metadata": {},
     "output_type": "execute_result"
    },
    {
     "data": {
      "text/plain": "<Figure size 432x288 with 1 Axes>",
      "image/png": "[encoded data removed]"
     },
     "metadata": {
      "needs_background": "light"
     },
     "output_type": "display_data"
    }
   ],
   "source": [
    "avg_per_position_right_depth_homepage.plot(legend=True)"
   ],
   "metadata": {
    "collapsed": false,
    "pycharm": {
     "name": "#%%\n"
    }
   }
  },
  {
   "cell_type": "markdown",
   "source": [
    "# Survey"
   ],
   "metadata": {
    "collapsed": false
   }
  },
  {
   "cell_type": "code",
   "execution_count": 122,
   "outputs": [
    {
     "name": "stdout",
     "output_type": "stream",
     "text": [
      "1/79\n",
      "2/79\n",
      "3/79\n",
      "4/79\n",
      "5/79\n",
      "6/79\n",
      "7/79\n",
      "8/79\n",
      "9/79\n",
      "10/79\n"
     ]
    },
    {
     "name": "stderr",
     "output_type": "stream",
     "text": [
      "C:\\Users\\mikad\\anaconda3\\lib\\site-packages\\pandas\\core\\strings\\accessor.py:101: UserWarning: This pattern has match groups. To actually get the groups, use str.extract.\n",
      "  return func(self, *args, **kwargs)\n"
     ]
    },
    {
     "name": "stdout",
     "output_type": "stream",
     "text": [
      "11/79\n",
      "12/79\n",
      "13/79\n",
      "14/79\n",
      "15/79\n",
      "16/79\n",
      "17/79\n",
      "18/79\n",
      "19/79\n",
      "20/79\n",
      "21/79\n",
      "22/79\n",
      "23/79\n",
      "24/79\n",
      "25/79\n",
      "26/79\n",
      "27/79\n",
      "28/79\n",
      "29/79\n",
      "30/79\n",
      "31/79\n",
      "32/79\n",
      "33/79\n",
      "34/79\n",
      "35/79\n",
      "36/79\n",
      "37/79\n",
      "38/79\n",
      "39/79\n",
      "40/79\n",
      "41/79\n",
      "42/79\n",
      "43/79\n",
      "44/79\n",
      "45/79\n",
      "46/79\n",
      "47/79\n",
      "48/79\n",
      "49/79\n",
      "50/79\n",
      "51/79\n",
      "52/79\n",
      "53/79\n",
      "54/79\n",
      "55/79\n",
      "56/79\n",
      "57/79\n",
      "58/79\n",
      "59/79\n",
      "60/79\n",
      "61/79\n",
      "62/79\n",
      "63/79\n",
      "64/79\n",
      "65/79\n",
      "66/79\n",
      "67/79\n",
      "68/79\n",
      "69/79\n",
      "70/79\n",
      "71/79\n",
      "72/79\n",
      "73/79\n",
      "74/79\n",
      "75/79\n",
      "76/79\n",
      "77/79\n",
      "78/79\n",
      "79/79\n",
      "0\n"
     ]
    }
   ],
   "source": [
    "importer = JsonImporter()\n",
    "\n",
    "survey_left_ids = []\n",
    "survey_right_ids = []\n",
    "\n",
    "for tree in survey_trees:\n",
    "    id = (tree.split('_')[4]).replace('.txt', '')\n",
    "    if 'Right' in tree:\n",
    "        survey_right_ids.append(id)\n",
    "    else:\n",
    "        survey_left_ids.append(id)\n",
    "\n",
    "survey_data = {\n",
    "    'id': [],\n",
    "    'position': [],\n",
    "    'ply': [],\n",
    "    'tree bias': [],\n",
    "    'left rec': [],\n",
    "    'right rec': [],\n",
    "    'other': [],\n",
    "    'total': [],\n",
    "    'video bias': [],\n",
    "    'video type': [],\n",
    "    'sampled type': []\n",
    "}\n",
    "\n",
    "#create the csv for the trees\n",
    "tree_number = 0\n",
    "for tree in survey_trees:\n",
    "    tree_number += 1\n",
    "    print(f'{tree_number}/{len(survey_trees)}')\n",
    "    id = (tree.split('_')[4]).replace('.txt', '')\n",
    "    tree_bias = None\n",
    "    if id in survey_left_ids:\n",
    "        tree_bias = 'Left'\n",
    "    elif id in survey_right_ids:\n",
    "        tree_bias = 'Right'\n",
    "    else:\n",
    "        print(f'Problem')\n",
    "    #'id', 'tree bias', 'left rec', 'right rec', 'other', 'total', 'video bias'\n",
    "    with open(path_survey_trees + '\\\\' + tree, 'r') as outfile:\n",
    "        data = outfile.read()\n",
    "        root = importer.import_(data)\n",
    "        position = 0\n",
    "        for t in anytree.PreOrderIter(root):\n",
    "            if t.id != 'dummy':\n",
    "                survey_data['id'].append(id)\n",
    "                survey_data['tree bias'].append(tree_bias)\n",
    "                survey_data['position'].append(position)\n",
    "                count = {\n",
    "                    'left rec': 0,\n",
    "                    'right rec': 0,\n",
    "                    'other' : 0\n",
    "                }\n",
    "                # check that you only want top 5\n",
    "                recommended_videos = t.top_10_recommended\n",
    "                recommended_videos = [i for i in recommended_videos if not(i == None)]\n",
    "                recommended_videos = recommended_videos[0:min(5, len(recommended_videos))]\n",
    "                for rec in recommended_videos:\n",
    "                    content_creator = url_to_content_creator(rec)\n",
    "                    if content_creator != None:\n",
    "                        bias = content_creator_to_bias(content_creator)\n",
    "                    else:\n",
    "                        bias = None\n",
    "                    if (bias in count.keys()):\n",
    "                        count[bias] += 1\n",
    "                    else:\n",
    "                        count['other'] += 1\n",
    "                for k, v in count.items():\n",
    "                    survey_data[k].append(v)\n",
    "\n",
    "                survey_data['total'].append(5)\n",
    "                video_bias = content_creator_to_bias(t.video['content creator'])\n",
    "                survey_data['video bias'].append(video_bias)\n",
    "                survey_data['video type'].append(t.actual_video_type)\n",
    "                survey_data['sampled type'].append(t.sampled_type)\n",
    "\n",
    "                ply = np.mod(position, 3)\n",
    "\n",
    "                survey_data['ply'].append(ply)\n",
    "\n",
    "                position += 1\n",
    "print(len(urls_to_visit))"
   ],
   "metadata": {
    "collapsed": false,
    "pycharm": {
     "name": "#%%\n"
    }
   }
  },
  {
   "cell_type": "code",
   "execution_count": 123,
   "outputs": [
    {
     "name": "stdout",
     "output_type": "stream",
     "text": [
      "id 1896\n",
      "position 1896\n",
      "ply 1896\n",
      "tree bias 1896\n",
      "left rec 1896\n",
      "right rec 1896\n",
      "other 1896\n",
      "total 1896\n",
      "video bias 1896\n",
      "video type 1896\n",
      "sampled type 1896\n"
     ]
    }
   ],
   "source": [
    "for k, v in survey_data.items():\n",
    "    print(k, len(v))"
   ],
   "metadata": {
    "collapsed": false,
    "pycharm": {
     "name": "#%%\n"
    }
   }
  },
  {
   "cell_type": "code",
   "execution_count": 124,
   "outputs": [
    {
     "data": {
      "text/plain": "                                      id  position  ply tree bias  left rec  \\\n0   0bd77d4c-a0f7-4b58-b048-06289937641a         0    0      Left         2   \n1   0bd77d4c-a0f7-4b58-b048-06289937641a         1    1      Left         0   \n2   0bd77d4c-a0f7-4b58-b048-06289937641a         2    2      Left         5   \n3   0bd77d4c-a0f7-4b58-b048-06289937641a         3    0      Left         1   \n4   0bd77d4c-a0f7-4b58-b048-06289937641a         4    1      Left         0   \n5   0bd77d4c-a0f7-4b58-b048-06289937641a         5    2      Left         0   \n6   0bd77d4c-a0f7-4b58-b048-06289937641a         6    0      Left         0   \n7   0bd77d4c-a0f7-4b58-b048-06289937641a         7    1      Left         0   \n8   0bd77d4c-a0f7-4b58-b048-06289937641a         8    2      Left         5   \n9   0bd77d4c-a0f7-4b58-b048-06289937641a         9    0      Left         4   \n10  0bd77d4c-a0f7-4b58-b048-06289937641a        10    1      Left         5   \n11  0bd77d4c-a0f7-4b58-b048-06289937641a        11    2      Left         5   \n12  0bd77d4c-a0f7-4b58-b048-06289937641a        12    0      Left         4   \n13  0bd77d4c-a0f7-4b58-b048-06289937641a        13    1      Left         3   \n14  0bd77d4c-a0f7-4b58-b048-06289937641a        14    2      Left         5   \n15  0bd77d4c-a0f7-4b58-b048-06289937641a        15    0      Left         2   \n16  0bd77d4c-a0f7-4b58-b048-06289937641a        16    1      Left         2   \n17  0bd77d4c-a0f7-4b58-b048-06289937641a        17    2      Left         5   \n18  0bd77d4c-a0f7-4b58-b048-06289937641a        18    0      Left         4   \n19  0bd77d4c-a0f7-4b58-b048-06289937641a        19    1      Left         3   \n\n    right rec  other  total video bias video type sampled type  \n0           0      3      5   left rec    curated      curated  \n1           0      0      5   left rec    curated      curated  \n2           0      0      5   left rec    curated      curated  \n3           0      1      5   left rec    curated      curated  \n4           0      0      5   left rec    curated      curated  \n5           0      0      5   left rec    curated      curated  \n6           0      0      5   left rec    curated      curated  \n7           0      0      5   left rec    curated      curated  \n8           0      0      5   left rec    curated      curated  \n9           0      1      5   left rec    curated      curated  \n10          0      0      5   left rec    curated      curated  \n11          0      0      5   left rec    curated      curated  \n12          0      1      5   left rec    curated      curated  \n13          0      2      5   left rec    curated      curated  \n14          0      0      5   left rec    curated      curated  \n15          0      3      5   left rec    curated      curated  \n16          0      3      5   left rec    curated      curated  \n17          0      0      5   left rec    curated      curated  \n18          0      1      5   left rec    curated      curated  \n19          0      2      5   left rec    curated      curated  ",
      "text/html": "<div>\n<style scoped>\n    .dataframe tbody tr th:only-of-type {\n        vertical-align: middle;\n    }\n\n    .dataframe tbody tr th {\n        vertical-align: top;\n    }\n\n    .dataframe thead th {\n        text-align: right;\n    }\n</style>\n<table border=\"1\" class=\"dataframe\">\n  <thead>\n    <tr style=\"text-align: right;\">\n      <th></th>\n      <th>id</th>\n      <th>position</th>\n      <th>ply</th>\n      <th>tree bias</th>\n      <th>left rec</th>\n      <th>right rec</th>\n      <th>other</th>\n      <th>total</th>\n      <th>video bias</th>\n      <th>video type</th>\n      <th>sampled type</th>\n    </tr>\n  </thead>\n  <tbody>\n    <tr>\n      <th>0</th>\n      <td>0bd77d4c-a0f7-4b58-b048-06289937641a</td>\n      <td>0</td>\n      <td>0</td>\n      <td>Left</td>\n      <td>2</td>\n      <td>0</td>\n      <td>3</td>\n      <td>5</td>\n      <td>left rec</td>\n      <td>curated</td>\n      <td>curated</td>\n    </tr>\n    <tr>\n      <th>1</th>\n      <td>0bd77d4c-a0f7-4b58-b048-06289937641a</td>\n      <td>1</td>\n      <td>1</td>\n      <td>Left</td>\n      <td>0</td>\n      <td>0</td>\n      <td>0</td>\n      <td>5</td>\n      <td>left rec</td>\n      <td>curated</td>\n      <td>curated</td>\n    </tr>\n    <tr>\n      <th>2</th>\n      <td>0bd77d4c-a0f7-4b58-b048-06289937641a</td>\n      <td>2</td>\n      <td>2</td>\n      <td>Left</td>\n      <td>5</td>\n      <td>0</td>\n      <td>0</td>\n      <td>5</td>\n      <td>left rec</td>\n      <td>curated</td>\n      <td>curated</td>\n    </tr>\n    <tr>\n      <th>3</th>\n      <td>0bd77d4c-a0f7-4b58-b048-06289937641a</td>\n      <td>3</td>\n      <td>0</td>\n      <td>Left</td>\n      <td>1</td>\n      <td>0</td>\n      <td>1</td>\n      <td>5</td>\n      <td>left rec</td>\n      <td>curated</td>\n      <td>curated</td>\n    </tr>\n    <tr>\n      <th>4</th>\n      <td>0bd77d4c-a0f7-4b58-b048-06289937641a</td>\n      <td>4</td>\n      <td>1</td>\n      <td>Left</td>\n      <td>0</td>\n      <td>0</td>\n      <td>0</td>\n      <td>5</td>\n      <td>left rec</td>\n      <td>curated</td>\n      <td>curated</td>\n    </tr>\n    <tr>\n      <th>5</th>\n      <td>0bd77d4c-a0f7-4b58-b048-06289937641a</td>\n      <td>5</td>\n      <td>2</td>\n      <td>Left</td>\n      <td>0</td>\n      <td>0</td>\n      <td>0</td>\n      <td>5</td>\n      <td>left rec</td>\n      <td>curated</td>\n      <td>curated</td>\n    </tr>\n    <tr>\n      <th>6</th>\n      <td>0bd77d4c-a0f7-4b58-b048-06289937641a</td>\n      <td>6</td>\n      <td>0</td>\n      <td>Left</td>\n      <td>0</td>\n      <td>0</td>\n      <td>0</td>\n      <td>5</td>\n      <td>left rec</td>\n      <td>curated</td>\n      <td>curated</td>\n    </tr>\n    <tr>\n      <th>7</th>\n      <td>0bd77d4c-a0f7-4b58-b048-06289937641a</td>\n      <td>7</td>\n      <td>1</td>\n      <td>Left</td>\n      <td>0</td>\n      <td>0</td>\n      <td>0</td>\n      <td>5</td>\n      <td>left rec</td>\n      <td>curated</td>\n      <td>curated</td>\n    </tr>\n    <tr>\n      <th>8</th>\n      <td>0bd77d4c-a0f7-4b58-b048-06289937641a</td>\n      <td>8</td>\n      <td>2</td>\n      <td>Left</td>\n      <td>5</td>\n      <td>0</td>\n      <td>0</td>\n      <td>5</td>\n      <td>left rec</td>\n      <td>curated</td>\n      <td>curated</td>\n    </tr>\n    <tr>\n      <th>9</th>\n      <td>0bd77d4c-a0f7-4b58-b048-06289937641a</td>\n      <td>9</td>\n      <td>0</td>\n      <td>Left</td>\n      <td>4</td>\n      <td>0</td>\n      <td>1</td>\n      <td>5</td>\n      <td>left rec</td>\n      <td>curated</td>\n      <td>curated</td>\n    </tr>\n    <tr>\n      <th>10</th>\n      <td>0bd77d4c-a0f7-4b58-b048-06289937641a</td>\n      <td>10</td>\n      <td>1</td>\n      <td>Left</td>\n      <td>5</td>\n      <td>0</td>\n      <td>0</td>\n      <td>5</td>\n      <td>left rec</td>\n      <td>curated</td>\n      <td>curated</td>\n    </tr>\n    <tr>\n      <th>11</th>\n      <td>0bd77d4c-a0f7-4b58-b048-06289937641a</td>\n      <td>11</td>\n      <td>2</td>\n      <td>Left</td>\n      <td>5</td>\n      <td>0</td>\n      <td>0</td>\n      <td>5</td>\n      <td>left rec</td>\n      <td>curated</td>\n      <td>curated</td>\n    </tr>\n    <tr>\n      <th>12</th>\n      <td>0bd77d4c-a0f7-4b58-b048-06289937641a</td>\n      <td>12</td>\n      <td>0</td>\n      <td>Left</td>\n      <td>4</td>\n      <td>0</td>\n      <td>1</td>\n      <td>5</td>\n      <td>left rec</td>\n      <td>curated</td>\n      <td>curated</td>\n    </tr>\n    <tr>\n      <th>13</th>\n      <td>0bd77d4c-a0f7-4b58-b048-06289937641a</td>\n      <td>13</td>\n      <td>1</td>\n      <td>Left</td>\n      <td>3</td>\n      <td>0</td>\n      <td>2</td>\n      <td>5</td>\n      <td>left rec</td>\n      <td>curated</td>\n      <td>curated</td>\n    </tr>\n    <tr>\n      <th>14</th>\n      <td>0bd77d4c-a0f7-4b58-b048-06289937641a</td>\n      <td>14</td>\n      <td>2</td>\n      <td>Left</td>\n      <td>5</td>\n      <td>0</td>\n      <td>0</td>\n      <td>5</td>\n      <td>left rec</td>\n      <td>curated</td>\n      <td>curated</td>\n    </tr>\n    <tr>\n      <th>15</th>\n      <td>0bd77d4c-a0f7-4b58-b048-06289937641a</td>\n      <td>15</td>\n      <td>0</td>\n      <td>Left</td>\n      <td>2</td>\n      <td>0</td>\n      <td>3</td>\n      <td>5</td>\n      <td>left rec</td>\n      <td>curated</td>\n      <td>curated</td>\n    </tr>\n    <tr>\n      <th>16</th>\n      <td>0bd77d4c-a0f7-4b58-b048-06289937641a</td>\n      <td>16</td>\n      <td>1</td>\n      <td>Left</td>\n      <td>2</td>\n      <td>0</td>\n      <td>3</td>\n      <td>5</td>\n      <td>left rec</td>\n      <td>curated</td>\n      <td>curated</td>\n    </tr>\n    <tr>\n      <th>17</th>\n      <td>0bd77d4c-a0f7-4b58-b048-06289937641a</td>\n      <td>17</td>\n      <td>2</td>\n      <td>Left</td>\n      <td>5</td>\n      <td>0</td>\n      <td>0</td>\n      <td>5</td>\n      <td>left rec</td>\n      <td>curated</td>\n      <td>curated</td>\n    </tr>\n    <tr>\n      <th>18</th>\n      <td>0bd77d4c-a0f7-4b58-b048-06289937641a</td>\n      <td>18</td>\n      <td>0</td>\n      <td>Left</td>\n      <td>4</td>\n      <td>0</td>\n      <td>1</td>\n      <td>5</td>\n      <td>left rec</td>\n      <td>curated</td>\n      <td>curated</td>\n    </tr>\n    <tr>\n      <th>19</th>\n      <td>0bd77d4c-a0f7-4b58-b048-06289937641a</td>\n      <td>19</td>\n      <td>1</td>\n      <td>Left</td>\n      <td>3</td>\n      <td>0</td>\n      <td>2</td>\n      <td>5</td>\n      <td>left rec</td>\n      <td>curated</td>\n      <td>curated</td>\n    </tr>\n  </tbody>\n</table>\n</div>"
     },
     "execution_count": 124,
     "metadata": {},
     "output_type": "execute_result"
    }
   ],
   "source": [
    "survey_csv = pd.DataFrame.from_dict(survey_data)\n",
    "survey_csv.head(20)"
   ],
   "metadata": {
    "collapsed": false,
    "pycharm": {
     "name": "#%%\n"
    }
   }
  },
  {
   "cell_type": "code",
   "execution_count": 125,
   "outputs": [
    {
     "name": "stderr",
     "output_type": "stream",
     "text": [
      "<ipython-input-125-9032d794eeb3>:1: UserWarning: Boolean Series key will be reindexed to match DataFrame index.\n",
      "  right = survey_csv[depth_csv['tree bias'] == 'Right']\n",
      "<ipython-input-125-9032d794eeb3>:2: UserWarning: Boolean Series key will be reindexed to match DataFrame index.\n",
      "  left = survey_csv[depth_csv['tree bias'] == 'Left']\n"
     ]
    }
   ],
   "source": [
    "right = survey_csv[depth_csv['tree bias'] == 'Right']\n",
    "left = survey_csv[depth_csv['tree bias'] == 'Left']\n",
    "\n",
    "avg_per_position_right = right.groupby('position').mean()\n",
    "avg_per_position_left = left.groupby('position').mean()"
   ],
   "metadata": {
    "collapsed": false,
    "pycharm": {
     "name": "#%%\n"
    }
   }
  },
  {
   "cell_type": "code",
   "execution_count": 126,
   "outputs": [
    {
     "data": {
      "text/plain": "<matplotlib.axes._subplots.AxesSubplot at 0x1e392b43f10>"
     },
     "execution_count": 126,
     "metadata": {},
     "output_type": "execute_result"
    },
    {
     "data": {
      "text/plain": "<Figure size 432x288 with 1 Axes>",
      "image/png": "[encoded data removed]"
     },
     "metadata": {
      "needs_background": "light"
     },
     "output_type": "display_data"
    }
   ],
   "source": [
    "avg_per_position_left.plot(legend=True)"
   ],
   "metadata": {
    "collapsed": false,
    "pycharm": {
     "name": "#%%\n"
    }
   }
  },
  {
   "cell_type": "code",
   "execution_count": 127,
   "outputs": [
    {
     "data": {
      "text/plain": "<matplotlib.axes._subplots.AxesSubplot at 0x1e392a21310>"
     },
     "execution_count": 127,
     "metadata": {},
     "output_type": "execute_result"
    },
    {
     "data": {
      "text/plain": "<Figure size 432x288 with 1 Axes>",
      "image/png": "[encoded data removed]"
     },
     "metadata": {
      "needs_background": "light"
     },
     "output_type": "display_data"
    }
   ],
   "source": [
    "avg_per_position_right.plot(legend=True)"
   ],
   "metadata": {
    "collapsed": false,
    "pycharm": {
     "name": "#%%\n"
    }
   }
  },
  {
   "cell_type": "markdown",
   "source": [
    "### ii. Homepage"
   ],
   "metadata": {
    "collapsed": false,
    "pycharm": {
     "name": "#%% md\n"
    }
   }
  },
  {
   "cell_type": "code",
   "execution_count": null,
   "outputs": [
    {
     "name": "stdout",
     "output_type": "stream",
     "text": [
      "1/539\n",
      "Problem\n",
      "3/539\n",
      "Problem\n",
      "5/539\n",
      "Problem\n",
      "7/539\n",
      "Problem\n",
      "9/539\n",
      "Problem\n",
      "11/539\n",
      "Problem\n",
      "13/539\n",
      "Problem\n",
      "15/539\n",
      "Problem\n",
      "17/539\n",
      "Problem\n",
      "19/539\n",
      "Problem\n",
      "21/539\n",
      "Problem\n",
      "23/539\n",
      "Problem\n",
      "25/539\n",
      "Problem\n",
      "27/539\n",
      "Problem\n",
      "29/539\n",
      "Problem\n",
      "31/539\n",
      "Problem\n",
      "33/539\n",
      "Problem\n",
      "35/539\n",
      "Problem\n",
      "37/539\n",
      "Problem\n",
      "39/539\n",
      "Problem\n",
      "41/539\n",
      "Problem\n",
      "43/539\n",
      "Problem\n",
      "45/539\n",
      "Problem\n",
      "47/539\n",
      "Problem\n",
      "49/539\n",
      "Problem\n",
      "51/539\n",
      "Problem\n",
      "53/539\n",
      "Problem\n",
      "55/539\n",
      "Problem\n",
      "57/539\n",
      "Problem\n",
      "59/539\n",
      "Problem\n",
      "61/539\n",
      "Problem\n",
      "63/539\n",
      "Problem\n",
      "65/539\n",
      "Problem\n",
      "67/539\n",
      "Problem\n",
      "69/539\n",
      "Problem\n",
      "71/539\n",
      "Problem\n",
      "73/539\n",
      "Problem\n",
      "75/539\n",
      "Problem\n",
      "77/539\n",
      "Problem\n",
      "79/539\n",
      "Problem\n",
      "81/539\n",
      "Problem\n",
      "83/539\n",
      "Problem\n",
      "85/539\n",
      "Problem\n",
      "87/539\n",
      "Problem\n",
      "89/539\n",
      "Problem\n"
     ]
    }
   ],
   "source": [
    "survey_homepage_data = {\n",
    "    'id': [],\n",
    "    'ply': [],\n",
    "    'tree bias': [],\n",
    "    'left rec' : [],\n",
    "    'right rec': [],\n",
    "    'other': [],\n",
    "    'total' : []\n",
    "}\n",
    "\n",
    "homepage_number = 0\n",
    "for homepage in survey_homepages:\n",
    "    homepage_number += 1\n",
    "    print(f'{homepage_number}/{len(survey_homepages)}')\n",
    "\n",
    "    # check id\n",
    "    id = (homepage.split('_')[4]).replace('.txt', '')\n",
    "\n",
    "    # check ply\n",
    "    ply = homepage.split('_')[1]\n",
    "    tree_bias = None\n",
    "    if id in survey_left_ids:\n",
    "        tree_bias = 'Left'\n",
    "    elif id in survey_right_ids:\n",
    "        tree_bias = 'Right'\n",
    "    else:\n",
    "        print(f'Problem')\n",
    "\n",
    "    with open(path_survey_homepage + '\\\\' + homepage, 'r') as outfile:\n",
    "        # array of urls\n",
    "        lines = outfile.read().splitlines()\n",
    "        lines = [i for i in lines if (not(i == None) and not(i == ''))]\n",
    "        lines = lines[0 : min(10, len(lines))]\n",
    "\n",
    "        count = {\n",
    "            'left rec': 0,\n",
    "            'right rec': 0,\n",
    "            'other': 0,\n",
    "            'total': 0\n",
    "        }\n",
    "        none_count = 0\n",
    "        for url in lines:\n",
    "            content_creator = url_to_content_creator(url)\n",
    "            if content_creator == None:\n",
    "                none_count += 1\n",
    "            else:\n",
    "                bias = content_creator_to_bias(content_creator)\n",
    "                count[bias] += 1\n",
    "                count['total'] += 1\n",
    "        for k, v in count.items():\n",
    "            depth_homepage_data[k].append(v)\n",
    "        survey_homepage_data['tree bias'].append(tree_bias)\n",
    "        survey_homepage_data['ply'].append(ply)\n",
    "        survey_homepage_data['id'].append(id)\n",
    "\n",
    "    homepage_number += 1"
   ],
   "metadata": {
    "collapsed": false,
    "pycharm": {
     "name": "#%%\n",
     "is_executing": true
    }
   }
  },
  {
   "cell_type": "code",
   "execution_count": null,
   "outputs": [],
   "source": [
    "for k, v in depth_homepage_data.items():\n",
    "    print(k, len(v))"
   ],
   "metadata": {
    "collapsed": false,
    "pycharm": {
     "name": "#%%\n"
    }
   }
  },
  {
   "cell_type": "code",
   "execution_count": null,
   "outputs": [],
   "source": [
    "depth_homepage_csv = pd.DataFrame.from_dict(depth_homepage_data)\n",
    "depth_homepage_csv.head(10)"
   ],
   "metadata": {
    "collapsed": false,
    "pycharm": {
     "name": "#%%\n"
    }
   }
  },
  {
   "cell_type": "code",
   "execution_count": null,
   "outputs": [],
   "source": [
    "right_depth_homepage = depth_homepage_csv[depth_csv['tree bias'] == 'Right'][['ply', 'left rec', 'right rec', 'other', 'total']]\n",
    "left_depth_homepage = depth_homepage_csv[depth_csv['tree bias'] == 'Left'][['ply', 'left rec', 'right rec', 'other', 'total']]\n",
    "\n",
    "avg_per_position_right_depth_homepage = right_depth_homepage.groupby('ply').mean()\n",
    "avg_per_position_left_depth_homepage = left_depth_homepage.groupby('ply').mean()"
   ],
   "metadata": {
    "collapsed": false,
    "pycharm": {
     "name": "#%%\n"
    }
   }
  },
  {
   "cell_type": "code",
   "execution_count": null,
   "outputs": [],
   "source": [
    "avg_per_position_left_depth_homepage.plot(legend=True)"
   ],
   "metadata": {
    "collapsed": false,
    "pycharm": {
     "name": "#%%\n"
    }
   }
  },
  {
   "cell_type": "code",
   "execution_count": null,
   "outputs": [],
   "source": [
    "avg_per_position_right_depth_homepage.plot(legend=True)"
   ],
   "metadata": {
    "collapsed": false,
    "pycharm": {
     "name": "#%%\n"
    }
   }
  },
  {
   "cell_type": "markdown",
   "source": [
    "# Breadth"
   ],
   "metadata": {
    "collapsed": false
   }
  },
  {
   "cell_type": "code",
   "execution_count": 158,
   "outputs": [
    {
     "name": "stdout",
     "output_type": "stream",
     "text": [
      "1/73: Right || Tim Pool\n",
      "2/73: Left || Vox\n",
      "3/73: Left || Destiny\n",
      "4/73: Right || The Rubin Report\n",
      "5/73: Right || StevenCrowder\n"
     ]
    },
    {
     "name": "stderr",
     "output_type": "stream",
     "text": [
      "C:\\Users\\mikad\\anaconda3\\lib\\site-packages\\pandas\\core\\strings\\accessor.py:101: UserWarning: This pattern has match groups. To actually get the groups, use str.extract.\n",
      "  return func(self, *args, **kwargs)\n"
     ]
    },
    {
     "name": "stdout",
     "output_type": "stream",
     "text": [
      "6/73: Left || Innuendo Studios\n",
      "7/73: Left || Destiny\n",
      "8/73: Left || Big Joel\n",
      "9/73: Right || PragerU\n",
      "10/73: Right || Blaire White\n",
      "11/73: Left || hbomberguy\n",
      "12/73: Left || Vaush\n",
      "13/73: Left || The Majority Report w/ Sam Seder\n",
      "14/73: Left || Vaush\n",
      "15/73: Left || Vaush\n",
      "16/73: Left || Shaun\n",
      "17/73: Right || Tim Pool\n",
      "18/73: Right || StevenCrowder\n",
      "19/73: Right || Charlie Kirk\n",
      "20/73: Right || The Rubin Report\n",
      "21/73: Right || Michael Knowles\n",
      "22/73: Right || Paul Joseph Watson\n",
      "23/73: Right || Mark Dice\n",
      "24/73: Right || Lauren Southern\n",
      "25/73: Left || HasanAbi\n",
      "26/73: Left || Vaush\n",
      "27/73: Right || Sargon of Akkad\n",
      "28/73: Right || Paul Joseph Watson\n",
      "29/73: Left || The Majority Report w/ Sam Seder\n",
      "30/73: Right || Michael Knowles\n",
      "31/73: Left || Vaush\n",
      "32/73: Left || hbomberguy\n",
      "33/73: Left || Innuendo Studios\n",
      "34/73: Left || Three Arrows\n",
      "35/73: Right || The Daily Wire\n",
      "36/73: Left || Big Joel\n",
      "37/73: Right || Lauren Southern\n",
      "38/73: Left || The Majority Report w/ Sam Seder\n",
      "39/73: Left || Vaush\n",
      "40/73: Left || Vox\n",
      "41/73: Right || Ben Shapiro\n",
      "42/73: Left || Big Joel\n",
      "43/73: Right || Sargon of Akkad\n",
      "44/73: Left || Innuendo Studios\n",
      "45/73: Right || Candace Owens\n",
      "46/73: Right || PragerU\n",
      "47/73: Right || Mark Dice\n",
      "48/73: Right || StevenCrowder\n",
      "49/73: Left || Three Arrows\n",
      "50/73: Left || ContraPoints\n",
      "51/73: Left || HasanAbi\n",
      "52/73: Left || Vox\n",
      "53/73: Right || Candace Owens\n",
      "54/73: Right || Blaire White\n",
      "55/73: Right || Ben Shapiro\n",
      "56/73: Right || Tim Pool\n",
      "57/73: Right || PragerU\n",
      "58/73: Right || Blaire White\n",
      "59/73: Right || Mark Dice\n",
      "60/73: Left || Shaun\n",
      "61/73: Right || Ben Shapiro\n",
      "62/73: Right || Candace Owens\n",
      "63/73: Left || Three Arrows\n",
      "64/73: Left || ContraPoints\n",
      "65/73: Left || Shaun\n",
      "66/73: Right || Lauren Southern\n",
      "67/73: Left || Destiny\n",
      "68/73: Left || ContraPoints\n",
      "69/73: Left || Shaun\n",
      "70/73: Left || HasanAbi\n",
      "71/73: Right || The Rubin Report\n",
      "72/73: Right || Paul Joseph Watson\n",
      "73/73: Left || hbomberguy\n",
      "0\n"
     ]
    }
   ],
   "source": [
    "\n",
    "breadth_left_ids = []\n",
    "breadth_right_ids = []\n",
    "\n",
    "breadth_right_trees = []\n",
    "breadth_left_trees = []\n",
    "\n",
    "for trees in breadth_trees:\n",
    "    id = (trees.split('_')[3]).replace('.txt', '')\n",
    "    with open(path_breadth_trees + '\\\\' + trees, 'r') as outfile:\n",
    "        data = outfile.read()\n",
    "        root = importer.import_(data)\n",
    "        if root.id in right_wing_seeds:\n",
    "            breadth_right_ids.append(id)\n",
    "        else:\n",
    "            breadth_left_ids.append(id)\n",
    "\n",
    "breadth_data = {\n",
    "    'id': [],\n",
    "    'ply': [],\n",
    "    'left rec': [],\n",
    "    'right rec': [],\n",
    "    'other' : [],\n",
    "    'total': [],\n",
    "    'tree bias': [],\n",
    "    'video bias': []\n",
    "}\n",
    "\n",
    "#create the csv for the trees\n",
    "tree_number = 0\n",
    "for tree in breadth_trees:\n",
    "    tree_number += 1\n",
    "    print(f'{tree_number}/{len(breadth_trees)}', end='')\n",
    "    id = (tree.split('_')[3]).replace('.txt', '')\n",
    "    tree_bias = None\n",
    "    if id in breadth_left_ids:\n",
    "        tree_bias = 'Left'\n",
    "    elif id in breadth_right_ids:\n",
    "        tree_bias = 'Right'\n",
    "    else:\n",
    "        print(f'Problem')\n",
    "\n",
    "    print(f': {tree_bias} || ', end='')\n",
    "    #'id', 'tree bias', 'left rec', 'right rec', 'other', 'total', 'video bias'\n",
    "    with open(path_breadth_trees + '\\\\' + tree, 'r') as outfile:\n",
    "        data = outfile.read()\n",
    "        root = importer.import_(data)\n",
    "        print(root.video['content creator'])\n",
    "        for t in anytree.LevelOrderIter(root):\n",
    "            if t.title != None:\n",
    "                breadth_data['id'].append(id)\n",
    "                breadth_data['tree bias'].append(tree_bias)\n",
    "\n",
    "                count = {\n",
    "                    'left rec': 0,\n",
    "                    'right rec': 0,\n",
    "                    'other' : 0\n",
    "                }\n",
    "                children = t.children\n",
    "                if all(c.video != None for c in children) == True:\n",
    "                    for child in children:\n",
    "                        if child.video == None:\n",
    "                            print('okay')\n",
    "                        bias = content_creator_to_bias(child.video['content creator'])\n",
    "                        if bias != None:\n",
    "                            count[bias] += 1\n",
    "                        else:\n",
    "                            count['other'] += 1\n",
    "                            print('bad')\n",
    "                    breadth_data['total'].append(3)\n",
    "                else:\n",
    "                    breadth_data['total'].append(None)\n",
    "\n",
    "                for k, v in count.items():\n",
    "                    breadth_data[k].append(v)\n",
    "\n",
    "                video_bias = content_creator_to_bias(t.video['content creator'])\n",
    "                breadth_data['video bias'].append(video_bias)\n",
    "                ply = t.depth\n",
    "\n",
    "                breadth_data['ply'].append(ply)\n",
    "print(len(urls_to_visit))"
   ],
   "metadata": {
    "collapsed": false,
    "pycharm": {
     "name": "#%%\n"
    }
   }
  },
  {
   "cell_type": "code",
   "execution_count": 159,
   "outputs": [
    {
     "name": "stdout",
     "output_type": "stream",
     "text": [
      "id 8833\n",
      "ply 8833\n",
      "left rec 8833\n",
      "right rec 8833\n",
      "other 8833\n",
      "total 8833\n",
      "tree bias 8833\n",
      "video bias 8833\n"
     ]
    }
   ],
   "source": [
    "for k, v in breadth_data.items():\n",
    "    print(k, len(v))"
   ],
   "metadata": {
    "collapsed": false,
    "pycharm": {
     "name": "#%%\n"
    }
   }
  },
  {
   "cell_type": "code",
   "execution_count": 161,
   "outputs": [
    {
     "data": {
      "text/plain": "                                      id  ply  left rec  right rec  other  \\\n0   042d6afc-c005-42bc-ac93-8d8836f8e74e    0         0          1      2   \n1   042d6afc-c005-42bc-ac93-8d8836f8e74e    1         0          3      0   \n2   042d6afc-c005-42bc-ac93-8d8836f8e74e    1         0          0      3   \n3   042d6afc-c005-42bc-ac93-8d8836f8e74e    1         0          0      3   \n4   042d6afc-c005-42bc-ac93-8d8836f8e74e    2         0          2      1   \n5   042d6afc-c005-42bc-ac93-8d8836f8e74e    2         0          3      0   \n6   042d6afc-c005-42bc-ac93-8d8836f8e74e    2         0          3      0   \n7   042d6afc-c005-42bc-ac93-8d8836f8e74e    2         0          0      3   \n8   042d6afc-c005-42bc-ac93-8d8836f8e74e    2         0          0      3   \n9   042d6afc-c005-42bc-ac93-8d8836f8e74e    2         0          0      3   \n10  042d6afc-c005-42bc-ac93-8d8836f8e74e    2         0          0      3   \n11  042d6afc-c005-42bc-ac93-8d8836f8e74e    2         0          0      3   \n12  042d6afc-c005-42bc-ac93-8d8836f8e74e    2         0          0      3   \n13  042d6afc-c005-42bc-ac93-8d8836f8e74e    3         0          1      2   \n14  042d6afc-c005-42bc-ac93-8d8836f8e74e    3         0          3      0   \n\n    total tree bias video bias  \n0     3.0     Right  right rec  \n1     3.0     Right  right rec  \n2     3.0     Right      other  \n3     3.0     Right      other  \n4     3.0     Right  right rec  \n5     3.0     Right  right rec  \n6     3.0     Right  right rec  \n7     3.0     Right      other  \n8     3.0     Right      other  \n9     3.0     Right      other  \n10    3.0     Right      other  \n11    3.0     Right      other  \n12    3.0     Right      other  \n13    3.0     Right  right rec  \n14    3.0     Right  right rec  ",
      "text/html": "<div>\n<style scoped>\n    .dataframe tbody tr th:only-of-type {\n        vertical-align: middle;\n    }\n\n    .dataframe tbody tr th {\n        vertical-align: top;\n    }\n\n    .dataframe thead th {\n        text-align: right;\n    }\n</style>\n<table border=\"1\" class=\"dataframe\">\n  <thead>\n    <tr style=\"text-align: right;\">\n      <th></th>\n      <th>id</th>\n      <th>ply</th>\n      <th>left rec</th>\n      <th>right rec</th>\n      <th>other</th>\n      <th>total</th>\n      <th>tree bias</th>\n      <th>video bias</th>\n    </tr>\n  </thead>\n  <tbody>\n    <tr>\n      <th>0</th>\n      <td>042d6afc-c005-42bc-ac93-8d8836f8e74e</td>\n      <td>0</td>\n      <td>0</td>\n      <td>1</td>\n      <td>2</td>\n      <td>3.0</td>\n      <td>Right</td>\n      <td>right rec</td>\n    </tr>\n    <tr>\n      <th>1</th>\n      <td>042d6afc-c005-42bc-ac93-8d8836f8e74e</td>\n      <td>1</td>\n      <td>0</td>\n      <td>3</td>\n      <td>0</td>\n      <td>3.0</td>\n      <td>Right</td>\n      <td>right rec</td>\n    </tr>\n    <tr>\n      <th>2</th>\n      <td>042d6afc-c005-42bc-ac93-8d8836f8e74e</td>\n      <td>1</td>\n      <td>0</td>\n      <td>0</td>\n      <td>3</td>\n      <td>3.0</td>\n      <td>Right</td>\n      <td>other</td>\n    </tr>\n    <tr>\n      <th>3</th>\n      <td>042d6afc-c005-42bc-ac93-8d8836f8e74e</td>\n      <td>1</td>\n      <td>0</td>\n      <td>0</td>\n      <td>3</td>\n      <td>3.0</td>\n      <td>Right</td>\n      <td>other</td>\n    </tr>\n    <tr>\n      <th>4</th>\n      <td>042d6afc-c005-42bc-ac93-8d8836f8e74e</td>\n      <td>2</td>\n      <td>0</td>\n      <td>2</td>\n      <td>1</td>\n      <td>3.0</td>\n      <td>Right</td>\n      <td>right rec</td>\n    </tr>\n    <tr>\n      <th>5</th>\n      <td>042d6afc-c005-42bc-ac93-8d8836f8e74e</td>\n      <td>2</td>\n      <td>0</td>\n      <td>3</td>\n      <td>0</td>\n      <td>3.0</td>\n      <td>Right</td>\n      <td>right rec</td>\n    </tr>\n    <tr>\n      <th>6</th>\n      <td>042d6afc-c005-42bc-ac93-8d8836f8e74e</td>\n      <td>2</td>\n      <td>0</td>\n      <td>3</td>\n      <td>0</td>\n      <td>3.0</td>\n      <td>Right</td>\n      <td>right rec</td>\n    </tr>\n    <tr>\n      <th>7</th>\n      <td>042d6afc-c005-42bc-ac93-8d8836f8e74e</td>\n      <td>2</td>\n      <td>0</td>\n      <td>0</td>\n      <td>3</td>\n      <td>3.0</td>\n      <td>Right</td>\n      <td>other</td>\n    </tr>\n    <tr>\n      <th>8</th>\n      <td>042d6afc-c005-42bc-ac93-8d8836f8e74e</td>\n      <td>2</td>\n      <td>0</td>\n      <td>0</td>\n      <td>3</td>\n      <td>3.0</td>\n      <td>Right</td>\n      <td>other</td>\n    </tr>\n    <tr>\n      <th>9</th>\n      <td>042d6afc-c005-42bc-ac93-8d8836f8e74e</td>\n      <td>2</td>\n      <td>0</td>\n      <td>0</td>\n      <td>3</td>\n      <td>3.0</td>\n      <td>Right</td>\n      <td>other</td>\n    </tr>\n    <tr>\n      <th>10</th>\n      <td>042d6afc-c005-42bc-ac93-8d8836f8e74e</td>\n      <td>2</td>\n      <td>0</td>\n      <td>0</td>\n      <td>3</td>\n      <td>3.0</td>\n      <td>Right</td>\n      <td>other</td>\n    </tr>\n    <tr>\n      <th>11</th>\n      <td>042d6afc-c005-42bc-ac93-8d8836f8e74e</td>\n      <td>2</td>\n      <td>0</td>\n      <td>0</td>\n      <td>3</td>\n      <td>3.0</td>\n      <td>Right</td>\n      <td>other</td>\n    </tr>\n    <tr>\n      <th>12</th>\n      <td>042d6afc-c005-42bc-ac93-8d8836f8e74e</td>\n      <td>2</td>\n      <td>0</td>\n      <td>0</td>\n      <td>3</td>\n      <td>3.0</td>\n      <td>Right</td>\n      <td>other</td>\n    </tr>\n    <tr>\n      <th>13</th>\n      <td>042d6afc-c005-42bc-ac93-8d8836f8e74e</td>\n      <td>3</td>\n      <td>0</td>\n      <td>1</td>\n      <td>2</td>\n      <td>3.0</td>\n      <td>Right</td>\n      <td>right rec</td>\n    </tr>\n    <tr>\n      <th>14</th>\n      <td>042d6afc-c005-42bc-ac93-8d8836f8e74e</td>\n      <td>3</td>\n      <td>0</td>\n      <td>3</td>\n      <td>0</td>\n      <td>3.0</td>\n      <td>Right</td>\n      <td>right rec</td>\n    </tr>\n  </tbody>\n</table>\n</div>"
     },
     "execution_count": 161,
     "metadata": {},
     "output_type": "execute_result"
    }
   ],
   "source": [
    "breadth_csv = pd.DataFrame.from_dict(breadth_data)\n",
    "breadth_csv.head(15)"
   ],
   "metadata": {
    "collapsed": false,
    "pycharm": {
     "name": "#%%\n"
    }
   }
  },
  {
   "cell_type": "code",
   "execution_count": null,
   "outputs": [],
   "source": [
    "# get an excel of the videos used as seed"
   ],
   "metadata": {
    "collapsed": false,
    "pycharm": {
     "name": "#%%\n"
    }
   }
  },
  {
   "cell_type": "code",
   "execution_count": 163,
   "outputs": [],
   "source": [
    "right_breadth = breadth_csv[breadth_csv['tree bias'] == 'Right']\n",
    "left_breadth = breadth_csv[breadth_csv['tree bias'] == 'Left']\n",
    "\n",
    "avg_per_position_right_breadth = right_breadth.groupby('ply').mean()\n",
    "avg_per_position_left_breadth = left_breadth.groupby('ply').mean()"
   ],
   "metadata": {
    "collapsed": false,
    "pycharm": {
     "name": "#%%\n"
    }
   }
  },
  {
   "cell_type": "code",
   "execution_count": 166,
   "outputs": [
    {
     "data": {
      "text/plain": "<matplotlib.axes._subplots.AxesSubplot at 0x1e393097c40>"
     },
     "execution_count": 166,
     "metadata": {},
     "output_type": "execute_result"
    },
    {
     "data": {
      "text/plain": "<Figure size 432x288 with 1 Axes>",
      "image/png": "[encoded data removed]"
     },
     "metadata": {
      "needs_background": "light"
     },
     "output_type": "display_data"
    }
   ],
   "source": [
    "avg_per_position_left_breadth.plot(legend=True)"
   ],
   "metadata": {
    "collapsed": false,
    "pycharm": {
     "name": "#%%\n"
    }
   }
  },
  {
   "cell_type": "code",
   "execution_count": 168,
   "outputs": [
    {
     "data": {
      "text/plain": "<matplotlib.axes._subplots.AxesSubplot at 0x1e38baee280>"
     },
     "execution_count": 168,
     "metadata": {},
     "output_type": "execute_result"
    },
    {
     "data": {
      "text/plain": "<Figure size 432x288 with 1 Axes>",
      "image/png": "[encoded data removed]"
     },
     "metadata": {
      "needs_background": "light"
     },
     "output_type": "display_data"
    }
   ],
   "source": [
    "avg_per_position_right_breadth.plot(legend=True)"
   ],
   "metadata": {
    "collapsed": false,
    "pycharm": {
     "name": "#%%\n"
    }
   }
  },
  {
   "cell_type": "code",
   "execution_count": null,
   "outputs": [],
   "source": [
    "shame = []\n",
    "seeds = {\n",
    "    'Title': [],\n",
    "    'Content Creator': [],\n",
    "    'URL': [],\n",
    "    'Classification': []\n",
    "}\n",
    "\n",
    "for s in right_wing_seeds + left_wing_seeds:\n",
    "    s = s.replace('\\n', '')\n",
    "    s = s.replace(' ', '')\n",
    "    if s in video_info.keys():\n",
    "        info = video_info[s]\n",
    "        seeds['Title'].append(info['title'])\n",
    "        seeds['Content Creator'].append(info['content creator'])\n",
    "        seeds['URL'].append(s)\n",
    "\n",
    "        if s in right_wing_seeds:\n",
    "            seeds['Classification'].append('Right')\n",
    "        else:\n",
    "            seeds['Classification'].append('Left')\n",
    "    else:\n",
    "        shame.append(s)\n",
    "\n",
    "print(len(shame))"
   ],
   "metadata": {
    "collapsed": false,
    "pycharm": {
     "name": "#%%\n"
    }
   }
  },
  {
   "cell_type": "code",
   "execution_count": 34,
   "outputs": [],
   "source": [
    "seeds_csv = pd.DataFrame(seeds)\n",
    "seeds_csv.to_csv('C:\\\\Users\\\\mikad\\\\PycharmProjects\\\\Comp_396_YouTube_Radicalization\\\\Analysis\\\\csvs\\\\' + 'seeds.csv')"
   ],
   "metadata": {
    "collapsed": false,
    "pycharm": {
     "name": "#%%\n"
    }
   }
  },
  {
   "cell_type": "code",
   "execution_count": 15,
   "outputs": [
    {
     "name": "stdout",
     "output_type": "stream",
     "text": [
      "https://www.youtube.com/watch?v=XcV1AVNz8P8\n",
      "https://www.youtube.com/watch?v=ij-C0lh5qQ4\n",
      "https://www.youtube.com/watch?v=JNAnpkD8A7o\n",
      "https://www.youtube.com/watch?v=OobZ0yArl2o\n",
      "https://www.youtube.com/watch?v=aZtUTt7OPGI\n",
      "https://www.youtube.com/watch?v=dWlYuvricgI&t=1s\n",
      "https://www.youtube.com/watch?v=Tkr-azJVTAM\n",
      "https://www.youtube.com/watch?v=4lGGlbZRoV4\n",
      "https://www.youtube.com/watch?v=f9q0Xlnyl-A\n",
      "https://www.youtube.com/watch?v=qa6txb6nYGI\n",
      "https://www.youtube.com/watch?v=DWMQcKqSa28\n",
      "https://www.youtube.com/watch?v=QsT7FaNowR4\n",
      "https://www.youtube.com/watch?v=nORLTrzzNm8\n",
      "https://www.youtube.com/watch?v=-tkGEFhHM5I\n",
      "https://www.youtube.com/watch?v=8kntLVW3KRs\n",
      "https://www.youtube.com/watch?v=jza2zLw_8cI\n",
      "https://www.youtube.com/watch?v=_fEVHx-m_YA&t=228s\n",
      "https://www.youtube.com/watch?v=8EwdsvbL43Y\n",
      "https://www.youtube.com/watch?v=_GO2jneQJOo\n",
      "https://www.youtube.com/watch?v=iNGf7XYtU2Q\n",
      "https://www.youtube.com/watch?v=v6JW4OfLFbI\n",
      "https://www.youtube.com/watch?v=NzefBA4NOLw\n",
      "https://www.youtube.com/watch?v=gmOTjyUVaNI\n",
      "https://www.youtube.com/watch?v=ARDXlyq3EgI\n",
      "https://www.youtube.com/watch?v=hSM-jkyN8F0\n",
      "https://www.youtube.com/watch?v=Rwr0JOhNxsM\n",
      "https://www.youtube.com/watch?v=hSM-jkyN8F0\n",
      "https://www.youtube.com/watch?v=33eCt8nR2xw\n",
      "https://www.youtube.com/watch?v=Y45-_HE91Us\n",
      "https://www.youtube.com/watch?v=mgbt452UMOQ\n",
      "https://www.youtube.com/watch?v=NO_wmixXBdE\n",
      "https://www.youtube.com/watch?v=DCJwKHy_yss\n"
     ]
    }
   ],
   "source": [
    "for i in shame:\n",
    "    print(i)"
   ],
   "metadata": {
    "collapsed": false,
    "pycharm": {
     "name": "#%%\n"
    }
   }
  },
  {
   "cell_type": "code",
   "execution_count": 16,
   "outputs": [
    {
     "name": "stdout",
     "output_type": "stream",
     "text": [
      "https://www.youtube.com/watch?v=wM5NHC97JBw {'title': \"World's First Automatic Strike Bowling Ball\", 'content creator': 'Mark Rober', 'description': \"You don't need to be good at bowling if you're good at engineering. \\n\\nGo sub to James' channel here:  https://www.youtube.com/user/jamesbruton\", 'date': 'Nov 14, 2019', 'views': '44,111,594 views', 'comments': '18,261', 'likes': '720,268 likes', 'dislikes': ' Unavailable', 'video_length': 349.961, 'url': 'https://www.youtube.com/watch?v=wM5NHC97JBw', 'id': 'wM5NHC97JBw'}\n",
      "https://www.youtube.com/watch?v=qeqhXvE5aPY {'title': 'Life without Water (Full Episode) | Wild Chile', 'content creator': 'Nat Geo WILD', 'description': 'At its Northern edge, in the Atacama desert, wildlife has spent millions of years adapting to a life without water.\\n\\nWatch more Destination Wild on Disney+: ', 'date': 'Jun 21, 2021', 'views': '1,027,912 views', 'comments': '363', 'likes': '11,058 likes', 'dislikes': ' Unavailable', 'video_length': 2663.981, 'url': 'https://www.youtube.com/watch?v=qeqhXvE5aPY', 'id': 'qeqhXvE5aPY'}\n",
      "https://www.youtube.com/watch?v=6uddGul0oAc {'title': 'TOKYO Cafe: Beautiful Relaxing Jazz Piano Music for Stress Relief - Night Coffee Shop Ambience', 'content creator': 'Cafe Music BGM channel', 'description': 'Please Subscribe!\\nhttps://www.youtube.com/user/cafemusi...\\n\\n🎶 The band produced by Cafe Music BGM channel\\n▼ JUTESETS\\nApple Music: https://music.apple.com/us/artist/jut...\\nSpotify: https://open.spotify.com/artist/2CPom...\\nAmazon Music: https://music.amazon.com/artists/B08W...\\n\\n📝 Music For Business「BGMC Station」\\nEnglish: https://bgmc-station.com/en/\\nJAPANESE: https://bgmc-station.com\\n繁體中文: https://bgmc-station.com/tc/\\nEspañol: https://bgmc-station.com/es/\\n한국어: https://bgmc-station.com/ko/\\nYou can use this music at your restaurants, shops, hospitals, offices, part\\xadies, etc..\\nTry free for 14 days.\\n\\n💿 New Release 〜 Streaming Service & Buy Music 〜\\nIf you listen to this music on Streaming Services, please use Shazam to find out if the music has been released.\\n* If you can\\'t find the music, even if you use Shazam, the music is not released at the store. Sorry.\\n\\n▼ Cafe Music BGM channel\\nApple Music: https://itunes.apple.com/artist/cafe-...\\nSpotify: https://open.spotify.com/artist/3yKoH...\\nAmazon Music: https://music.amazon.com/artists/B013...\\n▼ BGM channel\\nApple Music: https://itunes.apple.com/artist/bgm-c...\\nSpotify: https://open.spotify.com/artist/0ykZI...\\nAmazon Music: https://music.amazon.com/artists/B00M...\\n▼ Green Music BGM channel\\nApple Music: https://itunes.apple.com/artist/green...\\nSpotify: https://open.spotify.com/artist/0J2yn...\\nAmazon Music: https://music.amazon.com/artists/B07T...\\n▼ Hawaiian BGM channel\\nApple Music: https://music.apple.com/artist/hawaii...\\nSpotify: https://open.spotify.com/artist/37NY0...\\nAmazon Music: https://music.amazon.com/artists/B087...\\n▼ Hip Hop Jazz BGM channel\\nApple Music: https://music.apple.com/artist/hip-ho...\\nSpotify: https://open.spotify.com/artist/4Er0N...\\nAmazon Music: https://music.amazon.com/artists/B088...\\n▼ Ambient BGM channel\\nApple Music: https://music.apple.com/artist/ambien...\\nSpotify: https://open.spotify.com/artist/60aSX...\\nAmazon Music: https://music.amazon.com/artists/B08B...\\n\\n☕ About Cafe Music BGM channel\\nWe are making Cafe music for relaxation, for work, for study, etc.\\nAll music in this video & in this channel is original music by us.\\nWe are playing all the songs.\\n\\n📜 What is BGMC?\\nMorning.\\nGentle light that shines through the blinds\\nOne glass of water after waking up\\nThe tender breeze from the window that we feel with all our body\\n\\nThese things are too ordinary in everyday life to be conscious.\\nBut we can\\'t live even if one of them is missing.\\n\"BGMC - BGM channel\" has been providing music, hoping to be like them.\\n\\nThough it is colorless and transparent, we want to make the listener\\'s daily life as colorful as possible.\\nThat is the essence of the music we deliver.\\n\\nLight, water, wind, and BGMC\\nA new value for music.\\n\\n🎬 Other channels produced by BGMC\\n▼ BGM channel\\nhttps://www.youtube.com/user/bgmchann...\\n▼ Green Music BGM channel\\nhttps://www.youtube.com/user/japanrel...\\n▼ J-POP Music BGM channel\\nhttps://www.youtube.com/user/jpopcove...\\n▼ Hawaiian BGM channel\\nhttps://www.youtube.com/HawaiianBGMch...\\n\\n📩 Contact\\nFor business inquiries (live music & creating music for your business), contact us via the contact form on the website.\\nOfficial Website: https://www.bgmcrecords.com/\\n\\n🔗 Follow us on Social Media.\\nPlease use the hashtag \"BGMClife\" and share your BGMC Life!\\nInstagram: https://www.instagram.com/bgmc_bgmcha...\\nFacebook: https://www.facebook.com/bgmc.bgmchan...\\nTwitter: https://twitter.com/bgmc_bgmchannel\\n\\n\\n© Music is Copyrighted.\\n#PianoJazz #CoffeeShopAmbience #Jazz', 'date': 'Started streaming on Mar 15, 2021', 'views': '1,570 watching now', 'comments': 'Error found: Message: \\nStacktrace:\\nBacktrace:\\n\\tOrdinal0 [0x00EDFDC3+2555331]\\n\\tOrdinal0 [0x00E777F1+2127857]\\n\\tOrdinal0 [0x00D72E08+1060360]\\n\\tOrdinal0 [0x00D9E49E+1238174]\\n\\tOrdinal0 [0x00D9E69B+1238683]\\n\\tOrdinal0 [0x00DC9252+1413714]\\n\\tOrdinal0 [0x00DB7B54+1342292]\\n\\tOrdinal0 [0x00DC75FA+1406458]\\n\\tOrdinal0 [0x00DB7976+1341814]\\n\\tOrdinal0 [0x00D936B6+1193654]\\n\\tOrdinal0 [0x00D94546+1197382]\\n\\tGetHandleVerifier [0x01079622+1619522]\\n\\tGetHandleVerifier [0x0112882C+2336844]\\n\\tGetHandleVerifier [0x00F723E1+541697]\\n\\tGetHandleVerifier [0x00F71443+537699]\\n\\tOrdinal0 [0x00E7D18E+2150798]\\n\\tOrdinal0 [0x00E81518+2168088]\\n\\tOrdinal0 [0x00E81660+2168416]\\n\\tOrdinal0 [0x00E8B330+2208560]\\n\\tBaseThreadInitThunk [0x76E86359+25]\\n\\tRtlGetAppContainerNamedObjectPath [0x776087A4+228]\\n\\tRtlGetAppContainerNamedObjectPath [0x77608774+180]\\n', 'likes': 'Unavailable', 'dislikes': ' Unavailable', 'video_length': 26592894.35995465, 'url': 'https://www.youtube.com/watch?v=6uddGul0oAc'}\n",
      "https://www.youtube.com/watch?v=OnjI-FBdRTQ {'title': 'Unsolved Marathon Season 2', 'content creator': 'BuzzFeed Unsolved Network', 'description': \"MERCH: We've got it! SHOP NOW: bzfd.it/2MDBk2d\\n\\nCredits: https://www.buzzfeed.com/bfmp/videos/...\", 'date': 'Premiered Jan 1, 2019', 'views': '8,426,808 views', 'comments': '7,554', 'likes': '97,541 likes', 'dislikes': ' Unavailable', 'video_length': 23665.621, 'url': 'https://www.youtube.com/watch?v=OnjI-FBdRTQ', 'id': 'OnjI-FBdRTQ'}\n",
      "https://www.youtube.com/watch?v=BrwYJjqxhFU {'title': 'Global National: Jan. 9, 2022 | In-classroom learning proves difficult as Omicron spreads', 'content creator': 'Global News', 'description': 'After an extended Christmas break triggered by surging cases of the Omicron variant, students across much of Canada will return to school tomorrow. Most students will be back to online education, but in western Canada, schools will be open for in-person learning once again. Most doctors agree opening schools should be a priority for kids, but keeping those classrooms open may be more challenging. Heather Yourex-West reports. \\n \\nA remote COVID-stricken First Nation in northwestern Ontario is getting some military help, but not as much help as it asked for. Bearskin Lake First Nation is about 600 kilometres north of Thunder Bay. More than half of the community’s 400 residents have tested positive and nearly the entire community is in self-isolation. David Akin has more.\\n \\nQuebec is reporting a sharp jump in COVID-19 hospitalizations today, climbing by 140 since yesterday. The situation outside Montreal is especially dire, forcing some regions to make tough decisions. \\n \\nKazakhstan’s health ministry says 164 people were killed during a week of deadly protests that began over a sharp rise in fuel prices. Kazakhstan will be a key sticking point during top level talks between the U.S. and Russia that begin tomorrow. But the biggest will be Russia’s potential threat against Ukraine and how Russian President Vladimir Putin is amassing troops along the border. Jennifer Johnson joins us with the latest.\\n \\nConservationists are praising the federal government for helping to save endangered sharks. At a recent international meeting, Canada successfully lobbied for the protection of Shortfin mako sharks. It can be found worldwide including off the coast of Nova Scotia and even into the Gulf of the St. Lawrence. As Ross Lord explains, mako numbers are declining leading to fears they could soon be extinct. \\n \\nThe effects of man-made climate change is expected to be felt most severely in the developing world in the coming decades. Droughts in Africa are already impacting a giant project that itself is trying to hold back the effects of Mother Nature. The so-called Great Green Wall Initiative involves re-planting billions of hectares across the width of the continent. But as Redmond Shannon reports, the long-term consequences of the plan are still unknown.\\n \\nA big wallop of winter isn’t exactly the norm for Vancouver Island so when it does happen it can be difficult to deal with. In one seaside town a group of Good Samaritans put their shovels, musical talents and a borrowed B.C. transit bus to work to clear out all the recent snow. Kylie Stanton reports.\\n\\nFor more info, please go to ', 'date': 'Premiered Jan 9, 2022', 'views': '69,623 views', 'comments': '443', 'likes': '388 likes', 'dislikes': ' Unavailable', 'video_length': 1326.241, 'url': 'https://www.youtube.com/watch?v=BrwYJjqxhFU', 'id': 'BrwYJjqxhFU'}\n",
      "https://www.youtube.com/watch?v=Ijst4g5KFN0 {'title': '26. Chernobyl — How It Happened', 'content creator': 'MIT OpenCourseWare', 'description': 'MIT 22.01 Introduction to Nuclear Engineering and Ionizing Radiation, Fall 2016\\nInstructor: Michael Short\\nView the complete course: https://ocw.mit.edu/22-01F16', 'date': 'Sep 20, 2019', 'views': '1,266,686 views', 'comments': '2,089', 'likes': '24,145 likes', 'dislikes': ' Unavailable', 'video_length': 3263.141, 'url': 'https://www.youtube.com/watch?v=Ijst4g5KFN0', 'id': 'Ijst4g5KFN0'}\n",
      "https://www.youtube.com/watch?v=55-dYjpmsk8 {'title': \"I'll teach you how to construct the decotile Herringbone.\", 'content creator': 'Yang interior [양인테리어]', 'description': \"I'll teach you how to construct the decotile Herringbone.\", 'date': 'Apr 23, 2021', 'views': '43,815,819 views', 'comments': '6,625', 'likes': '156,681 likes', 'dislikes': ' Unavailable', 'video_length': 861.761, 'url': 'https://www.youtube.com/watch?v=55-dYjpmsk8', 'id': '55-dYjpmsk8'}\n",
      "https://www.youtube.com/watch?v=FHJ3CMWnVxY {'title': 'Furniture Optical Illusions - Zach King Magic', 'content creator': 'Zach King', 'description': \"These Furniture Optical Illusions remind you that life isn't always as it seems. Comment below your favorite and don't forget to subscribe for future magic tricks and illusion videos from Zach King.  A big thanks to Ashley HomeStore for powering the magic in this video - https://bit.ly/2MM78j0 \\n\\nTweet at me: \", 'date': 'Oct 29, 2019', 'views': '84,852,450 views', 'comments': '19,915', 'likes': '1,284,332 likes', 'dislikes': ' Unavailable', 'video_length': 234.801, 'url': 'https://www.youtube.com/watch?v=FHJ3CMWnVxY'}\n",
      "https://www.youtube.com/watch?v=8ejG5AlAfJU {'title': 'Doctor Reacts To House MD | Girl Who Can’t Feel Pain', 'content creator': 'Doctor Mike', 'description': 'Dr. Gregory House MD might be a genius doctor, but he’s a bit extreme to say the least. In “Insensitive”, Season 3 Episode 14, he encounters a patient suffering from CIPA, or Congenital Insensitivity to Pain. This is naturally interesting to House, because of his chronic pain issues, so he dives in to study this young patient’s body and learn her secrets in an attempt to better understand his own condition… but not before discovering she’s been siphoning off her Vitamin B12 to a 25 foot long tape worm. Yikes. Today we look at the unethical and downright torturous methods House and his staff used to treat this girl, as well as discuss the effects a tapeworm can have on your body.\\n\\nI LOVE reading your comments and take your suggestions seriously. If there’s a subject you want me to discuss or something you’d like for me to react to, leave a comment down below. Many of my videos have been born out of suggestions directly from you, so don’t hold back!\\n-Doctor Mike Varshavski\\n\\nHelp us continue the fight against medical misinformation and change the world through charity by becoming a Doctor Mike Resident on Patreon where every month I donate 100% of the proceeds to the charity, organization, or cause of your choice! Residents get access to bonus content, an exclusive discord community, and many other perks for just $10 a month. Become a Resident today:', 'date': 'Jan 2, 2022', 'views': '1,593,399 views', 'comments': '4,164', 'likes': '72,481 likes', 'dislikes': ' Unavailable', 'video_length': 735.581, 'url': 'https://www.youtube.com/watch?v=8ejG5AlAfJU'}\n",
      "https://www.youtube.com/watch?v=Z15fcoVNRCw {'title': 'This Cute Girl Really Mesmerizes You in Tokyo Streets', 'content creator': 'Japan explorer', 'description': 'This Cute Girl Really Mesmerizes You in Tokyo Streets\\nThese videos are all improvised without planning so I apologize for any Mistake .\\nFollow on Instagram  :', 'date': 'Nov 23, 2021', 'views': '388,514 views', 'comments': '748', 'likes': '10,931 likes', 'dislikes': ' Unavailable', 'video_length': 1132.641, 'url': 'https://www.youtube.com/watch?v=Z15fcoVNRCw', 'id': 'Z15fcoVNRCw'}\n",
      "https://www.youtube.com/watch?v=e36xx1iHBZ0 {'title': 'How To Annoy Meridia (Skyrim: Special Edition)', 'content creator': 'Mangustification', 'description': \"Some Meridia dialogue that I'd never heard before, as long as I've been playing Skyrim.\", 'date': 'Jul 29, 2021', 'views': '498,926 views', 'comments': '984', 'likes': '15,148 likes', 'dislikes': ' Unavailable', 'video_length': 99.221, 'url': 'https://www.youtube.com/watch?v=e36xx1iHBZ0', 'id': 'e36xx1iHBZ0'}\n",
      "https://www.youtube.com/watch?v=iyv-Cu9o8VY {'title': 'CBC News: The National | Rising hospitalizations, Unvaccinated tax, Kids’ COVID-19 vaccines', 'content creator': 'CBC News: The National', 'description': 'Jan.11, 2022 | The worrying signs inside hospitals as severe COVID-19 outcomes and deaths increase. Quebec proposed a health tax for those who don’t get vaccinated. Plus, the concerns keeping some parents from vaccinating their children. \\n ', 'date': 'Streamed live on Jan 11, 2022', 'views': '44,568 views', 'comments': 'Error found: Message: \\n', 'likes': '297 likes', 'dislikes': ' Unavailable', 'video_length': 3630.041, 'url': 'https://www.youtube.com/watch?v=iyv-Cu9o8VY', 'id': 'iyv-Cu9o8VY'}\n",
      "https://www.youtube.com/watch?v=L8ZVpv0Y2vI {'title': 'Defunctland: The History of the Worst Six Flags Coaster, Green Lantern: First Flight', 'content creator': 'Defunctland', 'description': \"In this episode, Kevin explores the history of what is widely regarded as Six Flags worst coaster in recent history, Six Flags Magic Mountain's Green Lantern: First Flight.\\n\\nNOTE: This is not part of Defunctland: Season Three and is merely a one-off episode.\\n\\nBuy Defunctland T-Shirts:\", 'date': 'May 2, 2020', 'views': '3,928,763 views', 'comments': '7,970', 'likes': '83,784 likes', 'dislikes': ' Unavailable', 'video_length': 1168, 'url': 'https://www.youtube.com/watch?v=L8ZVpv0Y2vI', 'id': 'L8ZVpv0Y2vI'}\n",
      "https://www.youtube.com/watch?v=ltOkMlHrGPc {'title': '', 'content creator': '74 Gear', 'description': '', 'date': '', 'views': '', 'comments': '26,285', 'likes': '342,465 likes', 'dislikes': ' Unavailable', 'video_length': 939.581, 'url': 'https://www.youtube.com/watch?v=ltOkMlHrGPc'}\n",
      "https://www.youtube.com/watch?v=fv1naZVTjL0 {'title': 'Marines get the flamer !! TheRussianBadger - Space Hulk deathwing - Animatic/storyboard', 'content creator': 'Pitrusbd', 'description': 'The pages to visit:\\nTWITTER : https://twitter.com/pitrusbd\\nFACEBOOK : https://www.facebook.com/pitrusbd', 'date': 'Jul 10, 2020', 'views': '629,119 views', 'comments': '577', 'likes': '33,636 likes', 'dislikes': ' Unavailable', 'video_length': 143.861, 'url': 'https://www.youtube.com/watch?v=fv1naZVTjL0', 'id': 'fv1naZVTjL0'}\n",
      "https://www.youtube.com/watch?v=kd6LSJjOawM {'title': 'Solo Female In 4x4 Adventure Rig Finds Freedom And Adventure On The Road', 'content creator': 'Tiny Home Tours', 'description': 'Subscribe For Weekly Newsletter : https://bit.ly/THT-Newsletter\\nTiny Home Tours Podcast : http://bit.ly/THT-Podcast\\nLife On The Road In A Skoolie Newsletter : http://bit.ly/OGSN-Signup', 'date': 'Jun 11, 2021', 'views': '4,034,259 views', 'comments': '7,967', 'likes': '73,617 likes', 'dislikes': ' Unavailable', 'video_length': 1242.581, 'url': 'https://www.youtube.com/watch?v=kd6LSJjOawM'}\n",
      "https://www.youtube.com/watch?v=k8vpB7GCYPE {'title': 'Best of Weekly Dose of Aviation (2021)', 'content creator': 'lucaas', 'description': 'This is Weekly Dose of Aviation #140 (Best of Weekly Dose of Aviation 2021)\\n\\nLinks to sources:\\n\\nWeekly Dose of Aviation Episode ', 'date': 'Dec 29, 2021', 'views': '2,735,149 views', 'comments': '1,032', 'likes': '22,118 likes', 'dislikes': ' Unavailable', 'video_length': 2547.061, 'url': 'https://www.youtube.com/watch?v=k8vpB7GCYPE'}\n",
      "https://www.youtube.com/watch?v=HxmSnJqC6k4 {'title': 'Telling Scammers their Call Center Details', 'content creator': 'Scammer Payback', 'description': 'We get connected to some scammers and like always we try to gather as much information while we can. Got the scammers location, building and even their boss who runs the operation.', 'date': 'Premiered Dec 5, 2021', 'views': '3,648,328 views', 'comments': '4,117', 'likes': '73,670 likes', 'dislikes': ' Unavailable', 'video_length': 831.721, 'url': 'https://www.youtube.com/watch?v=HxmSnJqC6k4', 'id': 'HxmSnJqC6k4'}\n",
      "https://www.youtube.com/watch?v=IEv5y199928 {'title': 'Just 2 spoons of oats, 2 eggs and a healthy meal are ready! Healthy and cheap food. # 89', 'content creator': 'Schnell Lecker Einfach', 'description': \"Just 2 spoons of oats, 2 eggs and a healthy meal are ready! Healthy and cheap food.\\nRecipe in 5 minutes. Delicious and healthy breakfast. You will love this easy and quick recipe. If there is no time at all, you can make this quick recipe. 5 minutes and breakfast is ready.\\n\\nPreparation and ingredients:\\n2 tablespoons of oatmeal.\\n50 ml of warm milk.\\nMix well.\\nLeave on for 2 minutes.\\nAdd 2 eggs.\\n1 tablespoon of processed cheese.\\nA pinch of salt.\\nMix well.\\n1 tablespoon of olive oil.\\nPour the batter into the frying pan.\\nFry on one side and the other over low heat for 3-4 minutes.\\nGood Appetite!\\n\\nFriends, if you liked my video, you can help the channel:\\n📢 Share my video with your friends on social networks. Subscribe to my channel, ring the bell!\\nRate the video! 👍 - it's pleasant for me and important for the development of my channel!\\nWRITE A COMMENT, or at least a smiley face. It won't be hard for you, but I'll be very happy! Thank you for your attention! I try very hard to cook the simplest and most interesting recipes!\", 'date': 'Mar 2, 2021', 'views': '10,785,247 views', 'comments': '3,810', 'likes': '125,817 likes', 'dislikes': ' Unavailable', 'video_length': 222.501, 'url': 'https://www.youtube.com/watch?v=IEv5y199928'}\n",
      "https://www.youtube.com/watch?v=yhjqY6Ps8p4 {'title': 'The Sharks Left Breathless By Boost Oxygen | Shark Tank US | Shark Tank Global', 'content creator': 'Shark Tank Global', 'description': 'Rob & Mike are seeking $1M for a 5% stake in Boost Oxygen\\n\\nFrom Season 11 Episode 2\\n\\nWatch Now: ', 'date': 'Oct 25, 2021', 'views': '1,928,272 views', 'comments': '2,422', 'likes': '21,420 likes', 'dislikes': ' Unavailable', 'video_length': 456.341, 'url': 'https://www.youtube.com/watch?v=yhjqY6Ps8p4'}\n",
      "https://www.youtube.com/watch?v=K0GPCmm1F3o {'title': 'Pawn Stars: 5 SUPER HIGH PRICE APPRAISALS (Big Offers WAY Over Asking)', 'content creator': 'Pawn Stars', 'description': 'The experts find that these items are worth WAY more than their original asking price, in this compilation from Pawn Stars.\\n\\nChapters:', 'date': 'Dec 24, 2021', 'views': '14,270,730 views', 'comments': '6,520', 'likes': '121,523 likes', 'dislikes': ' Unavailable', 'video_length': 1686.241, 'url': 'https://www.youtube.com/watch?v=K0GPCmm1F3o'}\n"
     ]
    }
   ],
   "source": [
    "x = 0\n",
    "for k, v in video_info.items():\n",
    "    if x > 20:\n",
    "        break\n",
    "    print(k, v)\n",
    "    x += 1"
   ],
   "metadata": {
    "collapsed": false,
    "pycharm": {
     "name": "#%%\n"
    }
   }
  },
  {
   "cell_type": "markdown",
   "source": [
    "# 3. Create CSV files"
   ],
   "metadata": {
    "collapsed": false,
    "pycharm": {
     "name": "#%% md\n"
    }
   }
  },
  {
   "cell_type": "code",
   "execution_count": null,
   "outputs": [],
   "source": [
    "breadth_csv.to_csv('C:\\\\Users\\\\mikad\\\\PycharmProjects\\\\Comp_396_YouTube_Radicalization\\\\Analysis\\\\csvs\\\\' + 'breadth_experiment.csv')\n",
    "depth_csv.to_csv('C:\\\\Users\\\\mikad\\\\PycharmProjects\\\\Comp_396_YouTube_Radicalization\\\\Analysis\\\\csvs\\\\' + 'depth_experiment.csv')\n",
    "survey_csv.to_csv('C:\\\\Users\\\\mikad\\\\PycharmProjects\\\\Comp_396_YouTube_Radicalization\\\\Analysis\\\\csvs\\\\' + 'survey_experiment.csv')\n"
   ],
   "metadata": {
    "collapsed": false,
    "pycharm": {
     "name": "#%%\n"
    }
   }
  }
 ],
 "metadata": {
  "kernelspec": {
   "display_name": "Python 3",
   "language": "python",
   "name": "python3"
  },
  "language_info": {
   "codemirror_mode": {
    "name": "ipython",
    "version": 2
   },
   "file_extension": ".py",
   "mimetype": "text/x-python",
   "name": "python",
   "nbconvert_exporter": "python",
   "pygments_lexer": "ipython2",
   "version": "2.7.6"
  }
 },
 "nbformat": 4,
 "nbformat_minor": 0
}