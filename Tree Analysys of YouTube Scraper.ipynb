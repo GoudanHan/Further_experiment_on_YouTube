{
 "cells": [
  {
   "cell_type": "code",
   "execution_count": 1,
   "metadata": {},
   "outputs": [],
   "source": [
    "import anytree.search\n",
    "import matplotlib.pyplot as plt\n",
    "import pandas as pd\n",
    "import treelib\n",
    "from selenium import webdriver\n",
    "from selenium.webdriver.common.by import By\n",
    "from selenium.webdriver.support.ui import WebDriverWait\n",
    "from selenium.webdriver.support import expected_conditions as EC\n",
    "from selenium.common.exceptions import TimeoutException, ElementNotInteractableException\n",
    "from selenium.webdriver.common.action_chains import ActionChains\n",
    "import time\n",
    "from anytree import Node, AnyNode, NodeMixin,RenderTree, AbstractStyle, ContStyle, AsciiStyle\n",
    "from anytree.importer import JsonImporter\n",
    "from collections import deque\n",
    "import asyncio\n",
    "import numpy as np\n",
    "import os\n",
    "import plotly as plt\n",
    "from googleapiclient.discovery import build\n",
    "import dataframe_image as dfi\n"
   ]
  },
  {
   "cell_type": "code",
   "execution_count": 2,
   "metadata": {
    "pycharm": {
     "name": "#%%\n"
    }
   },
   "outputs": [],
   "source": [
    "importer = JsonImporter()\n",
    "\n",
    "right_wing_trees = []\n",
    "left_wing_trees = []\n",
    "\n",
    "right = os.listdir(\"D:/Data Science/Comp_396/Project/Tree_results (Right-wing)\")\n",
    "left = os.listdir(\"D:/Data Science/Comp_396/Project/Tree_results (Left-wing)\")\n",
    "\n",
    "for file in right:\n",
    "    with open(\"D:/Data Science/Comp_396/Project/Tree_results (Right-wing)/\"+ file, 'r') as outfile:\n",
    "        data = outfile.read()\n",
    "        root = importer.import_(data)\n",
    "        right_wing_trees.append(RenderTree(root))\n",
    "\n",
    "for file in left:\n",
    "    with open(\"D:/Data Science/Comp_396/Project/Tree_results (Left-wing)/\"+ file, 'r') as outfile:\n",
    "        data = outfile.read()\n",
    "        #data = json.load(data)\n",
    "        root = importer.import_(data)\n",
    "        left_wing_trees.append(RenderTree(root))\n",
    "\n",
    "channels_df = pd.read_csv(\"D:\\Data Science\\Comp_396\\Project\\channel_review.csv\")"
   ]
  },
  {
   "cell_type": "code",
   "execution_count": 3,
   "metadata": {
    "pycharm": {
     "name": "#%%\n"
    }
   },
   "outputs": [],
   "source": [
    "#remove BBC and CNN from the trees since they are not politically left-wing channels but are more Mainstream\n",
    "to_remove_left = []\n",
    "for t in left_wing_trees:\n",
    "    if(t.node.video['content creator'] in ('BBC') or t.node.video['content creator'] in ('CNN')):\n",
    "        to_remove_left.append(t)\n",
    "\n",
    "for x in [0, 1]:\n",
    "    #there are duplicates of the items we wish to remove to remove them twice\n",
    "    for i in left_wing_trees:\n",
    "        if i in to_remove_left:\n",
    "            left_wing_trees.remove(i)"
   ]
  },
  {
   "cell_type": "code",
   "execution_count": 4,
   "metadata": {
    "pycharm": {
     "name": "#%%\n"
    }
   },
   "outputs": [],
   "source": [
    "#\n",
    "to_remove_right = []\n",
    "for t in right_wing_trees:\n",
    "    if(t.node.video['content creator'] in ('PowerfulJRE') or t.node.video['content creator'] in ('JRE Clips')):\n",
    "        to_remove_right.append(t)\n",
    "\n",
    "for x in [0, 1]:\n",
    "    #there are duplicates of the items we wish to remove to remove them twice\n",
    "    for i in right_wing_trees:\n",
    "        if i in to_remove_right:\n",
    "            right_wing_trees.remove(i)"
   ]
  },
  {
   "cell_type": "markdown",
   "metadata": {
    "pycharm": {
     "name": "#%% md\n"
    }
   },
   "source": [
    "# Right-Wing Tree analysis"
   ]
  },
  {
   "cell_type": "code",
   "execution_count": 5,
   "metadata": {
    "pycharm": {
     "name": "#%%\n"
    }
   },
   "outputs": [
    {
     "name": "stdout",
     "output_type": "stream",
     "text": [
      "Outer: 1/116\n",
      "Outer: 2/116\n",
      "Outer: 3/116\n"
     ]
    },
    {
     "name": "stderr",
     "output_type": "stream",
     "text": [
      "C:\\Users\\mikad\\anaconda3\\lib\\site-packages\\pandas\\core\\strings\\accessor.py:101: UserWarning: This pattern has match groups. To actually get the groups, use str.extract.\n",
      "  return func(self, *args, **kwargs)\n"
     ]
    },
    {
     "name": "stdout",
     "output_type": "stream",
     "text": [
      "Outer: 4/116\n",
      "Outer: 5/116\n",
      "Outer: 6/116\n",
      "Outer: 7/116\n",
      "Outer: 8/116\n",
      "Outer: 9/116\n",
      "Outer: 10/116\n",
      "Outer: 11/116\n",
      "Outer: 12/116\n",
      "Outer: 13/116\n",
      "Outer: 14/116\n",
      "Outer: 15/116\n",
      "Outer: 16/116\n",
      "Outer: 17/116\n",
      "Outer: 18/116\n",
      "Outer: 19/116\n",
      "Outer: 20/116\n",
      "Outer: 21/116\n",
      "Outer: 22/116\n",
      "Outer: 23/116\n",
      "Outer: 24/116\n",
      "Outer: 25/116\n",
      "Outer: 26/116\n",
      "Outer: 27/116\n",
      "Outer: 28/116\n",
      "Outer: 29/116\n",
      "Outer: 30/116\n",
      "Outer: 31/116\n",
      "Outer: 32/116\n",
      "Outer: 33/116\n",
      "Outer: 34/116\n",
      "Outer: 35/116\n",
      "Outer: 36/116\n",
      "Outer: 37/116\n",
      "Outer: 38/116\n",
      "Outer: 39/116\n",
      "Outer: 40/116\n",
      "Outer: 41/116\n",
      "Outer: 42/116\n",
      "Outer: 43/116\n",
      "Outer: 44/116\n",
      "Outer: 45/116\n",
      "Outer: 46/116\n",
      "Outer: 47/116\n",
      "Outer: 48/116\n",
      "Outer: 49/116\n",
      "Outer: 50/116\n",
      "Outer: 51/116\n",
      "Outer: 52/116\n",
      "Outer: 53/116\n",
      "Outer: 54/116\n",
      "Outer: 55/116\n",
      "Outer: 56/116\n",
      "Outer: 57/116\n",
      "Outer: 58/116\n",
      "Outer: 59/116\n",
      "Outer: 60/116\n",
      "Outer: 61/116\n",
      "Outer: 62/116\n",
      "Outer: 63/116\n",
      "Outer: 64/116\n",
      "Outer: 65/116\n",
      "Outer: 66/116\n",
      "Outer: 67/116\n",
      "Outer: 68/116\n",
      "Outer: 69/116\n",
      "Outer: 70/116\n",
      "Outer: 71/116\n",
      "Outer: 72/116\n",
      "Outer: 73/116\n",
      "Outer: 74/116\n",
      "Outer: 75/116\n",
      "Outer: 76/116\n",
      "Outer: 77/116\n",
      "Outer: 78/116\n",
      "Outer: 79/116\n",
      "Outer: 80/116\n",
      "Outer: 81/116\n",
      "Outer: 82/116\n",
      "Outer: 83/116\n",
      "Outer: 84/116\n",
      "Outer: 85/116\n",
      "Outer: 86/116\n",
      "Outer: 87/116\n",
      "Outer: 88/116\n",
      "Outer: 89/116\n",
      "Outer: 90/116\n",
      "Outer: 91/116\n",
      "Outer: 92/116\n",
      "Outer: 93/116\n",
      "Outer: 94/116\n",
      "Outer: 95/116\n",
      "Outer: 96/116\n",
      "Outer: 97/116\n",
      "Outer: 98/116\n",
      "Outer: 99/116\n",
      "Outer: 100/116\n",
      "Outer: 101/116\n",
      "Outer: 102/116\n",
      "Outer: 103/116\n",
      "Outer: 104/116\n",
      "Outer: 105/116\n",
      "Outer: 106/116\n",
      "Outer: 107/116\n",
      "Outer: 108/116\n",
      "Outer: 109/116\n",
      "Outer: 110/116\n",
      "Outer: 111/116\n",
      "Outer: 112/116\n",
      "Outer: 113/116\n",
      "Outer: 114/116\n",
      "Outer: 115/116\n",
      "Outer: 116/116\n"
     ]
    }
   ],
   "source": [
    "# create a dataframe of right wing results for right wing tree\n",
    "columns_right = ['AntiSJW', 'Conspiracy', 'PartisanRight', 'ReligiousConservative', 'WhiteIdentitarian', 'Libertarian', 'MRA', 'Provocateur', 'Total']\n",
    "depth = [i for i in range(0, 6)]\n",
    "df_right = pd.DataFrame(data = ([ 0 for i in columns_right ] for x in range(0, 6)), columns=columns_right)\n",
    "\n",
    "outer = 0\n",
    "\n",
    "for root in right_wing_trees:\n",
    "    outer = outer + 1\n",
    "    #creators[root.node.id] = []\n",
    "    #t.video['content creator']\n",
    "    for t in anytree.LevelOrderIter(root.node):\n",
    "        if not (t.video == None):\n",
    "            if not (t.video['content creator'] == None):\n",
    "\n",
    "                #only looking for the exact name\n",
    "                if (channels_df['CHANNEL_TITLE'].str.contains('^'+ t.video['content creator'] +'$').sum() > 0):\n",
    "                    # now check what the type of the channels found were\n",
    "                    c = channels_df.loc[channels_df['CHANNEL_TITLE'].str.contains('^'+ t.video['content creator'] +'$', case=False, na=False)]\n",
    "\n",
    "                    bool = False\n",
    "                    for tags in columns_right:\n",
    "                        if (c['REVIEWER_TAGS'].str.contains(tags).sum() > 0) or (c['TAGS'].str.contains(tags).sum() > 0):\n",
    "                            bool = True\n",
    "                            #add a + 1 in the column\n",
    "                            df_right.at[t.depth, tags] = df_right.at[t.depth, tags] + 1\n",
    "                    if bool:\n",
    "                        df_right.at[t.depth, 'Total'] = df_right.at[t.depth, 'Total'] + 1\n",
    "\n",
    "    print(f'Outer: {outer}/{len(right_wing_trees)}')"
   ]
  },
  {
   "cell_type": "code",
   "execution_count": 6,
   "metadata": {
    "pycharm": {
     "name": "#%%\n"
    }
   },
   "outputs": [],
   "source": [
    "d = [0 for i in range(0, 6)]\n",
    "\n",
    "for t in right_wing_trees:\n",
    "    for nodes in anytree.LevelOrderIter(t.node):\n",
    "        if(nodes.depth < 6):\n",
    "            d[nodes.depth] = d[nodes.depth] + 1\n",
    "\n",
    "for i in range(0, len(d)):\n",
    "    df_right.loc[i] = df_right.loc[i]/d[i]"
   ]
  },
  {
   "cell_type": "code",
   "execution_count": 7,
   "metadata": {},
   "outputs": [],
   "source": [
    "df_styled_right = df_right.style.background_gradient() #adding a gradient based on values in cell"
   ]
  },
  {
   "cell_type": "code",
   "execution_count": 8,
   "metadata": {},
   "outputs": [
    {
     "ename": "OSError",
     "evalue": "[Errno 22] Invalid argument: 'df_right_styled.png'",
     "output_type": "error",
     "traceback": [
      "\u001B[1;31m---------------------------------------------------------------------------\u001B[0m",
      "\u001B[1;31mOSError\u001B[0m                                   Traceback (most recent call last)",
      "\u001B[1;32m<ipython-input-8-b8271a03a8b6>\u001B[0m in \u001B[0;36m<module>\u001B[1;34m\u001B[0m\n\u001B[1;32m----> 1\u001B[1;33m \u001B[0mdfi\u001B[0m\u001B[1;33m.\u001B[0m\u001B[0mexport\u001B[0m\u001B[1;33m(\u001B[0m\u001B[0mdf_right\u001B[0m\u001B[1;33m,\u001B[0m\u001B[1;34m\"df_right_styled.png\"\u001B[0m\u001B[1;33m)\u001B[0m\u001B[1;33m\u001B[0m\u001B[1;33m\u001B[0m\u001B[0m\n\u001B[0m",
      "\u001B[1;32m~\\anaconda3\\lib\\site-packages\\dataframe_image\\_pandas_accessor.py\u001B[0m in \u001B[0;36mexport\u001B[1;34m(obj, filename, fontsize, max_rows, max_cols, table_conversion, chrome_path)\u001B[0m\n\u001B[0;32m     22\u001B[0m def export(obj, filename, fontsize=14, max_rows=None, max_cols=None, \n\u001B[0;32m     23\u001B[0m                table_conversion='chrome', chrome_path=None):\n\u001B[1;32m---> 24\u001B[1;33m         \u001B[1;32mreturn\u001B[0m \u001B[0m_export\u001B[0m\u001B[1;33m(\u001B[0m\u001B[0mobj\u001B[0m\u001B[1;33m,\u001B[0m \u001B[0mfilename\u001B[0m\u001B[1;33m,\u001B[0m \u001B[0mfontsize\u001B[0m\u001B[1;33m,\u001B[0m \u001B[0mmax_rows\u001B[0m\u001B[1;33m,\u001B[0m \u001B[0mmax_cols\u001B[0m\u001B[1;33m,\u001B[0m \u001B[0mtable_conversion\u001B[0m\u001B[1;33m,\u001B[0m \u001B[0mchrome_path\u001B[0m\u001B[1;33m)\u001B[0m\u001B[1;33m\u001B[0m\u001B[1;33m\u001B[0m\u001B[0m\n\u001B[0m\u001B[0;32m     25\u001B[0m \u001B[1;33m\u001B[0m\u001B[0m\n\u001B[0;32m     26\u001B[0m \u001B[1;33m\u001B[0m\u001B[0m\n",
      "\u001B[1;32m~\\anaconda3\\lib\\site-packages\\dataframe_image\\_pandas_accessor.py\u001B[0m in \u001B[0;36m_export\u001B[1;34m(obj, filename, fontsize, max_rows, max_cols, table_conversion, chrome_path)\u001B[0m\n\u001B[0;32m     74\u001B[0m \u001B[1;33m\u001B[0m\u001B[0m\n\u001B[0;32m     75\u001B[0m     \u001B[1;32mif\u001B[0m \u001B[0misinstance\u001B[0m\u001B[1;33m(\u001B[0m\u001B[0mfilename\u001B[0m\u001B[1;33m,\u001B[0m \u001B[0mstr\u001B[0m\u001B[1;33m)\u001B[0m\u001B[1;33m:\u001B[0m\u001B[1;33m\u001B[0m\u001B[1;33m\u001B[0m\u001B[0m\n\u001B[1;32m---> 76\u001B[1;33m         \u001B[0mopen\u001B[0m\u001B[1;33m(\u001B[0m\u001B[0mfilename\u001B[0m\u001B[1;33m,\u001B[0m \u001B[1;34m'wb'\u001B[0m\u001B[1;33m)\u001B[0m\u001B[1;33m.\u001B[0m\u001B[0mwrite\u001B[0m\u001B[1;33m(\u001B[0m\u001B[0mimg_str\u001B[0m\u001B[1;33m)\u001B[0m\u001B[1;33m\u001B[0m\u001B[1;33m\u001B[0m\u001B[0m\n\u001B[0m\u001B[0;32m     77\u001B[0m     \u001B[1;32melif\u001B[0m \u001B[0mhasattr\u001B[0m\u001B[1;33m(\u001B[0m\u001B[0mfilename\u001B[0m\u001B[1;33m,\u001B[0m \u001B[1;34m'write'\u001B[0m\u001B[1;33m)\u001B[0m\u001B[1;33m:\u001B[0m\u001B[1;33m\u001B[0m\u001B[1;33m\u001B[0m\u001B[0m\n\u001B[0;32m     78\u001B[0m         \u001B[0mfilename\u001B[0m\u001B[1;33m.\u001B[0m\u001B[0mwrite\u001B[0m\u001B[1;33m(\u001B[0m\u001B[0mimg_str\u001B[0m\u001B[1;33m)\u001B[0m\u001B[1;33m\u001B[0m\u001B[1;33m\u001B[0m\u001B[0m\n",
      "\u001B[1;31mOSError\u001B[0m: [Errno 22] Invalid argument: 'df_right_styled.png'"
     ]
    }
   ],
   "source": [
    "dfi.export(df_right,\"df_right_styled.png\")"
   ]
  },
  {
   "cell_type": "code",
   "execution_count": 9,
   "metadata": {
    "pycharm": {
     "name": "#%%\n"
    }
   },
   "outputs": [
    {
     "data": {
      "text/html": [
       "<div>\n",
       "<style scoped>\n",
       "    .dataframe tbody tr th:only-of-type {\n",
       "        vertical-align: middle;\n",
       "    }\n",
       "\n",
       "    .dataframe tbody tr th {\n",
       "        vertical-align: top;\n",
       "    }\n",
       "\n",
       "    .dataframe thead th {\n",
       "        text-align: right;\n",
       "    }\n",
       "</style>\n",
       "<table border=\"1\" class=\"dataframe\">\n",
       "  <thead>\n",
       "    <tr style=\"text-align: right;\">\n",
       "      <th></th>\n",
       "      <th>AntiSJW</th>\n",
       "      <th>Conspiracy</th>\n",
       "      <th>PartisanRight</th>\n",
       "      <th>ReligiousConservative</th>\n",
       "      <th>WhiteIdentitarian</th>\n",
       "      <th>Libertarian</th>\n",
       "      <th>MRA</th>\n",
       "      <th>Provocateur</th>\n",
       "      <th>Total</th>\n",
       "    </tr>\n",
       "  </thead>\n",
       "  <tbody>\n",
       "    <tr>\n",
       "      <th>0</th>\n",
       "      <td>0.801724</td>\n",
       "      <td>0.146552</td>\n",
       "      <td>0.931034</td>\n",
       "      <td>0.310345</td>\n",
       "      <td>0.068966</td>\n",
       "      <td>0.344828</td>\n",
       "      <td>0.103448</td>\n",
       "      <td>0.362069</td>\n",
       "      <td>0.931034</td>\n",
       "    </tr>\n",
       "    <tr>\n",
       "      <th>1</th>\n",
       "      <td>0.045977</td>\n",
       "      <td>0.002874</td>\n",
       "      <td>0.218391</td>\n",
       "      <td>0.014368</td>\n",
       "      <td>0.000000</td>\n",
       "      <td>0.008621</td>\n",
       "      <td>0.002874</td>\n",
       "      <td>0.014368</td>\n",
       "      <td>0.250000</td>\n",
       "    </tr>\n",
       "    <tr>\n",
       "      <th>2</th>\n",
       "      <td>0.030918</td>\n",
       "      <td>0.000966</td>\n",
       "      <td>0.119807</td>\n",
       "      <td>0.005797</td>\n",
       "      <td>0.000000</td>\n",
       "      <td>0.002899</td>\n",
       "      <td>0.000000</td>\n",
       "      <td>0.004831</td>\n",
       "      <td>0.147826</td>\n",
       "    </tr>\n",
       "    <tr>\n",
       "      <th>3</th>\n",
       "      <td>0.013834</td>\n",
       "      <td>0.000988</td>\n",
       "      <td>0.073452</td>\n",
       "      <td>0.003953</td>\n",
       "      <td>0.000000</td>\n",
       "      <td>0.001976</td>\n",
       "      <td>0.000000</td>\n",
       "      <td>0.003623</td>\n",
       "      <td>0.086627</td>\n",
       "    </tr>\n",
       "    <tr>\n",
       "      <th>4</th>\n",
       "      <td>0.009550</td>\n",
       "      <td>0.000920</td>\n",
       "      <td>0.049361</td>\n",
       "      <td>0.002531</td>\n",
       "      <td>0.000000</td>\n",
       "      <td>0.001956</td>\n",
       "      <td>0.000000</td>\n",
       "      <td>0.001496</td>\n",
       "      <td>0.059027</td>\n",
       "    </tr>\n",
       "    <tr>\n",
       "      <th>5</th>\n",
       "      <td>0.000160</td>\n",
       "      <td>0.000000</td>\n",
       "      <td>0.001520</td>\n",
       "      <td>0.000120</td>\n",
       "      <td>0.000000</td>\n",
       "      <td>0.000000</td>\n",
       "      <td>0.000000</td>\n",
       "      <td>0.000480</td>\n",
       "      <td>0.002160</td>\n",
       "    </tr>\n",
       "  </tbody>\n",
       "</table>\n",
       "</div>"
      ],
      "text/plain": [
       "    AntiSJW  Conspiracy  PartisanRight  ReligiousConservative  \\\n",
       "0  0.801724    0.146552       0.931034               0.310345   \n",
       "1  0.045977    0.002874       0.218391               0.014368   \n",
       "2  0.030918    0.000966       0.119807               0.005797   \n",
       "3  0.013834    0.000988       0.073452               0.003953   \n",
       "4  0.009550    0.000920       0.049361               0.002531   \n",
       "5  0.000160    0.000000       0.001520               0.000120   \n",
       "\n",
       "   WhiteIdentitarian  Libertarian       MRA  Provocateur     Total  \n",
       "0           0.068966     0.344828  0.103448     0.362069  0.931034  \n",
       "1           0.000000     0.008621  0.002874     0.014368  0.250000  \n",
       "2           0.000000     0.002899  0.000000     0.004831  0.147826  \n",
       "3           0.000000     0.001976  0.000000     0.003623  0.086627  \n",
       "4           0.000000     0.001956  0.000000     0.001496  0.059027  \n",
       "5           0.000000     0.000000  0.000000     0.000480  0.002160  "
      ]
     },
     "execution_count": 9,
     "metadata": {},
     "output_type": "execute_result"
    }
   ],
   "source": [
    "df_right"
   ]
  },
  {
   "cell_type": "markdown",
   "metadata": {
    "pycharm": {
     "name": "#%% md\n"
    }
   },
   "source": [
    "# Left-Wing"
   ]
  },
  {
   "cell_type": "code",
   "execution_count": 10,
   "metadata": {
    "pycharm": {
     "name": "#%%\n"
    }
   },
   "outputs": [
    {
     "name": "stdout",
     "output_type": "stream",
     "text": [
      "Outer: 1/129\n",
      "Outer: 2/129\n"
     ]
    },
    {
     "name": "stderr",
     "output_type": "stream",
     "text": [
      "C:\\Users\\mikad\\anaconda3\\lib\\site-packages\\pandas\\core\\strings\\accessor.py:101: UserWarning: This pattern has match groups. To actually get the groups, use str.extract.\n",
      "  return func(self, *args, **kwargs)\n"
     ]
    },
    {
     "name": "stdout",
     "output_type": "stream",
     "text": [
      "Outer: 3/129\n",
      "Outer: 4/129\n",
      "Outer: 5/129\n",
      "Outer: 6/129\n",
      "Outer: 7/129\n",
      "Outer: 8/129\n",
      "Outer: 9/129\n",
      "Outer: 10/129\n",
      "Outer: 11/129\n",
      "Outer: 12/129\n",
      "Outer: 13/129\n",
      "Outer: 14/129\n",
      "Outer: 15/129\n",
      "Outer: 16/129\n",
      "Outer: 17/129\n",
      "Outer: 18/129\n",
      "Outer: 19/129\n",
      "Outer: 20/129\n",
      "Outer: 21/129\n",
      "Outer: 22/129\n",
      "Outer: 23/129\n",
      "Outer: 24/129\n",
      "Outer: 25/129\n",
      "Outer: 26/129\n",
      "Outer: 27/129\n",
      "Outer: 28/129\n",
      "Outer: 29/129\n",
      "Outer: 30/129\n",
      "Outer: 31/129\n",
      "Outer: 32/129\n",
      "Outer: 33/129\n",
      "Outer: 34/129\n",
      "Outer: 35/129\n",
      "Outer: 36/129\n",
      "Outer: 37/129\n",
      "Outer: 38/129\n",
      "Outer: 39/129\n",
      "Outer: 40/129\n",
      "Outer: 41/129\n",
      "Outer: 42/129\n",
      "Outer: 43/129\n",
      "Outer: 44/129\n",
      "Outer: 45/129\n",
      "Outer: 46/129\n",
      "Outer: 47/129\n",
      "Outer: 48/129\n",
      "Outer: 49/129\n",
      "Outer: 50/129\n",
      "Outer: 51/129\n",
      "Outer: 52/129\n",
      "Outer: 53/129\n",
      "Outer: 54/129\n",
      "Outer: 55/129\n",
      "Outer: 56/129\n",
      "Outer: 57/129\n",
      "Outer: 58/129\n",
      "Outer: 59/129\n",
      "Outer: 60/129\n",
      "Outer: 61/129\n",
      "Outer: 62/129\n",
      "Outer: 63/129\n",
      "Outer: 64/129\n",
      "Outer: 65/129\n",
      "Outer: 66/129\n",
      "Outer: 67/129\n",
      "Outer: 68/129\n",
      "Outer: 69/129\n",
      "Outer: 70/129\n",
      "Outer: 71/129\n",
      "Outer: 72/129\n",
      "Outer: 73/129\n",
      "Outer: 74/129\n",
      "Outer: 75/129\n",
      "Outer: 76/129\n",
      "Outer: 77/129\n",
      "Outer: 78/129\n",
      "Outer: 79/129\n",
      "Outer: 80/129\n",
      "Outer: 81/129\n",
      "Outer: 82/129\n",
      "Outer: 83/129\n",
      "Outer: 84/129\n",
      "Outer: 85/129\n",
      "Outer: 86/129\n",
      "Outer: 87/129\n",
      "Outer: 88/129\n",
      "Outer: 89/129\n",
      "Outer: 90/129\n",
      "Outer: 91/129\n",
      "Outer: 92/129\n",
      "Outer: 93/129\n",
      "Outer: 94/129\n",
      "Outer: 95/129\n",
      "Outer: 96/129\n",
      "Outer: 97/129\n",
      "Outer: 98/129\n",
      "Outer: 99/129\n",
      "Outer: 100/129\n",
      "Outer: 101/129\n",
      "Outer: 102/129\n",
      "Outer: 103/129\n",
      "Outer: 104/129\n",
      "Outer: 105/129\n",
      "Outer: 106/129\n",
      "Outer: 107/129\n",
      "Outer: 108/129\n",
      "Outer: 109/129\n",
      "Outer: 110/129\n",
      "Outer: 111/129\n",
      "Outer: 112/129\n",
      "Outer: 113/129\n",
      "Outer: 114/129\n",
      "Outer: 115/129\n",
      "Outer: 116/129\n",
      "Outer: 117/129\n",
      "Outer: 118/129\n",
      "Outer: 119/129\n",
      "Outer: 120/129\n",
      "Outer: 121/129\n",
      "Outer: 122/129\n",
      "Outer: 123/129\n",
      "Outer: 124/129\n",
      "Outer: 125/129\n",
      "Outer: 126/129\n",
      "Outer: 127/129\n",
      "Outer: 128/129\n",
      "Outer: 129/129\n"
     ]
    }
   ],
   "source": [
    "columns_left = ['SocialJustice', 'Socialist', 'PartisanLeft', 'AntiWhiteness', 'LGBT', 'Total']\n",
    "\n",
    "depth = [i for i in range(0, 6)]\n",
    "df_left = pd.DataFrame(data = ([ 0 for i in columns_left ] for x in range(0, 6)), columns=columns_left)\n",
    "\n",
    "outer = 0\n",
    "\n",
    "for root in left_wing_trees:\n",
    "    outer = outer + 1\n",
    "    #creators[root.node.id] = []\n",
    "    #t.video['content creator']\n",
    "    for t in anytree.LevelOrderIter(root.node):\n",
    "        if not (t.video == None):\n",
    "            if not (t.video['content creator'] == None):\n",
    "\n",
    "                #only looking for the exact name\n",
    "                try:\n",
    "                    if (channels_df['CHANNEL_TITLE'].str.contains('^'+ t.video['content creator'] +'$').sum() > 0):\n",
    "                        # now check what the type of the channels found were\n",
    "                        c = channels_df.loc[channels_df['CHANNEL_TITLE'].str.contains('^'+ t.video['content creator'] +'$', case=False, na=False)]\n",
    "\n",
    "                        bool = False\n",
    "                        for tags in columns_left:\n",
    "                            if (c['REVIEWER_TAGS'].str.contains(tags).sum() > 0) or (c['TAGS'].str.contains(tags).sum() > 0):\n",
    "                                bool = True\n",
    "                                #add a + 1 in the column\n",
    "                                df_left.at[t.depth, tags] = df_left.at[t.depth, tags] + 1\n",
    "                        if bool:\n",
    "                            df_left.at[t.depth, 'Total'] = df_left.at[t.depth, 'Total'] + 1\n",
    "                except:\n",
    "                    continue\n",
    "    print(f'Outer: {outer}/{len(left_wing_trees)}')"
   ]
  },
  {
   "cell_type": "code",
   "execution_count": 11,
   "metadata": {
    "pycharm": {
     "name": "#%%\n"
    }
   },
   "outputs": [],
   "source": [
    "x = [0 for i in range(0, 6)]\n",
    "\n",
    "for t in left_wing_trees:\n",
    "    for nodes in anytree.LevelOrderIter(t.node):\n",
    "        if(nodes.depth < 6):\n",
    "            x[nodes.depth] = x[nodes.depth] + 1\n",
    "\n",
    "for i in range(0, len(x)):\n",
    "    df_left.loc[i] = df_left.loc[i]/x[i]"
   ]
  },
  {
   "cell_type": "code",
   "execution_count": 12,
   "metadata": {},
   "outputs": [
    {
     "data": {
      "text/html": [
       "<style  type=\"text/css\" >\n",
       "</style><table id=\"T_4b3ed_\" ><caption>Results of trees with left-wing seed videos</caption><thead>    <tr>        <th class=\"blank level0\" ></th>        <th class=\"col_heading level0 col0\" >SocialJustice</th>        <th class=\"col_heading level0 col1\" >Socialist</th>        <th class=\"col_heading level0 col2\" >PartisanLeft</th>        <th class=\"col_heading level0 col3\" >AntiWhiteness</th>        <th class=\"col_heading level0 col4\" >LGBT</th>        <th class=\"col_heading level0 col5\" >Total</th>    </tr></thead><tbody>\n",
       "                <tr>\n",
       "                        <th id=\"T_4b3ed_level0_row0\" class=\"row_heading level0 row0\" >0</th>\n",
       "                        <td id=\"T_4b3ed_row0_col0\" class=\"data row0 col0\" >1.000000</td>\n",
       "                        <td id=\"T_4b3ed_row0_col1\" class=\"data row0 col1\" >0.790698</td>\n",
       "                        <td id=\"T_4b3ed_row0_col2\" class=\"data row0 col2\" >0.844961</td>\n",
       "                        <td id=\"T_4b3ed_row0_col3\" class=\"data row0 col3\" >0.000000</td>\n",
       "                        <td id=\"T_4b3ed_row0_col4\" class=\"data row0 col4\" >0.062016</td>\n",
       "                        <td id=\"T_4b3ed_row0_col5\" class=\"data row0 col5\" >1.000000</td>\n",
       "            </tr>\n",
       "            <tr>\n",
       "                        <th id=\"T_4b3ed_level0_row1\" class=\"row_heading level0 row1\" >1</th>\n",
       "                        <td id=\"T_4b3ed_row1_col0\" class=\"data row1 col0\" >0.330749</td>\n",
       "                        <td id=\"T_4b3ed_row1_col1\" class=\"data row1 col1\" >0.149871</td>\n",
       "                        <td id=\"T_4b3ed_row1_col2\" class=\"data row1 col2\" >0.325581</td>\n",
       "                        <td id=\"T_4b3ed_row1_col3\" class=\"data row1 col3\" >0.000000</td>\n",
       "                        <td id=\"T_4b3ed_row1_col4\" class=\"data row1 col4\" >0.023256</td>\n",
       "                        <td id=\"T_4b3ed_row1_col5\" class=\"data row1 col5\" >0.354005</td>\n",
       "            </tr>\n",
       "            <tr>\n",
       "                        <th id=\"T_4b3ed_level0_row2\" class=\"row_heading level0 row2\" >2</th>\n",
       "                        <td id=\"T_4b3ed_row2_col0\" class=\"data row2 col0\" >0.148438</td>\n",
       "                        <td id=\"T_4b3ed_row2_col1\" class=\"data row2 col1\" >0.061632</td>\n",
       "                        <td id=\"T_4b3ed_row2_col2\" class=\"data row2 col2\" >0.158854</td>\n",
       "                        <td id=\"T_4b3ed_row2_col3\" class=\"data row2 col3\" >0.000000</td>\n",
       "                        <td id=\"T_4b3ed_row2_col4\" class=\"data row2 col4\" >0.007812</td>\n",
       "                        <td id=\"T_4b3ed_row2_col5\" class=\"data row2 col5\" >0.176215</td>\n",
       "            </tr>\n",
       "            <tr>\n",
       "                        <th id=\"T_4b3ed_level0_row3\" class=\"row_heading level0 row3\" >3</th>\n",
       "                        <td id=\"T_4b3ed_row3_col0\" class=\"data row3 col0\" >0.081602</td>\n",
       "                        <td id=\"T_4b3ed_row3_col1\" class=\"data row3 col1\" >0.032219</td>\n",
       "                        <td id=\"T_4b3ed_row3_col2\" class=\"data row3 col2\" >0.092743</td>\n",
       "                        <td id=\"T_4b3ed_row3_col3\" class=\"data row3 col3\" >0.000000</td>\n",
       "                        <td id=\"T_4b3ed_row3_col4\" class=\"data row3 col4\" >0.003914</td>\n",
       "                        <td id=\"T_4b3ed_row3_col5\" class=\"data row3 col5\" >0.101174</td>\n",
       "            </tr>\n",
       "            <tr>\n",
       "                        <th id=\"T_4b3ed_level0_row4\" class=\"row_heading level0 row4\" >4</th>\n",
       "                        <td id=\"T_4b3ed_row4_col0\" class=\"data row4 col0\" >0.047320</td>\n",
       "                        <td id=\"T_4b3ed_row4_col1\" class=\"data row4 col1\" >0.013608</td>\n",
       "                        <td id=\"T_4b3ed_row4_col2\" class=\"data row4 col2\" >0.064124</td>\n",
       "                        <td id=\"T_4b3ed_row4_col3\" class=\"data row4 col3\" >0.000000</td>\n",
       "                        <td id=\"T_4b3ed_row4_col4\" class=\"data row4 col4\" >0.001546</td>\n",
       "                        <td id=\"T_4b3ed_row4_col5\" class=\"data row4 col5\" >0.067526</td>\n",
       "            </tr>\n",
       "            <tr>\n",
       "                        <th id=\"T_4b3ed_level0_row5\" class=\"row_heading level0 row5\" >5</th>\n",
       "                        <td id=\"T_4b3ed_row5_col0\" class=\"data row5 col0\" >0.006532</td>\n",
       "                        <td id=\"T_4b3ed_row5_col1\" class=\"data row5 col1\" >0.001095</td>\n",
       "                        <td id=\"T_4b3ed_row5_col2\" class=\"data row5 col2\" >0.007556</td>\n",
       "                        <td id=\"T_4b3ed_row5_col3\" class=\"data row5 col3\" >0.000000</td>\n",
       "                        <td id=\"T_4b3ed_row5_col4\" class=\"data row5 col4\" >0.000071</td>\n",
       "                        <td id=\"T_4b3ed_row5_col5\" class=\"data row5 col5\" >0.007662</td>\n",
       "            </tr>\n",
       "    </tbody></table>"
      ],
      "text/plain": [
       "<pandas.io.formats.style.Styler at 0x2056814e100>"
      ]
     },
     "execution_count": 12,
     "metadata": {},
     "output_type": "execute_result"
    }
   ],
   "source": [
    "df_left.style.set_caption(\"Results of trees with left-wing seed videos\")\n"
   ]
  },
  {
   "cell_type": "code",
   "execution_count": 13,
   "metadata": {},
   "outputs": [
    {
     "data": {
      "text/html": [
       "<style  type=\"text/css\" >\n",
       "</style><table id=\"T_7442a_\" ><caption>Results of trees with right-wing seed videos</caption><thead>    <tr>        <th class=\"blank level0\" ></th>        <th class=\"col_heading level0 col0\" >AntiSJW</th>        <th class=\"col_heading level0 col1\" >Conspiracy</th>        <th class=\"col_heading level0 col2\" >PartisanRight</th>        <th class=\"col_heading level0 col3\" >ReligiousConservative</th>        <th class=\"col_heading level0 col4\" >WhiteIdentitarian</th>        <th class=\"col_heading level0 col5\" >Libertarian</th>        <th class=\"col_heading level0 col6\" >MRA</th>        <th class=\"col_heading level0 col7\" >Provocateur</th>        <th class=\"col_heading level0 col8\" >Total</th>    </tr></thead><tbody>\n",
       "                <tr>\n",
       "                        <th id=\"T_7442a_level0_row0\" class=\"row_heading level0 row0\" >0</th>\n",
       "                        <td id=\"T_7442a_row0_col0\" class=\"data row0 col0\" >0.801724</td>\n",
       "                        <td id=\"T_7442a_row0_col1\" class=\"data row0 col1\" >0.146552</td>\n",
       "                        <td id=\"T_7442a_row0_col2\" class=\"data row0 col2\" >0.931034</td>\n",
       "                        <td id=\"T_7442a_row0_col3\" class=\"data row0 col3\" >0.310345</td>\n",
       "                        <td id=\"T_7442a_row0_col4\" class=\"data row0 col4\" >0.068966</td>\n",
       "                        <td id=\"T_7442a_row0_col5\" class=\"data row0 col5\" >0.344828</td>\n",
       "                        <td id=\"T_7442a_row0_col6\" class=\"data row0 col6\" >0.103448</td>\n",
       "                        <td id=\"T_7442a_row0_col7\" class=\"data row0 col7\" >0.362069</td>\n",
       "                        <td id=\"T_7442a_row0_col8\" class=\"data row0 col8\" >0.931034</td>\n",
       "            </tr>\n",
       "            <tr>\n",
       "                        <th id=\"T_7442a_level0_row1\" class=\"row_heading level0 row1\" >1</th>\n",
       "                        <td id=\"T_7442a_row1_col0\" class=\"data row1 col0\" >0.045977</td>\n",
       "                        <td id=\"T_7442a_row1_col1\" class=\"data row1 col1\" >0.002874</td>\n",
       "                        <td id=\"T_7442a_row1_col2\" class=\"data row1 col2\" >0.218391</td>\n",
       "                        <td id=\"T_7442a_row1_col3\" class=\"data row1 col3\" >0.014368</td>\n",
       "                        <td id=\"T_7442a_row1_col4\" class=\"data row1 col4\" >0.000000</td>\n",
       "                        <td id=\"T_7442a_row1_col5\" class=\"data row1 col5\" >0.008621</td>\n",
       "                        <td id=\"T_7442a_row1_col6\" class=\"data row1 col6\" >0.002874</td>\n",
       "                        <td id=\"T_7442a_row1_col7\" class=\"data row1 col7\" >0.014368</td>\n",
       "                        <td id=\"T_7442a_row1_col8\" class=\"data row1 col8\" >0.250000</td>\n",
       "            </tr>\n",
       "            <tr>\n",
       "                        <th id=\"T_7442a_level0_row2\" class=\"row_heading level0 row2\" >2</th>\n",
       "                        <td id=\"T_7442a_row2_col0\" class=\"data row2 col0\" >0.030918</td>\n",
       "                        <td id=\"T_7442a_row2_col1\" class=\"data row2 col1\" >0.000966</td>\n",
       "                        <td id=\"T_7442a_row2_col2\" class=\"data row2 col2\" >0.119807</td>\n",
       "                        <td id=\"T_7442a_row2_col3\" class=\"data row2 col3\" >0.005797</td>\n",
       "                        <td id=\"T_7442a_row2_col4\" class=\"data row2 col4\" >0.000000</td>\n",
       "                        <td id=\"T_7442a_row2_col5\" class=\"data row2 col5\" >0.002899</td>\n",
       "                        <td id=\"T_7442a_row2_col6\" class=\"data row2 col6\" >0.000000</td>\n",
       "                        <td id=\"T_7442a_row2_col7\" class=\"data row2 col7\" >0.004831</td>\n",
       "                        <td id=\"T_7442a_row2_col8\" class=\"data row2 col8\" >0.147826</td>\n",
       "            </tr>\n",
       "            <tr>\n",
       "                        <th id=\"T_7442a_level0_row3\" class=\"row_heading level0 row3\" >3</th>\n",
       "                        <td id=\"T_7442a_row3_col0\" class=\"data row3 col0\" >0.013834</td>\n",
       "                        <td id=\"T_7442a_row3_col1\" class=\"data row3 col1\" >0.000988</td>\n",
       "                        <td id=\"T_7442a_row3_col2\" class=\"data row3 col2\" >0.073452</td>\n",
       "                        <td id=\"T_7442a_row3_col3\" class=\"data row3 col3\" >0.003953</td>\n",
       "                        <td id=\"T_7442a_row3_col4\" class=\"data row3 col4\" >0.000000</td>\n",
       "                        <td id=\"T_7442a_row3_col5\" class=\"data row3 col5\" >0.001976</td>\n",
       "                        <td id=\"T_7442a_row3_col6\" class=\"data row3 col6\" >0.000000</td>\n",
       "                        <td id=\"T_7442a_row3_col7\" class=\"data row3 col7\" >0.003623</td>\n",
       "                        <td id=\"T_7442a_row3_col8\" class=\"data row3 col8\" >0.086627</td>\n",
       "            </tr>\n",
       "            <tr>\n",
       "                        <th id=\"T_7442a_level0_row4\" class=\"row_heading level0 row4\" >4</th>\n",
       "                        <td id=\"T_7442a_row4_col0\" class=\"data row4 col0\" >0.009550</td>\n",
       "                        <td id=\"T_7442a_row4_col1\" class=\"data row4 col1\" >0.000920</td>\n",
       "                        <td id=\"T_7442a_row4_col2\" class=\"data row4 col2\" >0.049361</td>\n",
       "                        <td id=\"T_7442a_row4_col3\" class=\"data row4 col3\" >0.002531</td>\n",
       "                        <td id=\"T_7442a_row4_col4\" class=\"data row4 col4\" >0.000000</td>\n",
       "                        <td id=\"T_7442a_row4_col5\" class=\"data row4 col5\" >0.001956</td>\n",
       "                        <td id=\"T_7442a_row4_col6\" class=\"data row4 col6\" >0.000000</td>\n",
       "                        <td id=\"T_7442a_row4_col7\" class=\"data row4 col7\" >0.001496</td>\n",
       "                        <td id=\"T_7442a_row4_col8\" class=\"data row4 col8\" >0.059027</td>\n",
       "            </tr>\n",
       "            <tr>\n",
       "                        <th id=\"T_7442a_level0_row5\" class=\"row_heading level0 row5\" >5</th>\n",
       "                        <td id=\"T_7442a_row5_col0\" class=\"data row5 col0\" >0.000160</td>\n",
       "                        <td id=\"T_7442a_row5_col1\" class=\"data row5 col1\" >0.000000</td>\n",
       "                        <td id=\"T_7442a_row5_col2\" class=\"data row5 col2\" >0.001520</td>\n",
       "                        <td id=\"T_7442a_row5_col3\" class=\"data row5 col3\" >0.000120</td>\n",
       "                        <td id=\"T_7442a_row5_col4\" class=\"data row5 col4\" >0.000000</td>\n",
       "                        <td id=\"T_7442a_row5_col5\" class=\"data row5 col5\" >0.000000</td>\n",
       "                        <td id=\"T_7442a_row5_col6\" class=\"data row5 col6\" >0.000000</td>\n",
       "                        <td id=\"T_7442a_row5_col7\" class=\"data row5 col7\" >0.000480</td>\n",
       "                        <td id=\"T_7442a_row5_col8\" class=\"data row5 col8\" >0.002160</td>\n",
       "            </tr>\n",
       "    </tbody></table>"
      ],
      "text/plain": [
       "<pandas.io.formats.style.Styler at 0x2056814ebe0>"
      ]
     },
     "execution_count": 13,
     "metadata": {},
     "output_type": "execute_result"
    }
   ],
   "source": [
    "df_right.style.set_caption(\"Results of trees with right-wing seed videos\")\n"
   ]
  },
  {
   "cell_type": "code",
   "execution_count": 18,
   "metadata": {},
   "outputs": [],
   "source": [
    "dfi.export(df_left,\"df_left.png\")"
   ]
  },
  {
   "cell_type": "markdown",
   "metadata": {
    "pycharm": {
     "name": "#%% md\n"
    }
   },
   "source": [
    "# Isolating AntiSJW"
   ]
  },
  {
   "cell_type": "code",
   "execution_count": 14,
   "metadata": {
    "pycharm": {
     "name": "#%%\n"
    }
   },
   "outputs": [],
   "source": [
    "anti_SJW = []\n",
    "\n",
    "for r in right_wing_trees:\n",
    "    if (channels_df.loc[channels_df['CHANNEL_TITLE'].str.contains('^'+ r.node.video['content creator'] +'$', case=False, na=False)]['REVIEWER_TAGS'].str.contains('AntiSJW').sum() > 0):\n",
    "        anti_SJW.append(r)"
   ]
  },
  {
   "cell_type": "code",
   "execution_count": 15,
   "metadata": {
    "pycharm": {
     "name": "#%%\n"
    }
   },
   "outputs": [
    {
     "name": "stdout",
     "output_type": "stream",
     "text": [
      "Outer: 1/93\n",
      "Outer: 2/93\n",
      "Outer: 3/93\n",
      "Outer: 4/93\n",
      "Outer: 5/93\n",
      "Outer: 6/93\n",
      "Outer: 7/93\n",
      "Outer: 8/93\n",
      "Outer: 9/93\n",
      "Outer: 10/93\n",
      "Outer: 11/93\n",
      "Outer: 12/93\n",
      "Outer: 13/93\n",
      "Outer: 14/93\n",
      "Outer: 15/93\n",
      "Outer: 16/93\n",
      "Outer: 17/93\n",
      "Outer: 18/93\n",
      "Outer: 19/93\n",
      "Outer: 20/93\n",
      "Outer: 21/93\n",
      "Outer: 22/93\n",
      "Outer: 23/93\n",
      "Outer: 24/93\n",
      "Outer: 25/93\n",
      "Outer: 26/93\n",
      "Outer: 27/93\n",
      "Outer: 28/93\n",
      "Outer: 29/93\n",
      "Outer: 30/93\n",
      "Outer: 31/93\n",
      "Outer: 32/93\n",
      "Outer: 33/93\n",
      "Outer: 34/93\n",
      "Outer: 35/93\n",
      "Outer: 36/93\n",
      "Outer: 37/93\n",
      "Outer: 38/93\n",
      "Outer: 39/93\n",
      "Outer: 40/93\n",
      "Outer: 41/93\n",
      "Outer: 42/93\n",
      "Outer: 43/93\n",
      "Outer: 44/93\n",
      "Outer: 45/93\n",
      "Outer: 46/93\n",
      "Outer: 47/93\n",
      "Outer: 48/93\n",
      "Outer: 49/93\n",
      "Outer: 50/93\n",
      "Outer: 51/93\n",
      "Outer: 52/93\n",
      "Outer: 53/93\n",
      "Outer: 54/93\n",
      "Outer: 55/93\n",
      "Outer: 56/93\n",
      "Outer: 57/93\n",
      "Outer: 58/93\n",
      "Outer: 59/93\n",
      "Outer: 60/93\n",
      "Outer: 61/93\n",
      "Outer: 62/93\n",
      "Outer: 63/93\n",
      "Outer: 64/93\n",
      "Outer: 65/93\n",
      "Outer: 66/93\n",
      "Outer: 67/93\n",
      "Outer: 68/93\n",
      "Outer: 69/93\n",
      "Outer: 70/93\n",
      "Outer: 71/93\n",
      "Outer: 72/93\n",
      "Outer: 73/93\n",
      "Outer: 74/93\n",
      "Outer: 75/93\n",
      "Outer: 76/93\n",
      "Outer: 77/93\n",
      "Outer: 78/93\n",
      "Outer: 79/93\n",
      "Outer: 80/93\n",
      "Outer: 81/93\n",
      "Outer: 82/93\n",
      "Outer: 83/93\n",
      "Outer: 84/93\n",
      "Outer: 85/93\n",
      "Outer: 86/93\n",
      "Outer: 87/93\n",
      "Outer: 88/93\n",
      "Outer: 89/93\n",
      "Outer: 90/93\n",
      "Outer: 91/93\n",
      "Outer: 92/93\n",
      "Outer: 93/93\n"
     ]
    }
   ],
   "source": [
    "df_antiSJW = [0 for i in range(0, 6)]\n",
    "outer = 0\n",
    "\n",
    "for root in anti_SJW:\n",
    "    outer = outer + 1\n",
    "\n",
    "    for t in anytree.LevelOrderIter(root.node):\n",
    "        if not (t.video == None):\n",
    "            if not (t.video['content creator'] == None):\n",
    "                #only looking for the exact name\n",
    "                if (channels_df['CHANNEL_TITLE'].str.contains('^'+ t.video['content creator'] +'$').sum() > 0):\n",
    "                    # now check what the type of the channels found were\n",
    "                    c = channels_df.loc[channels_df['CHANNEL_TITLE'].str.contains('^'+ t.video['content creator'] +'$', case=False, na=False)]\n",
    "\n",
    "                    if (c['REVIEWER_TAGS'].str.contains('AntiSJW').sum() > 0) or (c['TAGS'].str.contains('AntiSJW').sum() > 0):\n",
    "                            bool = True\n",
    "                            #add a + 1 in the column\n",
    "                            df_antiSJW[t.depth] = df_antiSJW[t.depth] + 1\n",
    "    print(f'Outer: {outer}/{len(anti_SJW)}')"
   ]
  },
  {
   "cell_type": "code",
   "execution_count": 16,
   "metadata": {
    "pycharm": {
     "name": "#%%\n"
    }
   },
   "outputs": [],
   "source": [
    "y = [0 for i in range(0, 6)]\n",
    "\n",
    "for t in anti_SJW:\n",
    "    for nodes in anytree.LevelOrderIter(t.node):\n",
    "        if(nodes.depth < 6):\n",
    "            y[nodes.depth] = y[nodes.depth] + 1\n",
    "\n",
    "for i in range(0, len(y)):\n",
    "    df_antiSJW[i] = df_antiSJW[i]/y[i]"
   ]
  },
  {
   "cell_type": "code",
   "execution_count": 17,
   "metadata": {
    "pycharm": {
     "name": "#%%\n"
    }
   },
   "outputs": [
    {
     "name": "stdout",
     "output_type": "stream",
     "text": [
      "[1.0, 0.053763440860215055, 0.035024154589371984, 0.013991769547325103, 0.010079193664506839, 0.00020032051282051281]\n"
     ]
    }
   ],
   "source": [
    "print(df_antiSJW)"
   ]
  },
  {
   "cell_type": "code",
   "execution_count": 35,
   "metadata": {},
   "outputs": [],
   "source": [
    "list_1 = []\n",
    "\n",
    "for t in range(0, len(left_wing_trees)):\n",
    "    if(t == 64):\n",
    "        break\n",
    "    i = left_wing_trees[t]\n",
    "    list_1.append([i.node.video['title'], i.node.video['content creator']])\n",
    "    \n",
    "df_list_left_1 = pd.DataFrame(data=list_1, columns=['Title', 'Content Creator'])"
   ]
  },
  {
   "cell_type": "code",
   "execution_count": 36,
   "metadata": {},
   "outputs": [],
   "source": [
    "list_2 = []\n",
    "\n",
    "for t in range(64, len(left_wing_trees)):\n",
    "\n",
    "    i = left_wing_trees[t]\n",
    "    list_2.append([i.node.video['title'], i.node.video['content creator']])\n",
    "    \n",
    "df_list_left_2 = pd.DataFrame(data=list_2, columns=['Title', 'Content Creator'])"
   ]
  },
  {
   "cell_type": "code",
   "execution_count": 38,
   "metadata": {},
   "outputs": [],
   "source": [
    "dfi.export(df_list_left_1,\"D:\\Data Science\\Comp_396\\Project\\df_list_left_1.png\", max_rows=-1)\n",
    "\n",
    "dfi.export(df_list_left,\"D:\\Data Science\\Comp_396\\Project\\df_list_left_2.png\", max_rows=-1)"
   ]
  },
  {
   "cell_type": "code",
   "execution_count": null,
   "metadata": {},
   "outputs": [],
   "source": []
  }
 ],
 "metadata": {
  "kernelspec": {
   "display_name": "Python 3",
   "language": "python",
   "name": "python3"
  },
  "language_info": {
   "codemirror_mode": {
    "name": "ipython",
    "version": 3
   },
   "file_extension": ".py",
   "mimetype": "text/x-python",
   "name": "python",
   "nbconvert_exporter": "python",
   "pygments_lexer": "ipython3",
   "version": "3.8.8"
  }
 },
 "nbformat": 4,
 "nbformat_minor": 1
}