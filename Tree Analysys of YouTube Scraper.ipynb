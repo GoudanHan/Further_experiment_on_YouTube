{
 "cells": [
  {
   "cell_type": "code",
   "execution_count": 1,
   "metadata": {
    "collapsed": true
   },
   "outputs": [],
   "source": [
    "import pandas as pd\n",
    "from anytree import Node, AnyNode, NodeMixin,RenderTree, AbstractStyle, ContStyle\n",
    "from anytree.exporter import JsonExporter\n",
    "from anytree.importer import JsonImporter\n",
    "import anytree\n",
    "import json"
   ]
  },
  {
   "cell_type": "code",
   "execution_count": 2,
   "outputs": [],
   "source": [
    "importer = JsonImporter()\n",
    "\n",
    "with open('Scraper_Json.txt') as f:\n",
    "    data = f.read()\n",
    "    root = importer.import_(data)\n"
   ],
   "metadata": {
    "collapsed": false,
    "pycharm": {
     "name": "#%%\n"
    }
   }
  },
  {
   "cell_type": "code",
   "execution_count": 3,
   "outputs": [],
   "source": [
    "#let's do some easy analysis\n",
    "creators = []\n",
    "\n",
    "for i in anytree.LevelOrderIter(root):\n",
    "    if(i.video != None):\n",
    "        creators.append(i.video['content creator'])\n",
    "    else:\n",
    "        continue\n"
   ],
   "metadata": {
    "collapsed": false,
    "pycharm": {
     "name": "#%%\n"
    }
   }
  },
  {
   "cell_type": "code",
   "execution_count": 4,
   "outputs": [
    {
     "name": "stdout",
     "output_type": "stream",
     "text": [
      "Cafe Music BGM channel                     23\n",
      "DW Documentary                              8\n",
      "Better World Media                          8\n",
      "Jazz and Blues Experience                   7\n",
      "Shin Giwon Piano                            7\n",
      "有吉の壁【公式】壁チャンネル                              5\n",
      "ThePrint                                    4\n",
      "SAM THE COOKING GUY                         3\n",
      "India Today                                 3\n",
      "Julius Manihuruk                            2\n",
      "The Fast Lane Truck                         2\n",
      "BBC News                                    2\n",
      "Yahoo Finance                               2\n",
      "Bloomberg Quicktake                         2\n",
      "Sic Santos                                  2\n",
      "かまいたちチャンネル                                  2\n",
      "BGM channel                                 2\n",
      "Chef Jean-Pierre                            2\n",
      "なつめ先生                                       1\n",
      "Melvin P. Plaster                           1\n",
      "Delight                                     1\n",
      "TFLtalk                                     1\n",
      "9 News Australia                            1\n",
      "Halal Food Travel Guy                       1\n",
      "maneco64                                    1\n",
      "Best Music Compilation                      1\n",
      "Michael Bublé                               1\n",
      "Matthew Stratton                            1\n",
      "Happy with music                            1\n",
      "Soothing Relaxation                         1\n",
      "Real Coffee with Scott Adams                1\n",
      "癒しの森 - Relaxing Music                       1\n",
      "Alessio Rastani                             1\n",
      "The Infographics Show                       1\n",
      "The Fraser Institute                        1\n",
      "N&T Party                                   1\n",
      "Tropical House Radio                        1\n",
      "Damballah Studio                            1\n",
      "Fox News                                    1\n",
      "Hindustan Times                             1\n",
      "eglintinephotographs                        1\n",
      "Relax Cafe Music                            1\n",
      "musicTap                                    1\n",
      "David Dean Burkhart                         1\n",
      "Arm._.music001                              1\n",
      "Little Love Jazz                            1\n",
      "Musictag                                    1\n",
      "imok                                        1\n",
      "Satoshi Stacker                             1\n",
      "CNBC Television                             1\n",
      "Acoustic Songs Collection HD                1\n",
      "RELAX - 寝かしつけ 音楽                            1\n",
      "Jason Stephenson - Chakra Healing Music     1\n",
      "The Late Show with Stephen Colbert          1\n",
      "Mario K Project                             1\n",
      "dtype: int64\n"
     ]
    }
   ],
   "source": [
    "creators = pd.Series(creators)\n",
    "print((creators.value_counts(sort=True)))"
   ],
   "metadata": {
    "collapsed": false,
    "pycharm": {
     "name": "#%%\n"
    }
   }
  }
 ],
 "metadata": {
  "kernelspec": {
   "display_name": "Python 3",
   "language": "python",
   "name": "python3"
  },
  "language_info": {
   "codemirror_mode": {
    "name": "ipython",
    "version": 2
   },
   "file_extension": ".py",
   "mimetype": "text/x-python",
   "name": "python",
   "nbconvert_exporter": "python",
   "pygments_lexer": "ipython2",
   "version": "2.7.6"
  }
 },
 "nbformat": 4,
 "nbformat_minor": 0
}