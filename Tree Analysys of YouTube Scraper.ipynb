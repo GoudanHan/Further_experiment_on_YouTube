{
 "cells": [
  {
   "cell_type": "code",
   "execution_count": 1,
   "metadata": {
    "collapsed": true
   },
   "outputs": [],
   "source": [
    "import pandas as pd\n",
    "from anytree import Node, AnyNode, NodeMixin,RenderTree, AbstractStyle, ContStyle\n",
    "from anytree.exporter import JsonExporter\n",
    "from anytree.importer import JsonImporter\n",
    "import anytree\n",
    "import json"
   ]
  },
  {
   "cell_type": "code",
   "execution_count": 3,
   "outputs": [],
   "source": [
    "importer = JsonImporter()\n",
    "\n",
    "with open(\"C:\\\\Users\\\\mikad\\\\PycharmProjects\\\\Comp_396_YouTube_Radicalization\\\\tree_results\\\\tree_json_5cIvH-iZZfA_mika_razer_blade_2018_1_reco-3_depth-5_Conservative_YouTube.txt\") as f:\n",
    "    data = f.read()\n",
    "    root = importer.import_(data)\n"
   ],
   "metadata": {
    "collapsed": false,
    "pycharm": {
     "name": "#%%\n"
    }
   }
  },
  {
   "cell_type": "code",
   "execution_count": 6,
   "outputs": [],
   "source": [
    "#let's do some easy analysis\n",
    "creators = []\n",
    "\n",
    "for i in anytree.LevelOrderIter(root):\n",
    "    if(i.video != None):\n",
    "        creators.append(i.id)\n",
    "    else:\n",
    "        continue\n"
   ],
   "metadata": {
    "collapsed": false,
    "pycharm": {
     "name": "#%%\n"
    }
   }
  },
  {
   "cell_type": "code",
   "execution_count": 9,
   "outputs": [
    {
     "name": "stdout",
     "output_type": "stream",
     "text": [
      "https://www.youtube.com/watch?v=KxGPe1jD-qY           6\n",
      "https://www.youtube.com/watch?v=TmNSlF7lcaw           4\n",
      "https://www.youtube.com/watch?v=jey_CzIOfYE           3\n",
      "https://www.youtube.com/watch?v=maAepWFvb0g&t=336s    3\n",
      "https://www.youtube.com/watch?v=Q-C9mPu7r_4           2\n",
      "                                                     ..\n",
      "https://www.youtube.com/watch?v=zqtie0-BBj4           1\n",
      "https://www.youtube.com/watch?v=LnJwH_PZXnM           1\n",
      "https://www.youtube.com/watch?v=hKUffHXOb8U           1\n",
      "https://www.youtube.com/watch?v=MfTv8dwGpwI           1\n",
      "https://www.youtube.com/watch?v=MNjYSns0op0           1\n",
      "Length: 74, dtype: int64\n"
     ]
    }
   ],
   "source": [
    "creators = pd.Series(creators)\n",
    "print((creators.value_counts(sort=True)))"
   ],
   "metadata": {
    "collapsed": false,
    "pycharm": {
     "name": "#%%\n"
    }
   }
  },
  {
   "cell_type": "code",
   "execution_count": 22,
   "outputs": [
    {
     "name": "stdout",
     "output_type": "stream",
     "text": [
      "[('FEMINISM VS LOGIC (OWNED COMPILATION) #2', 0), ('Jordan Peterson on Gender, Patriarchy and the Slide Towards Tyranny', 1), ('Dr. Jordan B Peterson on Femsplainers', 2), ('LEADERSHIP LAB: The Craft of Writing Effectively', 3)]\n",
      "[('FEMINISM VS LOGIC (OWNED COMPILATION) #2', 0), ('Jordan Peterson on Gender, Patriarchy and the Slide Towards Tyranny', 1), ('Jordan B Peterson on masculinity and the plight of young men | BBC Sounds', 2), ('Jordan Peterson: From the Barricades of the Culture Wars', 3)]\n",
      "[('FEMINISM VS LOGIC (OWNED COMPILATION) #2', 0), ('Jordan Peterson on Gender, Patriarchy and the Slide Towards Tyranny', 1), ('Jordan B Peterson on masculinity and the plight of young men | BBC Sounds', 2), ('Jordan Peterson Destroys Q&A | 25 February 2019', 3)]\n",
      "[('FEMINISM VS LOGIC (OWNED COMPILATION) #2', 0), ('Jordan Peterson debate on the gender pay gap, campus protests and postmodernism', 1), ('Jordan B. Peterson on 12 Rules for Life', 2), (\"Jordan Peterson's Life Advice Will Change Your Future (MUST WATCH)\", 3)]\n",
      "[('FEMINISM VS LOGIC (OWNED COMPILATION) #2', 0), ('Jordan Peterson debate on the gender pay gap, campus protests and postmodernism', 1), ('Jordan B. Peterson | Full interview | SVT/TV 2/Skavlan', 2), ('Jordan Peterson Destroys Q&A | 25 February 2019', 3)]\n",
      "[('FEMINISM VS LOGIC (OWNED COMPILATION) #2', 0), ('Jordan Peterson debate on the gender pay gap, campus protests and postmodernism', 1), ('Jordan Peterson: “There was plenty of motivation to take me out. It just didn\\'t work\" | British GQ', 2), ('Jordan Peterson Destroys Q&A | 25 February 2019', 3)]\n",
      "--------------\n",
      "[('FEMINISM VS LOGIC (OWNED COMPILATION) #2', 0), ('Jordan Peterson on Gender, Patriarchy and the Slide Towards Tyranny', 1), ('Dr. Jordan B Peterson on Femsplainers', 2)]\n",
      "[('FEMINISM VS LOGIC (OWNED COMPILATION) #2', 0), ('Jordan Peterson on Gender, Patriarchy and the Slide Towards Tyranny', 1), ('Jordan B Peterson on masculinity and the plight of young men | BBC Sounds', 2)]\n",
      "[('FEMINISM VS LOGIC (OWNED COMPILATION) #2', 0), ('Jordan Peterson debate on the gender pay gap, campus protests and postmodernism', 1), ('Jordan B. Peterson | Full interview | SVT/TV 2/Skavlan', 2)]\n",
      "[('FEMINISM VS LOGIC (OWNED COMPILATION) #2', 0), ('Jordan Peterson debate on the gender pay gap, campus protests and postmodernism', 1), ('Jordan Peterson: “There was plenty of motivation to take me out. It just didn\\'t work\" | British GQ', 2)]\n",
      "--------------\n",
      "[('FEMINISM VS LOGIC (OWNED COMPILATION) #2', 0), ('Jordan Peterson debate on the gender pay gap, campus protests and postmodernism', 1), ('Jordan B. Peterson | Full interview | SVT/TV 2/Skavlan', 2)]\n",
      "[('FEMINISM VS LOGIC (OWNED COMPILATION) #2', 0), ('Jordan Peterson debate on the gender pay gap, campus protests and postmodernism', 1), ('Jordan Peterson: “There was plenty of motivation to take me out. It just didn\\'t work\" | British GQ', 2)]\n",
      "[('FEMINISM VS LOGIC (OWNED COMPILATION) #2', 0), ('Women Can Make Anything An Insult. K-Von - Full Special', 1), ('Jordan Peterson: “There was plenty of motivation to take me out. It just didn\\'t work\" | British GQ', 2)]\n",
      "--------------\n",
      "[('FEMINISM VS LOGIC (OWNED COMPILATION) #2', 0), ('Jordan Peterson on Gender, Patriarchy and the Slide Towards Tyranny', 1), ('Jordan B Peterson on masculinity and the plight of young men | BBC Sounds', 2), ('Jordan Peterson Destroys Q&A | 25 February 2019', 3)]\n",
      "[('FEMINISM VS LOGIC (OWNED COMPILATION) #2', 0), ('Jordan Peterson debate on the gender pay gap, campus protests and postmodernism', 1), ('Jordan B. Peterson | Full interview | SVT/TV 2/Skavlan', 2), ('Jordan Peterson Destroys Q&A | 25 February 2019', 3)]\n",
      "[('FEMINISM VS LOGIC (OWNED COMPILATION) #2', 0), ('Jordan Peterson debate on the gender pay gap, campus protests and postmodernism', 1), ('Jordan Peterson: “There was plenty of motivation to take me out. It just didn\\'t work\" | British GQ', 2), ('Jordan Peterson Destroys Q&A | 25 February 2019', 3)]\n",
      "--------------\n",
      "[('FEMINISM VS LOGIC (OWNED COMPILATION) #2', 0), ('Jordan Peterson on Gender, Patriarchy and the Slide Towards Tyranny', 1), ('Jordan B. Peterson on 12 Rules for Life', 2), ('Jordan Peterson | Full Address and Q&A | Oxford Union', 3)]\n",
      "[('FEMINISM VS LOGIC (OWNED COMPILATION) #2', 0), ('Jordan Peterson debate on the gender pay gap, campus protests and postmodernism', 1), ('Jordan Peterson: “There was plenty of motivation to take me out. It just didn\\'t work\" | British GQ', 2), ('Sam Harris & Jordan Peterson in Vancouver - Part 1 - Presented by Pangburn (CC: Arabic & Spanish)', 3)]\n",
      "--------------\n",
      "[('FEMINISM VS LOGIC (OWNED COMPILATION) #2', 0), ('Jordan Peterson on Gender, Patriarchy and the Slide Towards Tyranny', 1)]\n",
      "[('FEMINISM VS LOGIC (OWNED COMPILATION) #2', 0), ('Jordan Peterson debate on the gender pay gap, campus protests and postmodernism', 1)]\n",
      "--------------\n",
      "[('FEMINISM VS LOGIC (OWNED COMPILATION) #2', 0), ('Jordan Peterson on Gender, Patriarchy and the Slide Towards Tyranny', 1), ('Dr. Jordan B Peterson on Femsplainers', 2)]\n",
      "[('FEMINISM VS LOGIC (OWNED COMPILATION) #2', 0), ('Jordan Peterson on Gender, Patriarchy and the Slide Towards Tyranny', 1), ('Jordan B Peterson on masculinity and the plight of young men | BBC Sounds', 2)]\n",
      "--------------\n",
      "[('FEMINISM VS LOGIC (OWNED COMPILATION) #2', 0), ('Jordan Peterson debate on the gender pay gap, campus protests and postmodernism', 1)]\n",
      "[('FEMINISM VS LOGIC (OWNED COMPILATION) #2', 0), ('Women Can Make Anything An Insult. K-Von - Full Special', 1)]\n",
      "--------------\n",
      "[('FEMINISM VS LOGIC (OWNED COMPILATION) #2', 0), ('Jordan Peterson debate on the gender pay gap, campus protests and postmodernism', 1), ('Jordan B. Peterson | Full interview | SVT/TV 2/Skavlan', 2), ('Jordan Peterson Destroys Q&A | 25 February 2019', 3)]\n",
      "[('FEMINISM VS LOGIC (OWNED COMPILATION) #2', 0), ('Jordan Peterson debate on the gender pay gap, campus protests and postmodernism', 1), ('Jordan Peterson: “There was plenty of motivation to take me out. It just didn\\'t work\" | British GQ', 2), ('Jordan Peterson Destroys Q&A | 25 February 2019', 3)]\n",
      "--------------\n",
      "[('FEMINISM VS LOGIC (OWNED COMPILATION) #2', 0), ('Jordan Peterson debate on the gender pay gap, campus protests and postmodernism', 1), ('Jordan Peterson: “There was plenty of motivation to take me out. It just didn\\'t work\" | British GQ', 2)]\n",
      "[('FEMINISM VS LOGIC (OWNED COMPILATION) #2', 0), ('Women Can Make Anything An Insult. K-Von - Full Special', 1), ('Jordan Peterson: “There was plenty of motivation to take me out. It just didn\\'t work\" | British GQ', 2)]\n",
      "--------------\n",
      "[('FEMINISM VS LOGIC (OWNED COMPILATION) #2', 0), ('Jordan Peterson on Gender, Patriarchy and the Slide Towards Tyranny', 1), ('Dr. Jordan B Peterson on Femsplainers', 2), ('LEADERSHIP LAB: The Craft of Writing Effectively', 3)]\n",
      "[('FEMINISM VS LOGIC (OWNED COMPILATION) #2', 0), ('Jordan Peterson on Gender, Patriarchy and the Slide Towards Tyranny', 1), ('Jordan B Peterson on masculinity and the plight of young men | BBC Sounds', 2), ('LEADERSHIP LAB: The Craft of Writing Effectively', 3)]\n",
      "--------------\n",
      "[('FEMINISM VS LOGIC (OWNED COMPILATION) #2', 0), ('Jordan Peterson on Gender, Patriarchy and the Slide Towards Tyranny', 1), ('Jordan B. Peterson on 12 Rules for Life', 2)]\n",
      "[('FEMINISM VS LOGIC (OWNED COMPILATION) #2', 0), ('Jordan Peterson debate on the gender pay gap, campus protests and postmodernism', 1), ('Jordan B. Peterson on 12 Rules for Life', 2)]\n",
      "--------------\n",
      "[('FEMINISM VS LOGIC (OWNED COMPILATION) #2', 0), ('Jordan Peterson debate on the gender pay gap, campus protests and postmodernism', 1), ('Jordan Peterson: “There was plenty of motivation to take me out. It just didn\\'t work\" | British GQ', 2), ('Sam Harris & Jordan Peterson in Vancouver - Part 1 - Presented by Pangburn (CC: Arabic & Spanish)', 3)]\n",
      "[('FEMINISM VS LOGIC (OWNED COMPILATION) #2', 0), ('Women Can Make Anything An Insult. K-Von - Full Special', 1), ('Jordan Peterson: “There was plenty of motivation to take me out. It just didn\\'t work\" | British GQ', 2), ('Sam Harris & Jordan Peterson in Vancouver - Part 1 - Presented by Pangburn (CC: Arabic & Spanish)', 3)]\n",
      "--------------\n",
      "[('FEMINISM VS LOGIC (OWNED COMPILATION) #2', 0), ('Jordan Peterson debate on the gender pay gap, campus protests and postmodernism', 1), ('Jordan Peterson: “There was plenty of motivation to take me out. It just didn\\'t work\" | British GQ', 2), ('Sam Harris & Jordan Peterson in Vancouver - Part 1 - Presented by Pangburn (CC: Arabic & Spanish)', 3)]\n",
      "[('FEMINISM VS LOGIC (OWNED COMPILATION) #2', 0), ('Women Can Make Anything An Insult. K-Von - Full Special', 1), ('Jordan Peterson: “There was plenty of motivation to take me out. It just didn\\'t work\" | British GQ', 2), ('Sam Harris & Jordan Peterson in Vancouver - Part 1 - Presented by Pangburn (CC: Arabic & Spanish)', 3)]\n",
      "--------------\n",
      "[('FEMINISM VS LOGIC (OWNED COMPILATION) #2', 0), ('Jordan Peterson on Gender, Patriarchy and the Slide Towards Tyranny', 1), ('Dr. Jordan B Peterson on Femsplainers', 2)]\n",
      "[('FEMINISM VS LOGIC (OWNED COMPILATION) #2', 0), ('Jordan Peterson on Gender, Patriarchy and the Slide Towards Tyranny', 1), ('Jordan B Peterson on masculinity and the plight of young men | BBC Sounds', 2)]\n",
      "--------------\n",
      "[('FEMINISM VS LOGIC (OWNED COMPILATION) #2', 0), ('Women Can Make Anything An Insult. K-Von - Full Special', 1), ('Junk- Cars And Valet Parking. Chad Thornsberry - Full Special', 2)]\n",
      "[('FEMINISM VS LOGIC (OWNED COMPILATION) #2', 0), ('Women Can Make Anything An Insult. K-Von - Full Special', 1), ('Jordan Peterson: “There was plenty of motivation to take me out. It just didn\\'t work\" | British GQ', 2)]\n",
      "--------------\n",
      "[('FEMINISM VS LOGIC (OWNED COMPILATION) #2', 0), ('Jordan Peterson on Gender, Patriarchy and the Slide Towards Tyranny', 1), ('Jordan B. Peterson on 12 Rules for Life', 2), (\"Jordan Peterson's Life Advice Will Change Your Future (MUST WATCH)\", 3)]\n",
      "[('FEMINISM VS LOGIC (OWNED COMPILATION) #2', 0), ('Jordan Peterson debate on the gender pay gap, campus protests and postmodernism', 1), ('Jordan B. Peterson on 12 Rules for Life', 2), (\"Jordan Peterson's Life Advice Will Change Your Future (MUST WATCH)\", 3)]\n",
      "--------------\n"
     ]
    }
   ],
   "source": [
    "for i, v in zip((creators.value_counts(sort=True)).index, (creators.value_counts(sort=True)).values):\n",
    "    if v > 1:\n",
    "        res = anytree.search.findall(root, filter_=lambda node: node.id == i)\n",
    "        for r in res:\n",
    "            print([(an.title, an.depth) for an in r.ancestors])\n",
    "        print('--------------')"
   ],
   "metadata": {
    "collapsed": false,
    "pycharm": {
     "name": "#%%\n"
    }
   }
  }
 ],
 "metadata": {
  "kernelspec": {
   "display_name": "Python 3",
   "language": "python",
   "name": "python3"
  },
  "language_info": {
   "codemirror_mode": {
    "name": "ipython",
    "version": 2
   },
   "file_extension": ".py",
   "mimetype": "text/x-python",
   "name": "python",
   "nbconvert_exporter": "python",
   "pygments_lexer": "ipython2",
   "version": "2.7.6"
  }
 },
 "nbformat": 4,
 "nbformat_minor": 0
}